{
 "cells": [
  {
   "cell_type": "markdown",
   "id": "5dbbfbf1-bcfd-461b-b235-15460083978c",
   "metadata": {},
   "source": [
    "<h1 style=\"text-align: center; color : #f31567; font-family: Comic Sans MS;\">\n",
    "    Analytic Model for Light Yield Estimation version 2.0\n",
    "<!-- <span style= 'color : #f31567'> Analytic Model for Light Yield Estimation version 2.0 </span>  -->\n",
    "<!-- <span style= 'color : #f31567'> Analytic Model for Estimating Light Collection Efficiency Version 2.0 </span>  -->\n",
    "</h1>\n",
    "<hr>\n",
    "<br>\n",
    "<p style='color : #9932CC;  font-size: 16pt; font-family: Comic Sans MS;'>\n",
    "    Story so far.. :\n",
    "<span style= 'color : silver; text-align: center;font-family: Comic Sans MS;'> This notebook is written to implement Segreto model.\n",
    "    <ol style = 'font-family: consolas;'>\n",
    "       <li> It has the provision to include the Rayleigh scattering and absorption. ✅</li> \n",
    "       <li> renamed few variables to be compliant with Segreto's paper. ✅</li>\n",
    "       <li> I will add additional terms later for the configuration where even SiPM is covered with WLS. ✅</li>\n",
    "       <li> default value Q_vis = 1</li>\n",
    "        <li> default value Q_vuv = 1</li>\n",
    "        <li> default value $\\epsilon_{wls} = 1 $</li>\n",
    "        <li> default value SY=40</li>\n",
    "        <li> throughout this notebook the unit of length is m</li>\n",
    "        <li> we have a serious problem when f_sen =1, LY =0 which shouldn't be the case. Should we include SiPM PDE in VUV range \n",
    "            <span style = 'color: orange'> [awaiting Marcin's response] </span> </li>\n",
    "        <li> check out why Segreto has a weird way of extrapolating his model when number of SiPM > 1 </li>\n",
    "        <li> what is WLS's reflectance to VUV</li>\n",
    "        <li> We are not accounting for absorption of Visible light in WLS coated over SiPM, obviously without ESR its reflectance will drop and it will allow visible photon to pass more freely but absorption and reflectance could still be significant. To fix this we should use reflectance values of WLS coupled with SiPM.<p style = 'color: orange;'> Ask Marcin. </p></li>\n",
    "        <li> Confirm TPC and Titanium Vessel dimensions <p style = 'color: orange;'> Ask Marcin. </p></li>\n",
    "        <li> </li>\n",
    "        <li> </li>\n",
    "        <li> </li>\n",
    "        <li> </li>\n",
    "    </ol>\n",
    "\n",
    "</span> \n",
    "<!-- </p> -->\n",
    "\n",
    "<span style = 'color:tomato; text-align: left; font-family: Comic Sans MS;'> \n",
    "    Relevant Documentation: \n",
    "<a href=\"https://www.overleaf.com/read/vpkvkgpfqwst\">https://www.overleaf.com/read/vpkvkgpfqwst</a>\n",
    "    \n",
    "<!-- \n",
    "$$\n",
    "LCE = \\frac{X}{1-(s+w)} \n",
    "$$\n",
    "<br>\n",
    "$$ LCE = \\frac{f_{sen}FF_{sys}(1-R)}{1-( f_{sen}R + (1-f_{sen})R_{wall} )} $$ -->\n",
    "<br>\n",
    "    Relevant Documentations: \n",
    "<a href=\"https://arxiv.org/pdf/1110.6370.pdf\">Segreto 2012</a>    \n",
    "\n",
    "<br>\n",
    "    Research Notes: \n",
    "<a href=\"https://docs.google.com/document/d/1k-8OMUld0fGFGO-Om6wp_pJkQwOL-QxgrfYoKsZIPF4/edit\">Google Docs link </a>\n",
    "    \n",
    "</span>\n",
    "</p>"
   ]
  },
  {
   "cell_type": "code",
   "execution_count": 1,
   "id": "c28a50b2-f2c1-4080-b59f-0c42ef93c089",
   "metadata": {},
   "outputs": [],
   "source": [
    "from os import path\n",
    "import numpy as np\n",
    "import pandas as pd\n",
    "import math\n",
    "import matplotlib.pyplot as plt\n",
    "from scipy.interpolate import interp1d\n",
    "%matplotlib inline\n",
    "# %matplotlib qt"
   ]
  },
  {
   "cell_type": "code",
   "execution_count": 2,
   "id": "f3e1b8d6-0881-4127-a9ee-b96f5c4f1cd2",
   "metadata": {},
   "outputs": [
    {
     "data": {
      "text/html": [
       "<!--- html styling for Jupyter Dark Theme---!>\n",
       "<style>\n",
       ".CodeMirror-focused .CodeMirror-selected { background: none; }\n",
       ".CodeMirror-focused .CodeMirror-selectedtext { background: #FF0088; } \n",
       ".CodeMirror-selected { background:  grey; }\n",
       "</style>\n",
       "<!--- greenish #00FF88 ; pinkish #FF0088 ; turquoise---!>\n"
      ],
      "text/plain": [
       "<IPython.core.display.HTML object>"
      ]
     },
     "metadata": {},
     "output_type": "display_data"
    }
   ],
   "source": [
    "%%html\n",
    "<!--- html styling for Jupyter Dark Theme---!>\n",
    "<style>\n",
    ".CodeMirror-focused .CodeMirror-selected { background: none; }\n",
    ".CodeMirror-focused .CodeMirror-selectedtext { background: #FF0088; } \n",
    ".CodeMirror-selected { background:  grey; }\n",
    "</style>\n",
    "<!--- greenish #00FF88 ; pinkish #FF0088 ; turquoise---!>"
   ]
  },
  {
   "cell_type": "markdown",
   "id": "c213ec30-8eda-4629-8af1-caf0d30dd1bb",
   "metadata": {},
   "source": [
    "<h2 style = 'color:#66AAEE; font-size: 20pt; text-align: center;'>\n",
    "    Data loading & Pre-processing\n",
    "</h2>\n",
    "\n",
    "<p style ='color: silver; font-size: 14pt'> project directory is defined in the following cell; it will remain same through out the notebook.\n",
    "</p>\n",
    "<p style ='color: silver; font-size: 14pt'>PS:  The preprocessing is different for each file depending on its data structure.\n",
    "</p>"
   ]
  },
  {
   "cell_type": "markdown",
   "id": "d01a8499-df7c-4cd7-a64f-7a4cbe59948d",
   "metadata": {},
   "source": [
    "<h3 > ✏ <span style = 'color: #7bc5ef; '> Project Directory </span>\n",
    "</h3>"
   ]
  },
  {
   "cell_type": "code",
   "execution_count": 3,
   "id": "5a09dd94-b447-4cd5-b687-2e961128fcc4",
   "metadata": {},
   "outputs": [],
   "source": [
    "### define project directory\n",
    "project_dir = r'C:\\Users\\sarth\\projects\\LY_Analytic_Model'; "
   ]
  },
  {
   "cell_type": "markdown",
   "id": "0b63c768-86d0-4c54-aac3-98ac44b255ce",
   "metadata": {},
   "source": [
    "<h3 style = 'text-align: left;  color:magenta; font-family: courier prime; font-size:16pt;'>\n",
    "     SiPM Reflectance data\n",
    "</h3>\n",
    "<!-- <p>\n",
    "    SiPM Reflectance .dat file provided by Cenk\n",
    "    <br>\n",
    "    <span style = 'color: #FF6611; font-size: 18px'> Note: </span> \n",
    "    SiPM Reflectance is multiplied by 0.91 to take care of the effect of antireflective coating in Liquid Argon chamber (needs further investigtation)\n",
    "</p> -->"
   ]
  },
  {
   "cell_type": "code",
   "execution_count": 4,
   "id": "6096c228-d7a6-4e30-b563-7ac3241332fd",
   "metadata": {},
   "outputs": [],
   "source": [
    "R_SiPM_df = pd.read_csv(path.join(project_dir, 'Data','sipm_hr1_processed.txt'), sep = '\\t')  ## 'Data' is the name of the folder containing Data files\n",
    "R_SiPM = R_SiPM_df.copy()\n",
    "R_SiPM['R'] = [int(value)/100 for value in R_SiPM_df['R']]\n",
    "\n",
    "## cenk's data files for darkside veto are given below\n",
    "\n",
    "# cenk_SiPM_R_df = pd.read_csv(path.join(project_dir, 'Data','SiPM_ref.csv'), sep = ',')\n",
    "# # cenk_SiPM_R_values = cenk_SiPM_R_vector.copy()\n",
    "# # cenk_R_SiPM_values['R'] = [int(value)/100 for value in cenk_R_SiPM_vector['R']]\n",
    "# cenk_SiPM_R_df2 = cenk_SiPM_R_df.copy()\n",
    "# cenk_SiPM_R_df2['LAr_equivalent_Reflectance'] = cenk_SiPM_R_df2['R']*0.91 \n",
    "\n",
    "# ### Note: SiPM is coated with an unknown anti-reflection coating\n",
    "# ### 0.91 : To get the unknown reflectivity of SiPM in Liquid Argon. Since SiPM is also coated with an anti reflection coating, getting the equivalent \n",
    "# ### reflectance is not straight forward. 0.91 is based on an educated guess.\n",
    "\n",
    "# cenk_SiPM_R_df2['wavelength'] = 1239.847/cenk_SiPM_R_df2['E'] # Eneergy unit eV wavlength Unit: nm\n",
    "# # SiPM_ref.dat\n",
    "# # cenk_SiPM_R_df3 = cenk_SiPM_R_df2.sort_values(by = 'wavelength')"
   ]
  },
  {
   "cell_type": "code",
   "execution_count": 5,
   "id": "518a99c4-b6d8-4950-a8ad-a65ea2292b86",
   "metadata": {},
   "outputs": [],
   "source": [
    "# cenk_SiPM_R_df2.head()"
   ]
  },
  {
   "cell_type": "code",
   "execution_count": 6,
   "id": "36acc85e-a6a8-4cb4-a714-50d36796cc03",
   "metadata": {},
   "outputs": [],
   "source": [
    "# plt.figure()\n",
    "# plt.plot(cenk_SiPM_R_df2['wavelength'], cenk_SiPM_R_df2['R'])\n",
    "# plt.plot(SiPM_R_values['Wavelength'], SiPM_R_values['R'])"
   ]
  },
  {
   "cell_type": "markdown",
   "id": "b53f90ac-4f9a-4ee5-9a68-75ff2838e418",
   "metadata": {},
   "source": [
    "<h3 style = 'text-align: left;  color:magenta; font-family: courier prime; font-size:16pt;'> \n",
    "    SiPM PDE data\n",
    "</h3>\n",
    "<p>\n",
    "    Caustion : when using FBK PDE values, normalize with 40/52.77\n",
    "    Marcin: normalize LFoundry values as well. After normalizaton maximum value should be  40.\n",
    "</p>"
   ]
  },
  {
   "cell_type": "code",
   "execution_count": 7,
   "id": "c2f4c381-f7be-44ed-bbf2-31883e5f9c53",
   "metadata": {},
   "outputs": [],
   "source": [
    "### FBK Values sent by cenk\n",
    "# photon_wavelength = [285.87, 301.14, 320.99, 340.83, 365.26, 380.53, 391.22, 400.38, 411.06, 420.22, 435.49, 449.23, 464.50, 499.61, 588.16, 698.09]\n",
    "# PDE_vector = [18.39, 37.24, 41.87, 42.43, 45.03, 48.12, 52.72, 52.75, 52.77, 52.29, 48.77, 46.26, 40.71, 38.76, 28.82, 18.93] # %age values\n",
    "# PDE_normalized_vector = []\n",
    "### Normalizing PDE values in FBK data as instructed by Cenk\n",
    "# PDE_normalized_vector = [value*40/max(PDE_vector) for value in PDE_vector]\n",
    "## PDE_normalized_vector\n",
    "# norm_PDE_values = [value/100 for value in PDE_normalized_vector]\n",
    "\n",
    "### LFoundry PDE Values sent by Cenk\n",
    "photon_wavelength = [365.39, 390.34, 399.89, 409.98, 420.06, 434.93, 450.32, 500.21, 525.16, 545.33, 590.98, 630.25, 700.32]\n",
    "PDE_vector = [43.277, 51.892, 54.257, 52.399, 50.709, 46.993, 42.601, 36.014, 30.439, 28.581, 24.358, 20.473, 15.574]\n",
    "# Normalization for PDE values \n",
    "norm_PDE_values = [value*40/(100* max(PDE_vector)) for value in PDE_vector]\n",
    "\n",
    "\n",
    "frame = {'photon_wavelength':photon_wavelength, 'PDE_norm': norm_PDE_values}\n",
    "\n",
    "PDE = pd.DataFrame(frame)\n",
    "\n",
    "# max(PDE['PDE_norm'])"
   ]
  },
  {
   "cell_type": "markdown",
   "id": "58c48add-95e3-4a38-9ceb-d842b77b4fa2",
   "metadata": {},
   "source": [
    "<h3 style = 'text-align: left;  color:magenta; font-family: courier prime; font-size:16pt;'>\n",
    "   PEN Reflectance Data \n",
    "</h3>\n",
    "<!-- <p>\n",
    "<span style= 'color: red; font-size : 22px'>  Needs verification !!! \n",
    "</span>\n",
    "</p> -->"
   ]
  },
  {
   "cell_type": "code",
   "execution_count": 8,
   "id": "59fa6b04-0ee5-4551-a6cf-4f0b40025a27",
   "metadata": {},
   "outputs": [],
   "source": [
    "## R_wall_PEN = \n",
    "PEN_photon_energy = [0.1, 2.067,2.175,2.214,2.255,2.340,2.385,2.431,2.436,2.531,2.583,2.638,2.696,2.725,2.756,2.787,2.818,\n",
    "2.884,2.918,2.952,2.988,3.024,3.039,3.047,3.054,3.062,3.069,3.077,3.085,3.092,3.100,3.108,3.116,3.123,3.131,3.139,3.147,3.155,\n",
    "3.163,3.171,3.179,3.188,3.196,3.204,3.212,3.221,3.263, 8.0] ## energy in eV\n",
    "\n",
    "PEN_reflectance = [100.130, 100.130,99.995,99.856,99.681,99.659,99.569,99.351,99.306,99.018,98.652,98.415,98.283,\n",
    "98.018,97.856,97.606,97.457,97.134,96.928,96.827,96.247,95.737,95.359,95.197,95.048,94.876,94.684,94.463,94.055,93.650,93.147,\n",
    "92.562,91.812,90.904,89.807,88.506,86.957,85.242,83.156,80.678,77.811,74.615,71.004,67.089,62.924,58.670,20.000, 20.000] ## %age reflectance\n",
    "\n",
    "# PEN_reflectance = [reflectance*0.98/100 for reflectance in PEN_reflectance] \n",
    "PEN_reflectance = [reflectance*0.98*0.994/100 for reflectance in PEN_reflectance] \n",
    "\n",
    "### Reflectance is multiplied by 0.98 and 0.994 for calibration purpose:\n",
    "    ### 1. 0.98 is the reflectance of Basrium Sulphate used as the standard in photo spectrometer\n",
    "    ### 2. The second factor is specific to 2PAC. 0.994 is the coverage fraction of Wavelength Shifting material (a small surface coverage is lost to holes, bolts etc in 2PAC)\n",
    "### The calculation is very senstitive to Reflectance\n",
    "\n",
    "\n",
    "photon_wavelength = []\n",
    "\n",
    "for energy_value in PEN_photon_energy:\n",
    "    wavelength_value = 1239.847/energy_value\n",
    "    photon_wavelength.append(wavelength_value)\n",
    "\n",
    "frame = {'photon_wavelength': photon_wavelength,\n",
    "        'PEN_reflectance': PEN_reflectance}\n",
    "\n",
    "R_Wall_PEN = pd.DataFrame(frame)\n",
    "\n",
    "## reverse the order of wavelength smaller to bigger\n",
    "R_Wall_PEN = R_Wall_PEN.iloc[::-1]\n",
    "\n",
    "# R_Wall_PEN"
   ]
  },
  {
   "cell_type": "markdown",
   "id": "28f85991-20df-4d19-ab94-b9d93c4db3b9",
   "metadata": {
    "tags": []
   },
   "source": [
    "<h3 style = 'text-align: left;  color:magenta; font-family: courier prime; font-size:16pt;'> PEN Emission Spectrum </h3>"
   ]
  },
  {
   "cell_type": "code",
   "execution_count": 9,
   "id": "8eadc5ee-9dfb-4df1-b4c0-fcbd88b9ad1e",
   "metadata": {},
   "outputs": [],
   "source": [
    "# r_PEN = r'D:\\D Downloads\\Current_work\\pen-tess.txt'\n",
    "r_PEN = path.join(project_dir, 'Data', 'pen-tess.txt')\n",
    "emission_spectrum_PEN = pd.read_csv(r_PEN, sep ='\\t')\n",
    "\n",
    "E_PEN = emission_spectrum_PEN.drop(['a','b','c'], axis=1)\n",
    "\n",
    "# E_PEN\n",
    "\n",
    "# normalize : divide by maximum value\n",
    "E_PEN['efficiency'] = E_PEN['efficiency']/max(E_PEN['efficiency'] ) \n",
    "\n",
    "# remove negative values\n",
    "E_PEN = E_PEN[E_PEN > 0].dropna()\n",
    "# E_PEN['efficiency']\n",
    "## What are the units of efficiency? Normalize PEN Spectrum ??\n",
    "## Remove negative values?\n",
    "## Need linear interpolation for everyuthing R, R_Wall, PDE and emission spectrum"
   ]
  },
  {
   "cell_type": "markdown",
   "id": "443053c7-0c88-4f9f-a2b7-b19f1f7460df",
   "metadata": {},
   "source": [
    "<h3 style = 'text-align: left;  color:magenta; font-family: courier prime; font-size:16pt;'> TPB Reflectance data \n",
    "</h3>"
   ]
  },
  {
   "cell_type": "code",
   "execution_count": 10,
   "id": "70849bd4-fcfd-44fb-9503-6167c61fa237",
   "metadata": {},
   "outputs": [],
   "source": [
    "TPB_photon_energy = [0.1, 2.067,2.175,2.214,2.255,2.340,2.385,2.431,2.436,2.531,2.583,2.638,2.696,2.725,2.756,2.787,2.818,2.884,2.918,2.952,2.988,3.024, 3.221,3.263, 8.0]\n",
    "TPB_reflectance = [98.936,98.936,99.180,99.309,99.375,99.392,99.534,99.490,99.491,99.685,99.635,99.593,99.541,99.457,99.380,99.374,99.196,98.924,98.521,97.653,95.581,92.569,13.0,3.0,3.0]\n",
    "\n",
    "photon_wavelength = []\n",
    "\n",
    "# TPB_reflectance = [reflectance*0.98/100 for reflectance in TPB_reflectance]\n",
    "TPB_reflectance = [reflectance*0.98*0.994/100 for reflectance in TPB_reflectance]\n",
    "\n",
    "### Reflectance is multiplied by 0.98 and 0.994 for calibration purpose:\n",
    "    ### 1. 0.98 is the reflectance of Basrium Sulphate used as the standard in photo spectrometer\n",
    "    ### 2. The second factor is specific to 2PAC. 0.994 is the coverage fraction of Wavelength Shifting material (a small surface coverage is lost to holes, bolts etc in 2PAC)\n",
    "### The calculation is very senstitive to Reflectance\n",
    "\n",
    "for energy_value in TPB_photon_energy:\n",
    "    wavelength_value = 1239.847/energy_value\n",
    "    photon_wavelength.append(wavelength_value)\n",
    "\n",
    "frame = {'photon_wavelength': photon_wavelength,\n",
    "        'TPB_reflectance': TPB_reflectance}\n",
    "\n",
    "R_Wall_TPB = pd.DataFrame(frame)\n",
    "\n",
    "## reverse the order of wavelength smaller to bigger\n",
    "R_Wall_TPB = R_Wall_TPB.iloc[::-1]\n",
    "\n",
    "# R_Wall_TPB"
   ]
  },
  {
   "cell_type": "markdown",
   "id": "8617968f-c314-4fff-baed-f404c1dc8a40",
   "metadata": {},
   "source": [
    "<h3 style = 'text-align: left;  color:magenta; font-family: courier prime; font-size:16pt'> TPB Emission Spectrum </h3>"
   ]
  },
  {
   "cell_type": "code",
   "execution_count": 11,
   "id": "c0a80fa2-6408-4139-a518-02fff193aa25",
   "metadata": {},
   "outputs": [],
   "source": [
    "#### why do we have negative values?\n",
    "#### Might need to clean data\n",
    "## drop negative values\n",
    "## normalize efficiency\n",
    "\n",
    "# r_TPB = r'D:\\D Downloads\\Current_work\\tpb-fran.txt'\n",
    "r_TPB = path.join(project_dir, 'Data','tpb-fran.txt')\n",
    "emission_spectrum_TPB = pd.read_csv(r_TPB, sep ='\\t')\n",
    "\n",
    "E_TPB = emission_spectrum_TPB.drop(['a','b','c','d'], axis=1)\n",
    "# E_TPB"
   ]
  },
  {
   "cell_type": "markdown",
   "id": "d9437b4b-4f49-4608-935b-b820169daa34",
   "metadata": {},
   "source": [
    "<p style = 'color:slate'> Click here to see a warning </p>\n",
    "<!-- Warning: TPB data has negative values -->"
   ]
  },
  {
   "cell_type": "code",
   "execution_count": 12,
   "id": "cc7511e9-4201-45d8-864a-804b8dca38ac",
   "metadata": {},
   "outputs": [],
   "source": [
    "# normalize : divide by maximum value\n",
    "E_TPB['efficiency'] = E_TPB['efficiency']/max(E_TPB['efficiency'] ) \n",
    "# remove negative values\n",
    "E_TPB = E_TPB[E_TPB > 0].dropna()\n",
    "\n",
    "# E_TPB\n"
   ]
  },
  {
   "cell_type": "markdown",
   "id": "9144a4d8-d496-4bbc-a1df-4f10ea40d51a",
   "metadata": {
    "tags": []
   },
   "source": [
    "<h3 style = 'color:deeppink'> Smoothing function </h3>"
   ]
  },
  {
   "cell_type": "code",
   "execution_count": 13,
   "id": "7055ffb6-b807-42f6-8bf3-9ba9b5cead99",
   "metadata": {},
   "outputs": [],
   "source": [
    "### variable name 'photon_wavelength' is NOT hard coded for all the data frames.\n",
    "def make_smooth(data_frame_var):\n",
    "    name_column_0 = data_frame_var.columns[0]\n",
    "    name_column_1 = data_frame_var.columns[1]\n",
    "    \n",
    "    photon_wavelength = data_frame_var[name_column_0]\n",
    "    physical_quantity = data_frame_var[name_column_1]\n",
    "    \n",
    "    interpol_func = interp1d(photon_wavelength , physical_quantity)\n",
    "    return  interpol_func(wavelength_vector)"
   ]
  },
  {
   "cell_type": "markdown",
   "id": "d91dffe9-1c55-41e2-9bc2-15461824aa5c",
   "metadata": {},
   "source": [
    "<h3> \n",
    "✏ <b style = \"font-size:18pt; font-family: courier prime; color: #7bc5ef;\"> Define Wavelength range </b>\n",
    "\n",
    "</h3>\n",
    "<br>\n",
    "<p style = 'color:silver'>\n",
    "    wavelength_vector is common throughout the notebook.\n",
    "</p>"
   ]
  },
  {
   "cell_type": "code",
   "execution_count": 14,
   "id": "575f7db5-61fe-43ed-94de-5f2667b195e6",
   "metadata": {},
   "outputs": [],
   "source": [
    "wavelength_vector = np.arange(366, 560, 0.5)  ### do we want to hard code wavelength range?"
   ]
  },
  {
   "cell_type": "code",
   "execution_count": 15,
   "id": "e6aae949-ed45-4a3c-ad72-cc148c472784",
   "metadata": {},
   "outputs": [],
   "source": [
    "### call smoothing functions here\n",
    "R_SiPM_smooth = make_smooth(R_SiPM)\n",
    "\n",
    "R_Wall_PEN_smooth = make_smooth(R_Wall_PEN)\n",
    "\n",
    "R_Wall_TPB_smooth = make_smooth(R_Wall_TPB)\n",
    "\n",
    "PDE_smooth = make_smooth(PDE)\n",
    "\n",
    "E_PEN_smooth = make_smooth(E_PEN)\n",
    "\n",
    "E_TPB_smooth = make_smooth(E_TPB)   "
   ]
  },
  {
   "cell_type": "markdown",
   "id": "9fe9ed49-e22e-49de-a3f2-543b73038b13",
   "metadata": {},
   "source": [
    "<h2 style= 'text-align: center; font-size:24pt'>\n",
    "    <span style  = 'color: gold'> Wavelength integrated LY with Absorbtion and Rayleigh Scattering effects</span>\n",
    "</h2>"
   ]
  },
  {
   "cell_type": "markdown",
   "id": "633872ce-b0dc-4206-b79d-f341d57ecde0",
   "metadata": {},
   "source": [
    "<h3 style = 'color: DeepPink '> calculating $Q$ factor\n",
    "</h3>"
   ]
  },
  {
   "cell_type": "markdown",
   "id": "13146ea7-3b0a-4d00-909e-9e380a7872c2",
   "metadata": {},
   "source": [
    "<span style ='color:lime; font-size:14pt;' >\n",
    "$$\n",
    "Q = \\frac{1- (1 - U_{RA}) \\times \\frac{\\lambda_{eff}}{\\lambda_{R}}}{U_{RA}}\n",
    "$$\n",
    "</span>"
   ]
  },
  {
   "cell_type": "code",
   "execution_count": 16,
   "id": "88bbbbe9-92f6-4f02-9692-0c2066cb020b",
   "metadata": {},
   "outputs": [],
   "source": [
    "from sympy import Symbol, exp, integrate\n",
    "\n",
    "x = Symbol('x')\n",
    "\n",
    "## L_char is basically what L tilde is in segreto paper\n",
    "\n",
    "## lambda_eff is basically lambda tilde in segreto paper\n",
    "\n",
    "def calc_lambda_eff(lambda_abs, lambda_R):\n",
    "    ''' Calculates effective lambda for Rayleigh scattering and Absorption.\n",
    "    Unit of length: m\n",
    "    '''\n",
    "    return (lambda_R*lambda_abs)/(lambda_R + lambda_abs)\n",
    "\n",
    "def P_func(L_char, lambda_eff):\n",
    "    ''' \n",
    "    P_func: P(x) is the probability distribution of the distances that a photon would travel in absence of interactions (between two reflections or between a reflection and absorption/detection).\n",
    "    The P_func can be changed later if it is felt that we need a different probability distribution function. \n",
    "    '''\n",
    "    return 1/(L_char)\n",
    "\n",
    "def calc_URA(L_char, lambda_eff, Prob_distr):\n",
    "    return integrate( Prob_distr*exp(-x/lambda_eff), (x, 0, L_char))\n",
    "\n",
    "def calc_Q( L_char,  lambda_abs, lambda_R):\n",
    "    ''' \n",
    "    This function is used to compute Q factor for both visible and VUV photons.\n",
    "    Note:\n",
    "    We'll call calc_URA since URA is wavelength dependent. We'll also make a call to P_func for the same reason.\n",
    "    '''\n",
    "    lambda_eff = calc_lambda_eff(lambda_abs, lambda_R)\n",
    "    \n",
    "    Pdf = P_func(L_char, lambda_eff); # Probability distribution function\n",
    "    \n",
    "    URA_value = float(calc_URA(L_char, lambda_eff, Pdf));\n",
    "    \n",
    "    return (1-(1-URA_value)*lambda_eff/lambda_R)/(URA_value)"
   ]
  },
  {
   "cell_type": "markdown",
   "id": "d4737a63-e637-462b-8b7d-9a5308a5c617",
   "metadata": {},
   "source": [
    "<h3 style = 'color:deeppink;'> Calculating characteristic length </h3>\n",
    "<p style = 'color:lime; font-size:14pt'>\n",
    "$$ L\\_char = 6\\times \\frac{volome}{surface\\_area}\n",
    "$$\n",
    "</p>"
   ]
  },
  {
   "cell_type": "code",
   "execution_count": 17,
   "id": "c856f08e-9324-44d8-835f-22307c253ac9",
   "metadata": {},
   "outputs": [],
   "source": [
    "def calc_length(area, volume):\n",
    "    return 6*volume/area"
   ]
  },
  {
   "cell_type": "markdown",
   "id": "78c5a75f-d22a-4a74-95a0-d1e15a04b5f0",
   "metadata": {},
   "source": [
    "<h3 style = 'color:DeepPink;'>  Calculating $F $\n",
    "</h3>\n",
    "\n",
    "<span style = 'color : lime;  font-size:14pt;'>\n",
    "\n",
    "$$ F( Q, f_{sen}FF_{sys}(1-R), f_{sen}R + (1-f_{sen} )R_{wall} ) = \\frac{f_{sen}FF_{sys}(1-\\color{Red}R)}{\\color{Red}Q-( f_{sen}\\color{Red}R + (1-f_{sen})\\color{Red}{R_{wall}} )} $$\n",
    "\n",
    "</span>\n",
    "\n",
    "<span style = 'color : lime;  font-size:14pt;'>\n",
    "\n",
    "$$ F(Q,X, s + w) = \\frac{X}{Q-(s+w)} $$\n",
    "\n",
    "</span>"
   ]
  },
  {
   "cell_type": "code",
   "execution_count": 18,
   "id": "95d986f6-d7c7-4279-8808-f1fc21067970",
   "metadata": {},
   "outputs": [],
   "source": [
    "def calc_F(R, R_wall, f_sen, FF_sys, Q_value):    \n",
    "    '''\n",
    "    R, R_wall are all wavelength dependent. Q_value is provided as an argument.\n",
    "    '''\n",
    "    return (f_sen*FF_sys*(1-R))/(Q_value - (f_sen*R + (1-f_sen)*R_wall) )"
   ]
  },
  {
   "cell_type": "markdown",
   "id": "6a455c95-eedc-48e5-8938-dd2189e6274d",
   "metadata": {},
   "source": [
    "<h3 style = 'color: DeepPink '> Calculating Light Collection Efficiency, $LCE$\n",
    "</h3>\n",
    "\n",
    "<br>\n",
    "<p style = 'color:lightgreen; font-size: 14pt'> When SiPM is not covered with WLS.\n",
    "<span style = 'color:lime;  font-size:14pt;'> \n",
    "    $$\n",
    "    LCE = \\frac{(1-f_{sen}) \\times \\epsilon_{wls} \\times \\color{Red}{F(Q_{vis}, X, s+w)}}{Q_{VUV}}\n",
    "    $$\n",
    "</span>\n",
    "</p>\n",
    "<br>\n",
    "\n",
    "<br>\n",
    "<p style = 'color:lightgreen; font-size: 14pt'> When SiPM is covered with WLS.\n",
    "    <br>\n",
    "    In this case, R_SiPM will simply be the reflectance of WLS coupled with SiPM. \n",
    "    <br>\n",
    "    Stack : WLS | SiPM  </p>\n",
    "<span style = 'color:lime;  font-size:14pt;'> \n",
    "<br>\n",
    "    $$\n",
    "    LCE = \\frac{0.5 \\times (1-R) \\times f_{sen} \\times \\epsilon_{wls} + (1-0.5 \\times f_{sen}) \\times \\epsilon_{wls} \\times \\color{Red}{F(Q_{vis}, X, s+w)}}{Q_{VUV}}\n",
    "    $$\n",
    "</span>\n",
    "<br>"
   ]
  },
  {
   "cell_type": "code",
   "execution_count": 19,
   "id": "261993aa-928a-4d30-9506-b5553a34a391",
   "metadata": {},
   "outputs": [],
   "source": [
    "def calc_LCE(R, R_wall, f_sen, FF_sys, wls_eff, Q_vuv=1, Q_vis=1, SiPM_covered = False):\n",
    "    ''' calc_LCE requires Q_vis and Q_vuv values as arguments. Both are set at default value of 1.\n",
    "    Though Absorption and Rayleigh scattering lengths will be dependent on wavelength,\n",
    "    currently we don't have accurate meansurements of these values for different wavelengths.\n",
    "    Hence we will be using an average value for entire visible spectrum and another value for VUV (remember VUV photon has a single wavelength).\n",
    "    In case accurate values of absorption and scattering lengths become available I will need to modify the Q_vis accordingly.\n",
    "    Side note: Q_vis and Q_vuv are provided as arguments to the function integrate_LY.\n",
    "    New!!! calc_LCE has additional Arguement SiPM_covered. \n",
    "    Note by default LCE is calculated for the case when SiPM is not covered with WLS.\n",
    "    '''\n",
    "    if SiPM_covered == False:\n",
    "        return (1-f_sen)*wls_eff*calc_F(R, R_wall, f_sen, FF_sys, Q_vis)/(Q_vuv)\n",
    "    elif SiPM_covered == True:\n",
    "        return (wls_eff/Q_vuv)*( (1-R)*f_sen/2 + (1-0.5*f_sen)*calc_F(R, R_wall, f_sen, FF_sys, Q_vis) )\n",
    "    "
   ]
  },
  {
   "cell_type": "markdown",
   "id": "225240d3-49ef-4e71-87b6-8d94cd776522",
   "metadata": {},
   "source": [
    "<h3 style = 'color: DeepPink; text-align:center; font-size:24pt; '> 🍕 integrate Light Yield\n",
    "</h3>\n",
    "<!-- <p>\n",
    "Previously known as Weighted Average of Light Yield \n",
    "</p> -->\n",
    "\n",
    "<!-- <p> \n",
    "<span style = 'color : #5EA9E5;'> \n",
    "<br>\n",
    "% $$\n",
    "% integrate\\_LY = \\frac{\\sum( [LY\\_value(\\color{red}{PDE(\\lambda)}, f_{sen}, FF_{sys}, \\color{red}{R(\\lambda)}, \\color{red}{R_{wall}(\\lambda)}, \\color{red}{Q(\\lambda)}, \\epsilon_{wls} ) ] * \\color{red}{E_{wls}(\\lambda)})}{\\sum \\color{red}{E_{wls}(\\lambda)}}\n",
    "% $$\n",
    "</span>\n",
    "<br>\n",
    "<br>\n",
    "<br>\n",
    "</p> -->\n",
    "\n",
    "<p> \n",
    "<span style = 'color : lime; font-size:14pt;'> \n",
    "<br>\n",
    "<br>\n",
    "$$\n",
    "integrate\\_LY = \\frac{SY* \\sum( [calc\\_LCE(f_{sen}, FF_{sys}, \\color{red}{R(\\lambda)}, \\color{red}{R_{wall}(\\lambda)}, \\color{red}{Q(\\lambda)}, \\epsilon_{wls}) ] * [ \\color{red}{PDE(\\lambda)} ] * [ \\color{red}{E_{wls}(\\lambda)} ] ) } {\\sum \\color{red}{E_{wls}(\\lambda)}}\n",
    "$$\n",
    "</span>\n",
    "<br>\n",
    "<br>\n",
    "<span style= ' font-size:14pt; text-align: left; color:lightgreen;'>\n",
    "PS: <span style = 'color:red; '>Red </span>--> wavelength dependent\n",
    "<br>\n",
    "    $E_{wls}$ is the emission spectrum of wavelength shifter.\n",
    "<br>\n",
    "    $\\epsilon_{wls}$ is the wavelength shifting efficiency. See variable wls_eff\n",
    "</span>\n",
    "</p>"
   ]
  },
  {
   "cell_type": "code",
   "execution_count": 20,
   "id": "d0b8e1c9-8237-4208-b6c5-bde31f445102",
   "metadata": {},
   "outputs": [],
   "source": [
    "# def integrate_LY(wavelength_range, WLS_emission_spectrum, PDE_smooth, R, R_wall, f_sen, FF_sys, SY=40): \n",
    "### think of a way so that we don't have to specify wavelength_vector from outside\n",
    "def integrate_LY(wavelength_vector, WLS_emission_spectrum, PDE_smooth, R, R_wall, f_sen, FF_sys = 1, Q_vis = 1, Q_vuv = 1, wls_eff = 1.0, SY = 40, SiPM_covered = False):\n",
    "    '''\n",
    "    wavelength_vector is defined outside this function. \n",
    "    𝜖_𝑤𝑙𝑠 represents the wavelength shifting efficiency of the WaveLength Shifter assigned to variable wls_eff.\n",
    "    '''\n",
    "    # wavelength_vector = np.arange(wavelength_range[0], wavelength_range[1], wavelength_range[2])\n",
    "    # wls_eff = 1.0\n",
    "    \n",
    "    numerator_value = 0 ;\n",
    "    denominator_value = 0 ;\n",
    "    \n",
    "    ### lambda R and abs values provided by Marcin\n",
    "    # Q_vis = calc_Q(L_char=1, lambda_abs=100, lambda_R=300) \n",
    "    # Q_vuv = calc_Q(L_char=1, lambda_abs=17, lambda_R=0.97)\n",
    "    ### in case where we use average values of lambda_abs & lambda_R for entire visible range\n",
    "    \n",
    "    # default values when we are ignoting Absorption and Rayleigh scattering effect\n",
    "    # Q_vuv = 1; \n",
    "    # Q_vis = 1;\n",
    "    \n",
    "    for wavelength_index in range(len(wavelength_vector)):\n",
    "        numerator_value += calc_LCE(R[wavelength_index], R_wall[wavelength_index], f_sen, FF_sys, wls_eff, Q_vis, Q_vuv, SiPM_covered) * PDE_smooth[wavelength_index] * WLS_emission_spectrum[wavelength_index];\n",
    "    denominator_value = sum(WLS_emission_spectrum)\n",
    "    return SY*numerator_value/denominator_value"
   ]
  },
  {
   "cell_type": "markdown",
   "id": "6637ea92-518b-4c30-aaeb-d2a2058c8e5f",
   "metadata": {},
   "source": [
    "<h5 style = 'color: RED; font-size: 14pt'> Notes: </h5>\n",
    "<p> Everything has been confirmed till this point for default case where Q=1. </p>"
   ]
  },
  {
   "cell_type": "markdown",
   "id": "77ab124b-6a54-4411-8077-6aa64d36287c",
   "metadata": {
    "tags": []
   },
   "source": [
    "<h1 style = 'color: #11EEAA; font-family: courier prime; font-size:28pt; text-align: center'> Application... </h1>\n",
    "<p style = 'color: orange'> we'll apply this model to different configuration of detectors and estimate their performance. \n",
    "<br>\n",
    "Perhaps we should start with Dark Side veto since Cenk has already worked on it so we'll have his monte carlo simulations to compare with.\n",
    "</p>"
   ]
  },
  {
   "cell_type": "markdown",
   "id": "4453e6ce-5dff-4cf2-b251-f36d0ed70f40",
   "metadata": {
    "tags": []
   },
   "source": [
    "<h2 style= 'color: orange'> 2PAC</h2>"
   ]
  },
  {
   "cell_type": "code",
   "execution_count": 21,
   "id": "b6f21cc5-6436-4dda-a2d9-ae5a5a7fe4d0",
   "metadata": {},
   "outputs": [],
   "source": [
    "### First we will calculate the characteristic length for 2PAC, Characteristic length as defined in Segreto paper\n",
    "area_2PAC = 2*np.pi*(0.0476/2)*(0.081) + 2*np.pi*(0.0476/2)**2 -2*(0.0079 * 0.0117)\n",
    "volume_2PAC = 0.081*np.pi*(0.0476/2)**2\n",
    "\n",
    "L_char_2PAC = calc_length(area_2PAC, volume_2PAC) ### unit: m"
   ]
  },
  {
   "cell_type": "markdown",
   "id": "f7f26998-a31e-4758-a6ca-2a31ebe4f8cf",
   "metadata": {},
   "source": [
    "<p style= 'color:red;'> Note:  <span style = 'color:yellow'> exact area of WLS inside 2PAC is hard to calculate </span></p>"
   ]
  },
  {
   "cell_type": "code",
   "execution_count": 22,
   "id": "7a464d45-9688-450b-b7e9-ebd31e6b8153",
   "metadata": {},
   "outputs": [],
   "source": [
    "# we don't know accurate area covered by WLS inside the 2PAC as there is some area wasted due to screws etc.\n",
    "f_sen_2PAC =  0.01176 ### value estimated by 2PAC team\n",
    "# wasted_area = ?\n",
    "# what f_sen would be if there was no wasted area 2*(0.0079 * 0.0117)/area_2PAC"
   ]
  },
  {
   "cell_type": "code",
   "execution_count": 23,
   "id": "dda418ac-400e-4498-b880-1b28d032452a",
   "metadata": {},
   "outputs": [],
   "source": [
    "### calculating Q for Argon filled 2PAC\n",
    "Q_vis_2PAC = calc_Q(L_char_2PAC, lambda_abs= 100, lambda_R= 300)\n",
    "Q_vuv_2PAC = calc_Q(L_char_2PAC, lambda_abs= 17, lambda_R= 0.97)"
   ]
  },
  {
   "cell_type": "markdown",
   "id": "397a95f8-7d49-443e-9f47-1e0ca4529267",
   "metadata": {},
   "source": [
    "<h4 style = 'color: yellow;'> <b style = 'font-family: Times New Roman; color : red; '> I. </b> When SiPM is not covered with WLS </h4>"
   ]
  },
  {
   "cell_type": "code",
   "execution_count": 24,
   "id": "8fdbf61c-fcdb-41c6-8ead-ca1c84c1a1d7",
   "metadata": {},
   "outputs": [
    {
     "data": {
      "text/plain": [
       "<matplotlib.legend.Legend at 0x2142ee4b310>"
      ]
     },
     "execution_count": 24,
     "metadata": {},
     "output_type": "execute_result"
    },
    {
     "data": {
      "image/png": "[encoded data removed]",
      "text/plain": [
       "<Figure size 432x288 with 1 Axes>"
      ]
     },
     "metadata": {
      "needs_background": "light"
     },
     "output_type": "display_data"
    }
   ],
   "source": [
    "# F_sen value estimated for 2PAC\n",
    "# f_sen_2PAC =  0.01176 \n",
    "\n",
    "# %matplotlib qt\n",
    "# %matplotlib inline\n",
    "\n",
    "plt.close('2PAC f_sen vs LY, SiPM not covered')\n",
    "plt.figure('2PAC f_sen vs LY, SiPM not covered')\n",
    "# plt.plot(f_sen_vector, integrate_LY(wavelength_vector, E_PEN_smooth, PDE_smooth, R_SiPM_smooth, R_Wall_PEN_smooth, f_sen_vector,wls_eff = 0.47, Q_vis = Q_vis_2PAC, Q_vuv=Q_vuv_2PAC), '-g')\n",
    "# plt.plot(f_sen_vector, integrate_LY(wavelength_vector, E_TPB_smooth, PDE_smooth, R_SiPM_smooth, R_Wall_TPB_smooth, f_sen_vector, Q_vis = Q_vis_2PAC, Q_vuv=Q_vuv_2PAC), '-r')\n",
    "# f_sen_vector = np.arange(0, 0.05, 0.01)\n",
    "f_sen_vector = np.arange(0, 1, 0.01)\n",
    "LY_PEN_upper = integrate_LY(wavelength_vector, E_PEN_smooth, PDE_smooth, R_SiPM_smooth, R_Wall_PEN_smooth, f_sen_vector, wls_eff= 0.47, Q_vis=Q_vis_2PAC, Q_vuv= Q_vuv_2PAC)\n",
    "LY_PEN_lower = integrate_LY(wavelength_vector, E_PEN_smooth, PDE_smooth, R_SiPM_smooth, R_Wall_PEN_smooth*0.988, f_sen_vector, wls_eff= 0.47, Q_vis=Q_vis_2PAC, Q_vuv= Q_vuv_2PAC)\n",
    "plt.fill_between( f_sen_vector, LY_PEN_lower,  LY_PEN_upper, color='blue', alpha=0.3, label='PEN' )\n",
    "\n",
    "LY_TPB_upper = integrate_LY(wavelength_vector, E_TPB_smooth, PDE_smooth, R_SiPM_smooth, R_Wall_TPB_smooth, f_sen_vector, wls_eff=1, Q_vis=Q_vis_2PAC, Q_vuv=Q_vuv_2PAC)\n",
    "LY_TPB_lower = integrate_LY(wavelength_vector, E_TPB_smooth, PDE_smooth, R_SiPM_smooth, R_Wall_TPB_smooth*0.988, f_sen_vector, wls_eff=1, Q_vis=Q_vis_2PAC, Q_vuv=Q_vuv_2PAC)\n",
    "plt.fill_between( f_sen_vector, LY_TPB_lower,  LY_TPB_upper, color='orange', alpha=0.3, label='TPB' )\n",
    "\n",
    "### measurement values\n",
    "plt.errorbar([0.01176], [2.50*0.40], yerr = [0.05*0.40], fmt ='o', mfc = 'none', color ='green', label = '2PAC PEN LY (measurement) ')\n",
    "plt.errorbar([0.01176], [2.50], yerr = [0.05], fmt = 'o', mfc = 'none', color ='red', label = '2PAC TPB LY (measurement) ')\n",
    "\n",
    "### horizontal lines correspond to the LY expected from 2PAC according to the Analytic Model\n",
    "### ??? change f_sens from 0.01176 to 0.01\n",
    "\n",
    "LY_PEN_2PAC_ref_high = integrate_LY(wavelength_vector, E_PEN_smooth, PDE_smooth, R_SiPM_smooth, R_Wall_PEN_smooth, f_sen_2PAC, wls_eff= 0.47, Q_vis=Q_vis_2PAC, Q_vuv= Q_vuv_2PAC)\n",
    "LY_PEN_2PAC_ref_low = integrate_LY(wavelength_vector, E_PEN_smooth, PDE_smooth, R_SiPM_smooth, R_Wall_PEN_smooth*0.988, f_sen_2PAC, wls_eff= 0.47, Q_vis=Q_vis_2PAC, Q_vuv= Q_vuv_2PAC)\n",
    "\n",
    "LY_TPB_2PAC_ref_high = integrate_LY(wavelength_vector, E_TPB_smooth, PDE_smooth, R_SiPM_smooth, R_Wall_TPB_smooth, f_sen_2PAC, wls_eff=1, Q_vis=Q_vis_2PAC, Q_vuv=Q_vuv_2PAC)\n",
    "LY_TPB_2PAC_ref_low = integrate_LY(wavelength_vector, E_TPB_smooth, PDE_smooth, R_SiPM_smooth, R_Wall_TPB_smooth*0.988, f_sen_2PAC, wls_eff=1, Q_vis=Q_vis_2PAC, Q_vuv=Q_vuv_2PAC)\n",
    "\n",
    "plt.axvline(f_sen_2PAC, 0, 1, linestyle = 'dotted', color = 'gray', label='2PAC f_sen')\n",
    "\n",
    "plt.axhline(LY_PEN_2PAC_ref_high, 0, 1, linestyle = '--', color = 'blue', alpha =0.8, label='2PAC PEN High (Analytic Model)')\n",
    "plt.axhline(LY_PEN_2PAC_ref_low, 0, 1, linestyle = '--', color = 'blue', alpha =0.8, label='2PAC PEN low (Analytic Model)')\n",
    "plt.axhline(LY_TPB_2PAC_ref_high, 0, 1, linestyle = '--', color = 'orange', alpha =0.8, label='2PAC TPB high (Analytic Model)')\n",
    "plt.axhline(LY_TPB_2PAC_ref_low, 0, 1, linestyle = '--', color = 'orange', alpha =0.8, label='2PAC TPB  low (Analytic Model)')\n",
    "\n",
    "plt.ylabel('Light Yield [pe/keV]' , size =14, weight = 'bold')\n",
    "plt.xlabel('f_sen', size =14, weight = 'bold')\n",
    "plt.title('2PAC f_sen vs Light Yield; SiPM not covered')\n",
    "### [R_SiPM, R_wall,PDE dependent on wavelength. Absorption and Rayleigh Scattering accounted for]\n",
    "plt.legend(loc = 'best')\n",
    "# plt.legend(loc = 'upper left')\n",
    "# plt.savefig('f_sen vs LY')"
   ]
  },
  {
   "cell_type": "markdown",
   "id": "3bf8e97f-bcd9-400d-b754-6d93909c1070",
   "metadata": {},
   "source": [
    "<h4 style = 'color: red; font-size:14pt'>\n",
    "    Note:\n",
    "</h4>\n",
    "<p>\n",
    "One aspect in which segreto model differs is that it also calculates the probability of UV photons getting absorbed/scattered in the media (Argon in our case).\n",
    "<br>\n",
    "The original Analytic Model was only calculating the number of visible photons which will survive all the reflections. We were not looking at Scattering and Absorption effects at all. \n",
    "<br>\n",
    "In the modified version of Analytic Model, we are taking into account absorption and scattering effect on both VUV as well as visible photons. We start with VUV photons, and then calculate how many VUV photons will survive absorption/scattering to reach a WLS and get converted to a visible photon. From here on we proceed similar to how we did in the old Analytic Model with one difference and that is this time we include the effect of scattering and absorption on visible photons as well.\n",
    "<br>\n",
    "One assumption of this whole calculation is that SIPM's have zero detection efficiency in VUV domain.\n",
    "However in this case we are assuming WLS to be transparent to Visible photons. We can fix this by using WLS coupled reflectance values for SiPM.\n",
    "<br>\n",
    "<span style = 'color:tomato'>Explanation for LY curve decaying to zero when f_sen --> 1. </span>\n",
    "<br>\n",
    "This is pretty straight forward, actually, since SiPM are not covered with WLS, f_sen --> 1 means there is no surface which will shift VUV into visible photons. This leads to zero light collection and hence zero light yield.\n",
    "<br>\n",
    "<span style = 'color: tomato'> In case SiPM's are also covered with WLS. </span>\n",
    "<br>\n",
    "The following plot shows how light yield will vary as we keep increasing fraction of surface covered with WLS while SiPM's are also covered with WLS. Point to be noted is that the curves are still NOT monotonically increasing. I have marked the maximum light yield with stars in the plot. in case of TPB maximum LY is achieved with f_sen = 0.80 while for PEN maximum LY is achieved when f_sen = 0.93\n",
    "<br>\n",
    "<b style = 'color: deeppink'> Tl; DR </b>\n",
    "<br>\n",
    "f_sen =1 means no wavelength shifter and hence zero light yield\n",
    "</p>"
   ]
  },
  {
   "cell_type": "markdown",
   "id": "9cd0d9ba-8cc5-40ca-9c05-1c6426249c2f",
   "metadata": {},
   "source": [
    "<h4 style = 'color: yellow'> <b style = 'color:  red; font-family:Times New Roman;' > II. </b>    When SiPM is also covered with WLS </h4>\n",
    "<p> Right now we are not accounting for any reflection/absorption of visible light in WSL. To remedy this we should use reflectances values of WLS coupled with SiPM. </p>"
   ]
  },
  {
   "cell_type": "code",
   "execution_count": 25,
   "id": "9c8724f9-525b-46ab-8ed9-cb64569c1ad5",
   "metadata": {},
   "outputs": [
    {
     "data": {
      "text/plain": [
       "<matplotlib.legend.Legend at 0x2142ef8d730>"
      ]
     },
     "execution_count": 25,
     "metadata": {},
     "output_type": "execute_result"
    },
    {
     "data": {
      "image/png": "[encoded data removed]",
      "text/plain": [
       "<Figure size 432x288 with 1 Axes>"
      ]
     },
     "metadata": {
      "needs_background": "light"
     },
     "output_type": "display_data"
    }
   ],
   "source": [
    "# F_sen value estimated for 2PAC\n",
    "# f_sen_2PAC =  0.01176 \n",
    "\n",
    "# %matplotlib qt\n",
    "# %matplotlib inline\n",
    "\n",
    "plt.close('2PAC f_sen vs LY')\n",
    "plt.figure('2PAC f_sen vs LY')\n",
    "# plt.plot(f_sen_vector, integrate_LY(wavelength_vector, E_PEN_smooth, PDE_smooth, R_SiPM_smooth, R_Wall_PEN_smooth, f_sen_vector,wls_eff = 0.47, Q_vis = Q_vis_2PAC, Q_vuv=Q_vuv_2PAC), '-g')\n",
    "# plt.plot(f_sen_vector, integrate_LY(wavelength_vector, E_TPB_smooth, PDE_smooth, R_SiPM_smooth, R_Wall_TPB_smooth, f_sen_vector, Q_vis = Q_vis_2PAC, Q_vuv=Q_vuv_2PAC), '-r')\n",
    "# f_sen_vector = np.arange(0, 0.05, 0.01)\n",
    "f_sen_vector = np.arange(0, 1, 0.01)\n",
    "LY_PEN_upper = integrate_LY(wavelength_vector, E_PEN_smooth, PDE_smooth, R_SiPM_smooth, R_Wall_PEN_smooth, f_sen_vector, wls_eff= 0.47, Q_vis=Q_vis_2PAC, Q_vuv= Q_vuv_2PAC, SiPM_covered =True)\n",
    "LY_PEN_lower = integrate_LY(wavelength_vector, E_PEN_smooth, PDE_smooth, R_SiPM_smooth, R_Wall_PEN_smooth*0.988, f_sen_vector, wls_eff= 0.47, Q_vis=Q_vis_2PAC, Q_vuv= Q_vuv_2PAC, SiPM_covered =True)\n",
    "plt.fill_between( f_sen_vector, LY_PEN_lower,  LY_PEN_upper, color='blue', alpha=0.3, label='PEN' )\n",
    "\n",
    "LY_TPB_upper = integrate_LY(wavelength_vector, E_TPB_smooth, PDE_smooth, R_SiPM_smooth, R_Wall_TPB_smooth, f_sen_vector, wls_eff=1, Q_vis=Q_vis_2PAC, Q_vuv=Q_vuv_2PAC, SiPM_covered =True)\n",
    "LY_TPB_lower = integrate_LY(wavelength_vector, E_TPB_smooth, PDE_smooth, R_SiPM_smooth, R_Wall_TPB_smooth*0.988, f_sen_vector, wls_eff=1, Q_vis=Q_vis_2PAC, Q_vuv=Q_vuv_2PAC, SiPM_covered =True)\n",
    "plt.fill_between( f_sen_vector, LY_TPB_lower,  LY_TPB_upper, color='orange', alpha=0.3, label='TPB' )\n",
    "\n",
    "### measurement values\n",
    "plt.errorbar([0.01176], [2.50*0.40], yerr = [0.05*0.40], fmt ='o', markersize = 10, color ='green', mfc = 'none', label = '2PAC PEN LY (measurement) ')\n",
    "plt.errorbar([0.01176], [2.50], yerr = [0.05], fmt = 'o', markersize =10, color ='red', mfc = 'none', label = '2PAC TPB LY (measurement) ')\n",
    "\n",
    "### horizontal lines correspond to the LY expected from 2PAC according to the Analytic Model\n",
    "### ??? change f_sens from 0.01176 to 0.01\n",
    "\n",
    "LY_PEN_2PAC_ref_high = integrate_LY(wavelength_vector, E_PEN_smooth, PDE_smooth, R_SiPM_smooth, R_Wall_PEN_smooth, f_sen_2PAC, wls_eff= 0.47, Q_vis=Q_vis_2PAC, Q_vuv= Q_vuv_2PAC, SiPM_covered =True)\n",
    "LY_PEN_2PAC_ref_low = integrate_LY(wavelength_vector, E_PEN_smooth, PDE_smooth, R_SiPM_smooth, R_Wall_PEN_smooth*0.988, f_sen_2PAC, wls_eff= 0.47, Q_vis=Q_vis_2PAC, Q_vuv= Q_vuv_2PAC, SiPM_covered =True)\n",
    "\n",
    "LY_TPB_2PAC_ref_high = integrate_LY(wavelength_vector, E_TPB_smooth, PDE_smooth, R_SiPM_smooth, R_Wall_TPB_smooth, f_sen_2PAC, wls_eff=1, Q_vis=Q_vis_2PAC, Q_vuv=Q_vuv_2PAC, SiPM_covered =True)\n",
    "LY_TPB_2PAC_ref_low = integrate_LY(wavelength_vector, E_TPB_smooth, PDE_smooth, R_SiPM_smooth, R_Wall_TPB_smooth*0.988, f_sen_2PAC, wls_eff=1, Q_vis=Q_vis_2PAC, Q_vuv=Q_vuv_2PAC, SiPM_covered =True)\n",
    "\n",
    "plt.axvline(f_sen_2PAC, 0, 1, linestyle = 'dotted', color = 'gray', label='2PAC f_sen')\n",
    "\n",
    "plt.axhline(LY_PEN_2PAC_ref_high, 0, 1, linestyle = '--', color = 'blue', alpha =0.8, label='2PAC PEN High (Analytic Model)')\n",
    "plt.axhline(LY_PEN_2PAC_ref_low, 0, 1, linestyle = '--', color = 'blue', alpha =0.8, label='2PAC PEN low (Analytic Model)')\n",
    "plt.axhline(LY_TPB_2PAC_ref_high, 0, 1, linestyle = '--', color = 'orange', alpha =0.8, label='2PAC TPB high (Analytic Model)')\n",
    "plt.axhline(LY_TPB_2PAC_ref_low, 0, 1, linestyle = '--', color = 'orange', alpha =0.8, label='2PAC TPB  low (Analytic Model)')\n",
    "\n",
    "### Maximum LY points\n",
    "LY_PEN_average = (LY_PEN_upper + LY_PEN_lower)/2\n",
    "LY_TPB_average = (LY_TPB_upper + LY_TPB_lower)/2\n",
    "\n",
    "plt.scatter( f_sen_vector[np.argmax(LY_PEN_average)], LY_PEN_average[np.argmax(LY_PEN_average)], marker = '*', s =100, facecolors = 'none', edgecolors = 'g', label = 'PEN max LY')\n",
    "plt.scatter( f_sen_vector[np.argmax(LY_TPB_average)], LY_TPB_average[np.argmax(LY_TPB_average)], marker = '*', s =100, facecolors = 'none', edgecolors ='r', label = 'TPB max LY')\n",
    "\n",
    "plt.ylabel('Light Yield [pe/keV]' , size =14, weight = 'bold')\n",
    "plt.xlabel('f_sen', size =14, weight = 'bold')\n",
    "plt.title('2PAC f_sen vs Light Yield;  SiPM covered with WLS')\n",
    "### [R_SiPM, R_wall,PDE dependent on wavelength. Absorption and Rayleigh Scattering accounted for]\n",
    "# plt.legend(loc = 'best')\n",
    "plt.legend(loc = 'upper left')\n",
    "# plt.savefig('f_sen vs LY')"
   ]
  },
  {
   "cell_type": "code",
   "execution_count": 26,
   "id": "94e94d0f-fb26-412a-b2f8-b5b567c1d2d2",
   "metadata": {},
   "outputs": [
    {
     "data": {
      "text/plain": [
       "0.8"
      ]
     },
     "execution_count": 26,
     "metadata": {},
     "output_type": "execute_result"
    }
   ],
   "source": [
    "LY_TPB_average = (LY_TPB_upper + LY_TPB_lower)/2\n",
    "\n",
    "f_sen_vector[np.argmax(LY_TPB_average)] ### at this value we'll obtain the maximum light yield"
   ]
  },
  {
   "cell_type": "code",
   "execution_count": 27,
   "id": "7319ad15-03f6-4a05-a49d-a2028853e8db",
   "metadata": {},
   "outputs": [
    {
     "data": {
      "text/plain": [
       "0.93"
      ]
     },
     "execution_count": 27,
     "metadata": {},
     "output_type": "execute_result"
    }
   ],
   "source": [
    "LY_PEN_average = (LY_PEN_upper + LY_PEN_lower)/2\n",
    "\n",
    "f_sen_vector[np.argmax(LY_PEN_average)] ### at this value we'll obtain the maximum light yield"
   ]
  },
  {
   "cell_type": "markdown",
   "id": "cc9145c7-147f-467d-bf1c-4d9716c8b60d",
   "metadata": {
    "tags": []
   },
   "source": [
    "<h2 style = 'color:orange'> DarkSide-20k Muon veto </h2>\n",
    "<p style = 'color:skyblue'> in case of DarkSide veto we no longer have the symmetry. First the shape is not a cylinder; it has spherical caps on each end. The TPC inside the titanium vessel works like a cavity with additional surface area. We have to come with a technique to account for these differences. </p>"
   ]
  },
  {
   "cell_type": "code",
   "execution_count": 28,
   "id": "7bae2ff7-7374-44f8-b85c-a57d86e328f7",
   "metadata": {},
   "outputs": [
    {
     "name": "stdout",
     "output_type": "stream",
     "text": [
      "volume of LAr that would weigh 20 ton: 14.33280779704744 m^3\n"
     ]
    }
   ],
   "source": [
    "### volume needed to contain 20,000 Kg of liquid Argon\n",
    "### Desnity of liquid Argon is \t1395.4 Kg/ m^3\n",
    "\n",
    "print('volume of LAr that would weigh 20 ton:', 20000/1395.4, 'm^3')"
   ]
  },
  {
   "cell_type": "markdown",
   "id": "d8768412-eeab-4d85-8176-7d569666ab9a",
   "metadata": {
    "tags": []
   },
   "source": [
    "<p style = 'color:violet; font-size:14pt'> Titanium Vessel </p>\n",
    "<span style = 'color : lime; font-size: 14pt;'>\n",
    "    $$\n",
    "    \\text{volume of titanium vessel} = \\pi R^2 H + 2 \\times \\frac{1}{6} \\pi h(3a^2+h^2)\n",
    "    $$\n",
    "    <br>\n",
    "    $$\n",
    "    \\text{internal surface area of titanium vessel} = 2 \\pi R H + 2 \\times \\pi (a^2 + h^2)\n",
    "    $$\n",
    "</span>"
   ]
  },
  {
   "cell_type": "code",
   "execution_count": 29,
   "id": "218f25df-0c19-4f7b-94f4-23cdf19ac4e1",
   "metadata": {},
   "outputs": [
    {
     "name": "stdout",
     "output_type": "stream",
     "text": [
      "vessel_surface_area : 91.94507974502982 \n",
      " vessel_volume : 77.69571626786087\n"
     ]
    }
   ],
   "source": [
    "### we will calculate the surface area and volume of titanium using above formulas\n",
    "### Note : radois of cylinder =  radius of spherical cap, lets call it vessel radius \n",
    "### Radius of cap is not same as the radius of sphere from which it was cut.\n",
    "### Link: https://en.wikipedia.org/wiki/Spherical_cap\n",
    "\n",
    "def calc_vessel_volume(R, H, a, h):\n",
    "    ''' R and H are the radius and height of the cylinder.\n",
    "    a and h are the radius and height of the spherical cap. '''\n",
    "\n",
    "    return np.pi*(R**2)*H + 2*(1/6)*np.pi*h*(3*(a**2) + h**2)\n",
    "\n",
    "def calc_vessel_surface_area(R, H, a, h):\n",
    "\n",
    "    return 2*np.pi*R*H + 2*np.pi*(a**2+h**2)\n",
    "\n",
    "### values given by Marcin\n",
    "# vessel_volume = 80;\n",
    "\n",
    "### values given by Shawn\n",
    "cylinder_height = 3.572;\n",
    "cap_height = 0.91688;\n",
    "vessel_radius = 2.335;\n",
    "\n",
    "# vessel_surface_area = 91.9;\n",
    "\n",
    "vessel_surface_area = calc_vessel_surface_area(R=vessel_radius, H= cylinder_height, a= vessel_radius, h=cap_height)\n",
    "\n",
    "vessel_volume = calc_vessel_volume(R=vessel_radius, H= cylinder_height, a=vessel_radius, h=cap_height)\n",
    "\n",
    "print('vessel_surface_area :', vessel_surface_area, '\\n', 'vessel_volume :', vessel_volume)"
   ]
  },
  {
   "cell_type": "markdown",
   "id": "06b073a6-effe-4c46-a4df-ed3f3bb5e59e",
   "metadata": {},
   "source": [
    "<p style = 'color:violet; font-size:14pt'> TPC : octagonal prism  </p>\n",
    "<span style = 'color : lime; font-size:14pt'>\n",
    "    $$\n",
    "    \\text{Surface area of a regular octagonal prism} = 8 \\times a \\times h\n",
    "    $$\n",
    "    <br>\n",
    "    $$\n",
    "    \\text{Volume of a regular octagonal prism} = 2 \\times (1 + \\sqrt{2}) \\times a^2 \\times h\n",
    "    $$\n",
    "</span>"
   ]
  },
  {
   "cell_type": "code",
   "execution_count": 30,
   "id": "e4b86694-2bbf-4402-962e-6f6cc89efcd0",
   "metadata": {},
   "outputs": [
    {
     "name": "stdout",
     "output_type": "stream",
     "text": [
      "TPC_side:  1.5740115370177612 \n",
      " TPC_surface_area: 47.5981088794171 \n",
      " TPC_volume: 45.21820343544624\n"
     ]
    }
   ],
   "source": [
    "TPC_height = (348+30)/100;\n",
    "TPC_parallel_distance = (350 +30)/100;\n",
    "TPC_side = TPC_parallel_distance/abs(np.tan( np.radians(135/2) ));\n",
    "TPC_surface_area = 8*TPC_side*TPC_height;\n",
    "TPC_volume = 2*(1+2**0.5)*TPC_side**2*TPC_height;\n",
    "print('TPC_side: ', TPC_side, '\\n','TPC_surface_area:', TPC_surface_area, '\\n', 'TPC_volume:', TPC_volume)"
   ]
  },
  {
   "cell_type": "code",
   "execution_count": 31,
   "id": "899da679-88d3-47b5-a708-d5e1e1371b97",
   "metadata": {},
   "outputs": [
    {
     "name": "stdout",
     "output_type": "stream",
     "text": [
      "effective_veto_surface_area: 139.5431886244469 \n",
      " effective_veto_volume: 32.47751283241463\n"
     ]
    }
   ],
   "source": [
    "effective_veto_volume = vessel_volume - TPC_volume;\n",
    "effective_veto_surface_area = vessel_surface_area + TPC_surface_area;\n",
    "print('effective_veto_surface_area:', effective_veto_surface_area, '\\n', 'effective_veto_volume:', effective_veto_volume)"
   ]
  },
  {
   "cell_type": "code",
   "execution_count": 32,
   "id": "91c83814-3d1a-460d-87d8-27657fd54195",
   "metadata": {},
   "outputs": [
    {
     "name": "stdout",
     "output_type": "stream",
     "text": [
      "ds_veto_char_length:  1.3964499372228685\n"
     ]
    }
   ],
   "source": [
    "ds_veto_char_length = calc_length(volume= effective_veto_volume, area= effective_veto_surface_area)\n",
    "print( 'ds_veto_char_length: ', ds_veto_char_length)"
   ]
  },
  {
   "cell_type": "code",
   "execution_count": 33,
   "id": "dccc8dd9-08c8-400d-8afc-537d3c741ede",
   "metadata": {},
   "outputs": [
    {
     "name": "stdout",
     "output_type": "stream",
     "text": [
      "Q_vuv_ds_veto:  1.0511080712694048 \n",
      " Q_vis_ds_veto : 1.0070039170323342\n"
     ]
    }
   ],
   "source": [
    "### calculating Q for Argon filled DarkSide Veto\n",
    "Q_vis_ds_veto = calc_Q( ds_veto_char_length, lambda_abs= 100, lambda_R= 300)\n",
    "Q_vuv_ds_veto = calc_Q( ds_veto_char_length, lambda_abs= 17, lambda_R= 0.97)\n",
    "\n",
    "print('Q_vuv_ds_veto: ',  Q_vuv_ds_veto, '\\n', 'Q_vis_ds_veto :',Q_vis_ds_veto)"
   ]
  },
  {
   "cell_type": "markdown",
   "id": "87900e4e-6d25-4acb-97ea-8f4f620104c3",
   "metadata": {},
   "source": [
    "<h4 style = 'color: yellow;'> <b style = 'color:  red; font-family:Times New Roman;' > I. </b> DarkSide muon veto SiPM not covered </h4>"
   ]
  },
  {
   "cell_type": "code",
   "execution_count": 34,
   "id": "1374459f-56d6-4864-8762-c4e9bd7246b0",
   "metadata": {},
   "outputs": [
    {
     "data": {
      "text/plain": [
       "Text(0.5, 1.0, 'DarkSide-20k muon veto SiPM not covered')"
      ]
     },
     "execution_count": 34,
     "metadata": {},
     "output_type": "execute_result"
    },
    {
     "data": {
      "image/png": "[encoded data removed]",
      "text/plain": [
       "<Figure size 432x288 with 1 Axes>"
      ]
     },
     "metadata": {
      "needs_background": "light"
     },
     "output_type": "display_data"
    }
   ],
   "source": [
    "### DarkSide muon veto SiPM not covered\n",
    "plt.close('DarkSide f_sen vs LY SiPM not covered')\n",
    "plt.figure('DarkSide f_sen vs LY SiPM not covered')\n",
    "\n",
    "LY_PEN_upper_ds_veto = integrate_LY(wavelength_vector, E_PEN_smooth, PDE_smooth, R_SiPM_smooth, R_Wall_PEN_smooth, f_sen_vector, wls_eff= 0.47, Q_vis=Q_vis_ds_veto, Q_vuv= Q_vuv_ds_veto)\n",
    "LY_PEN_lower_ds_veto = integrate_LY(wavelength_vector, E_PEN_smooth, PDE_smooth, R_SiPM_smooth, R_Wall_PEN_smooth*0.988, f_sen_vector, wls_eff= 0.47, Q_vis=Q_vis_ds_veto, Q_vuv= Q_vuv_ds_veto)\n",
    "plt.fill_between( f_sen_vector, LY_PEN_lower_ds_veto,  LY_PEN_upper_ds_veto, color='blue', alpha=0.3, label='PEN' )\n",
    "\n",
    "LY_TPB_upper_ds_veto = integrate_LY(wavelength_vector, E_TPB_smooth, PDE_smooth, R_SiPM_smooth, R_Wall_TPB_smooth, f_sen_vector, wls_eff=1, Q_vis=Q_vis_ds_veto, Q_vuv=Q_vuv_ds_veto)\n",
    "LY_TPB_lower_ds_veto = integrate_LY(wavelength_vector, E_TPB_smooth, PDE_smooth, R_SiPM_smooth, R_Wall_TPB_smooth*0.988, f_sen_vector, wls_eff=1, Q_vis=Q_vis_ds_veto, Q_vuv=Q_vuv_ds_veto)\n",
    "plt.fill_between( f_sen_vector, LY_TPB_lower_ds_veto,  LY_TPB_upper_ds_veto, color='orange', alpha=0.2, label='TPB' )\n",
    "\n",
    "### Maximum LY points\n",
    "LY_PEN_average_ds_veto = (LY_PEN_upper_ds_veto + LY_PEN_lower_ds_veto)/2;\n",
    "LY_TPB_average_ds_veto = (LY_TPB_upper_ds_veto + LY_TPB_lower_ds_veto)/2;\n",
    "\n",
    "plt.scatter( f_sen_vector[np.argmax(LY_PEN_average_ds_veto)], LY_PEN_average_ds_veto[np.argmax(LY_PEN_average_ds_veto)], marker = '*', s =100, facecolors = 'none', edgecolors = 'g', label = 'PEN max LY DS veto')\n",
    "plt.scatter( f_sen_vector[np.argmax(LY_TPB_average_ds_veto)], LY_TPB_average_ds_veto[np.argmax(LY_TPB_average_ds_veto)], marker = '*', s =100, facecolors = 'none', edgecolors ='r', label = 'TPB max LY DS veto')\n",
    "plt.legend()\n",
    "plt.title('DarkSide-20k muon veto SiPM not covered')"
   ]
  },
  {
   "cell_type": "markdown",
   "id": "40c20ddd-56c7-4df2-8f3d-9b341ff05964",
   "metadata": {},
   "source": [
    "<h4 style = 'color: yellow'> <b style = 'color:  red; font-family:Times New Roman;' > II. </b> DarkSide muon veto SiPM covered with WLS </h4>"
   ]
  },
  {
   "cell_type": "code",
   "execution_count": 35,
   "id": "3dde14be-1b5d-4d0d-bd8e-babdbc77369b",
   "metadata": {},
   "outputs": [
    {
     "data": {
      "text/plain": [
       "<matplotlib.legend.Legend at 0x2142f0d8220>"
      ]
     },
     "execution_count": 35,
     "metadata": {},
     "output_type": "execute_result"
    },
    {
     "data": {
      "image/png": "[encoded data removed]",
      "text/plain": [
       "<Figure size 432x288 with 1 Axes>"
      ]
     },
     "metadata": {
      "needs_background": "light"
     },
     "output_type": "display_data"
    }
   ],
   "source": [
    "### DarkSide veto SiPM covered with WLS\n",
    "# %matplotlib qt\n",
    "plt.close('DarkSide f_sen vs LY SiPM covered with WLS')\n",
    "plt.figure('DarkSide f_sen vs LY SiPM covered with WLS')\n",
    "### the parameter f_sen is a little trciky here. We may not be able to cover TPC surface with SiPM's in that case f_sen =1 is not feasible.\n",
    "\n",
    "LY_PEN_upper_ds_veto = integrate_LY(wavelength_vector, E_PEN_smooth, PDE_smooth, R_SiPM_smooth, R_Wall_PEN_smooth, f_sen_vector, wls_eff= 0.47, Q_vis=Q_vis_ds_veto, Q_vuv= Q_vuv_ds_veto, SiPM_covered=True);\n",
    "LY_PEN_lower_ds_veto = integrate_LY(wavelength_vector, E_PEN_smooth, PDE_smooth, R_SiPM_smooth, R_Wall_PEN_smooth*0.988, f_sen_vector, wls_eff= 0.47, Q_vis=Q_vis_ds_veto, Q_vuv= Q_vuv_ds_veto, SiPM_covered=True);\n",
    "plt.fill_between( f_sen_vector, LY_PEN_lower_ds_veto,  LY_PEN_upper_ds_veto, color='blue', alpha=0.3, label='PEN' )\n",
    "\n",
    "LY_TPB_upper_ds_veto = integrate_LY(wavelength_vector, E_TPB_smooth, PDE_smooth, R_SiPM_smooth, R_Wall_TPB_smooth, f_sen_vector, wls_eff=1, Q_vis=Q_vis_ds_veto, Q_vuv=Q_vuv_ds_veto, SiPM_covered=True)\n",
    "LY_TPB_lower_ds_veto = integrate_LY(wavelength_vector, E_TPB_smooth, PDE_smooth, R_SiPM_smooth, R_Wall_TPB_smooth*0.988, f_sen_vector, wls_eff=1, Q_vis=Q_vis_ds_veto, Q_vuv=Q_vuv_ds_veto, SiPM_covered=True)\n",
    "plt.fill_between( f_sen_vector, LY_TPB_lower_ds_veto,  LY_TPB_upper_ds_veto, color='orange', alpha=0.2, label='TPB' )\n",
    "\n",
    "### Maximum LY points\n",
    "LY_PEN_average_ds_veto = (LY_PEN_upper_ds_veto + LY_PEN_lower_ds_veto)/2;\n",
    "LY_TPB_average_ds_veto = (LY_TPB_upper_ds_veto + LY_TPB_lower_ds_veto)/2;\n",
    "\n",
    "plt.scatter( f_sen_vector[np.argmax(LY_PEN_average_ds_veto)], LY_PEN_average_ds_veto[np.argmax(LY_PEN_average_ds_veto)], marker = '*', s =100, facecolors = 'none', edgecolors = 'g', label = 'PEN max LY DS veto')\n",
    "plt.scatter( f_sen_vector[np.argmax(LY_TPB_average_ds_veto)], LY_TPB_average_ds_veto[np.argmax(LY_TPB_average_ds_veto)], marker = '*', s =100, facecolors = 'none', edgecolors ='r', label = 'TPB max LY DS veto')\n",
    "\n",
    "plt.legend()\n",
    "plt.title('DarkSide-20k muon veto SiPM covered with WLS')\n",
    "plt.legend(loc = 'upper left')"
   ]
  },
  {
   "cell_type": "markdown",
   "id": "3ac02397-1902-4c58-8e8b-c186810363e8",
   "metadata": {},
   "source": [
    "<p> \n",
    "    <span style = 'color: red; font-size:14pt'> Warning!! </span>\n",
    "    <span style = 'color: skyblue; font-size: 14pt;'> The above plot 'DarkSide-20k muon veto SiPM covered with WLS' is unrealistic not just because of the model but also because of the fact that f_sen will be limited by the available surface in such a setting. The maximum feasible value of f_sen can be found in this manner: </span>\n",
    "    <br>\n",
    "    <span style = 'font-size: 12pt; text-align: center;'> vessel_surface_area/effective_veto_surface_area \n",
    "</span>\n",
    "</p>"
   ]
  },
  {
   "cell_type": "code",
   "execution_count": 36,
   "id": "f9c17ec4-9509-4aca-b11d-8c927d86a741",
   "metadata": {},
   "outputs": [
    {
     "data": {
      "text/plain": [
       "0.6589005214183685"
      ]
     },
     "execution_count": 36,
     "metadata": {},
     "output_type": "execute_result"
    }
   ],
   "source": [
    "vessel_surface_area/effective_veto_surface_area"
   ]
  },
  {
   "cell_type": "markdown",
   "id": "0c590f8d-1d15-44ec-bf56-733c5e5b9c97",
   "metadata": {
    "tags": []
   },
   "source": [
    "<h2 style= 'color: orange'> ARGO </h2>"
   ]
  },
  {
   "cell_type": "code",
   "execution_count": 37,
   "id": "0e42305d-d13b-48b4-894b-10e9d8166070",
   "metadata": {},
   "outputs": [],
   "source": [
    "### First we will calculate the characteristic length for ARGO, Characteristic length as defined in Segreto paper\n",
    "area_ARGO = 2*np.pi*(7.05/2)*( 7.05/2 + 7.05)\n",
    "volume_ARGO = np.pi*(7.05)*(7.05/2)**2\n",
    "\n",
    "L_char_ARGO = calc_length(area_ARGO, volume_ARGO) ### unit: m"
   ]
  },
  {
   "cell_type": "code",
   "execution_count": 38,
   "id": "8207e4f3-2444-476c-a0ac-a79ce85c10e3",
   "metadata": {},
   "outputs": [],
   "source": [
    "### calculating Q for Argon filled ARGO\n",
    "Q_vis_ARGO = calc_Q(L_char_ARGO, lambda_abs= 100, lambda_R= 300)\n",
    "Q_vuv_ARGO = calc_Q(L_char_ARGO, lambda_abs= 17, lambda_R= 0.97)"
   ]
  },
  {
   "cell_type": "code",
   "execution_count": 39,
   "id": "afb2f454-7d0f-4064-9f22-73ab2713f5ee",
   "metadata": {},
   "outputs": [],
   "source": [
    "# area_ARGO,\n",
    "# volume_ARGO,\n",
    "# L_char_ARGO\n",
    "# L_char_ARGO"
   ]
  },
  {
   "cell_type": "code",
   "execution_count": 40,
   "id": "05a7a54b-7cde-4633-820d-f050b4fd41f6",
   "metadata": {},
   "outputs": [],
   "source": [
    "f_sen_min = (np.pi*(7.05/2)**2)/area_ARGO\n",
    "f_sen_vector = np.arange(f_sen_min,1, 0.001)\n",
    "# f_sen_vector = np.arange(0,1, 0.001)\n",
    "# f_sen_vector"
   ]
  },
  {
   "cell_type": "markdown",
   "id": "def2cf1a-287c-46ef-b43d-7b0f4bb3ebc4",
   "metadata": {},
   "source": [
    "<h4 style = 'color: yellow;'> <b style = 'font-family: Times New Roman; color : red; '> I.  </b> Plots for different wall reflectances . </h4>"
   ]
  },
  {
   "cell_type": "markdown",
   "id": "78fd777c-b279-4e49-9c7f-5dc4fcf74feb",
   "metadata": {},
   "source": [
    "<p style = 'color: red'> Note : </p>\n",
    "<p style = 'color: yellow;'> SiPM covered with WLS. \n",
    "    TPB wavelength shifter \n",
    "</p>"
   ]
  },
  {
   "cell_type": "code",
   "execution_count": 41,
   "id": "3ec990f9-8894-444a-9c05-00d26a56180e",
   "metadata": {},
   "outputs": [
    {
     "data": {
      "text/plain": [
       "<matplotlib.legend.Legend at 0x2142f172760>"
      ]
     },
     "execution_count": 41,
     "metadata": {},
     "output_type": "execute_result"
    },
    {
     "data": {
      "image/png": "[encoded data removed]",
      "text/plain": [
       "<Figure size 432x288 with 1 Axes>"
      ]
     },
     "metadata": {
      "needs_background": "light"
     },
     "output_type": "display_data"
    }
   ],
   "source": [
    "# %matplotlib qt\n",
    "%matplotlib inline\n",
    "\n",
    "fig1 = plt.figure('1')\n",
    "ax1 = plt.axes()\n",
    "f_sen_vector = np.arange(0,1, 0.001)\n",
    "for scale_factor in [0.90, 0.95, 0.99]:\n",
    "    LY_TPB_upper_ARGO_1 = integrate_LY(wavelength_vector, E_TPB_smooth, PDE_smooth, R_SiPM_smooth,\n",
    "                                       scale_factor*R_Wall_TPB_smooth, f_sen_vector, wls_eff= 1, Q_vis=Q_vis_ARGO, Q_vuv= Q_vuv_ARGO, SiPM_covered =True)\n",
    "    ax1.plot(f_sen_vector, LY_TPB_upper_ARGO_1, label = 'scaling factor  = ' + str(scale_factor))\n",
    "    ### maximum locator\n",
    "    # ax1.scatter( f_sen_vector[np.argmax(LY_TPB_upper_ARGO_1)], LY_TPB_upper_ARGO_1[np.argmax(LY_TPB_upper_ARGO_1)], marker = '*', s =100)\n",
    "\n",
    "ax1.set_title('f_sen vs LY', size =16, weight = 'bold')\n",
    "ax1.set_xlabel('f_sen as fraction of surface area', size =16, weight = 'bold')\n",
    "ax1.set_ylabel('LY in pe/keV', size =16, weight = 'bold')\n",
    "# props = dict(boxstyle='round', facecolor='wheat', alpha=0.5)\n",
    "# txtstr = '* represents max LY'\n",
    "# ax1.text(0.15, 0.95, txtstr, transform=ax1.transAxes, fontsize=14, verticalalignment='top', bbox=props)\n",
    "ax1.set_yscale('linear')\n",
    "ax1.legend(loc ='best',  prop={'size': 13})"
   ]
  },
  {
   "cell_type": "markdown",
   "id": "c438f1c7-bfd1-450b-8da6-316e95a45237",
   "metadata": {
    "tags": []
   },
   "source": [
    "<h4 style = 'color: yellow;'> <b style = 'font-family: Times New Roman; color : red; '> II.  </b> Plots for VUV absorption lengths 5, 10, 20, 100. </h4>"
   ]
  },
  {
   "cell_type": "markdown",
   "id": "7c64be30-812e-479e-8708-42f2e549f2ab",
   "metadata": {},
   "source": [
    "<p style = 'color: red'> Note : </p>\n",
    "<p style = 'color: yellow;'> SiPM covered with WLS. \n",
    "    TPB wavelength shifter.\n",
    "    TPB reflectance scaled by 0.95\n",
    "</p>"
   ]
  },
  {
   "cell_type": "code",
   "execution_count": 42,
   "id": "72553c91-7e27-409e-812a-822808f6e86d",
   "metadata": {},
   "outputs": [
    {
     "data": {
      "text/plain": [
       "<matplotlib.legend.Legend at 0x2142f1d9370>"
      ]
     },
     "execution_count": 42,
     "metadata": {},
     "output_type": "execute_result"
    },
    {
     "data": {
      "image/png": "[encoded data removed]",
      "text/plain": [
       "<Figure size 432x288 with 1 Axes>"
      ]
     },
     "metadata": {
      "needs_background": "light"
     },
     "output_type": "display_data"
    }
   ],
   "source": [
    "# %matplotlib qt\n",
    "%matplotlib inline\n",
    "fig2 = plt.figure('2')\n",
    "ax2 = plt.axes()\n",
    "for lambda_variable in [5, 10, 20, 100]:\n",
    "    Q_vuv_ARGO_variable = calc_Q(L_char_ARGO, lambda_abs=lambda_variable, lambda_R=0.97)\n",
    "    LY_TPB_upper_ARGO_2 = integrate_LY(wavelength_vector, E_TPB_smooth, PDE_smooth, R_SiPM_smooth,\n",
    "                                       0.95*R_Wall_TPB_smooth, f_sen_vector, wls_eff= 1, Q_vis=Q_vis_ARGO, Q_vuv= Q_vuv_ARGO_variable, SiPM_covered =True)\n",
    "    ax2.plot(f_sen_vector, LY_TPB_upper_ARGO_2, label = 'lambda_VUV = ' + str(lambda_variable))\n",
    "\n",
    "ax2.set_title('f_sen vs LY', size =18, weight = 'bold')\n",
    "ax2.set_xlabel('f_sen as fraction of surface area', size =16, weight = 'bold')\n",
    "ax2.set_ylabel('LY in pe/keV', size =16, weight = 'bold')\n",
    "ax2.legend(loc ='best', prop={'size': 13})"
   ]
  },
  {
   "cell_type": "code",
   "execution_count": 43,
   "id": "473c472f-c3e5-401d-a739-c6b283c8afb6",
   "metadata": {},
   "outputs": [],
   "source": [
    "# fig1.show()"
   ]
  },
  {
   "cell_type": "code",
   "execution_count": 44,
   "id": "a1fe977e-f15a-44b5-a59d-0fd76e98ea92",
   "metadata": {},
   "outputs": [],
   "source": [
    "# fig2.show()"
   ]
  },
  {
   "cell_type": "code",
   "execution_count": 45,
   "id": "833953de-3f1a-419f-a246-6dfb7e9def8f",
   "metadata": {},
   "outputs": [],
   "source": [
    "# %matplotlib inline\n",
    "# ### testing for veto like configuration\n",
    "# fig1 = plt.figure('3')\n",
    "# ax1 = plt.axes()\n",
    "# LY_TPB_upper_ARGO_1 = integrate_LY(wavelength_vector, E_TPB_smooth, PDE_smooth, R_SiPM_smooth, R_Wall_TPB_smooth, \n",
    "#                                    f_sen_vector, wls_eff= 1.00, Q_vis=Q_vis_ARGO, Q_vuv= Q_vuv_ARGO, SiPM_covered =False)\n",
    "\n",
    "# LY_PEN_upper_ARGO_1 = integrate_LY(wavelength_vector, E_PEN_smooth, PDE_smooth, R_SiPM_smooth, R_Wall_PEN_smooth, \n",
    "#                                    f_sen_vector, wls_eff= 0.47, Q_vis=Q_vis_ARGO, Q_vuv= Q_vuv_ARGO, SiPM_covered =False)\n",
    "\n",
    "# ax1.plot(f_sen_vector, LY_TPB_upper_ARGO_1, label = 'TPB')\n",
    "# ax1.plot(f_sen_vector, LY_PEN_upper_ARGO_1, label = 'PEN')\n",
    "# ### ON\n",
    "# LY_TPB_upper_ARGO_2 = integrate_LY(wavelength_vector, E_TPB_smooth, PDE_smooth, R_SiPM_smooth, R_Wall_TPB_smooth, \n",
    "#                                    f_sen_vector, wls_eff= 1.00, Q_vis=Q_vis_ARGO, Q_vuv= Q_vuv_ARGO, SiPM_covered =True)\n",
    "\n",
    "# LY_PEN_upper_ARGO_2 = integrate_LY(wavelength_vector, E_PEN_smooth, PDE_smooth, R_SiPM_smooth, R_Wall_PEN_smooth, \n",
    "#                                    f_sen_vector, wls_eff= 0.47, Q_vis=Q_vis_ARGO, Q_vuv= Q_vuv_ARGO, SiPM_covered =True)\n",
    "\n",
    "# ax1.plot(f_sen_vector, LY_TPB_upper_ARGO_2, label = 'TPB SiPM covered',color = 'red') #,  marker = '*')\n",
    "# ax1.plot(f_sen_vector, LY_PEN_upper_ARGO_2, label = 'PEN SiPM covered', color = 'purple') # ,  marker = 'v')\n",
    "\n",
    "# # ax1.set_xticks()\n",
    "# ### ON\n",
    "\n",
    "# ax1.set_title('SiPM not covered', size =16, weight = 'bold')\n",
    "# ax1.set_xlabel('f_sen as fraction of surface area', size =16, weight = 'bold')\n",
    "# ax1.set_ylabel('LY in pe/keV', size =16, weight = 'bold')\n",
    "# # props = dict(boxstyle='round', facecolor='wheat', alpha=0.5)\n",
    "# # txtstr = '* represents max LY'\n",
    "# # ax1.text(0.15, 0.95, txtstr, transform=ax1.transAxes, fontsize=14, verticalalignment='top', bbox=props)\n",
    "# ax1.set_yscale('linear')\n",
    "# ax1.legend(loc ='best',  prop={'size': 13})"
   ]
  },
  {
   "cell_type": "code",
   "execution_count": 46,
   "id": "1cf2da58-55ca-44b3-b0ef-97b4add6a020",
   "metadata": {
    "tags": []
   },
   "outputs": [],
   "source": [
    "# ### SiPM covered = True\n",
    "# LY_TPB_upper_ARGO_2 = integrate_LY(wavelength_vector, E_TPB_smooth, PDE_smooth, R_SiPM_smooth, R_Wall_TPB_smooth, \n",
    "#                                    f_sen_vector, wls_eff= 1.00, Q_vis=Q_vis_ARGO, Q_vuv= Q_vuv_ARGO, SiPM_covered =True)\n",
    "\n",
    "# LY_PEN_upper_ARGO_2 = integrate_LY(wavelength_vector, E_PEN_smooth, PDE_smooth, R_SiPM_smooth, R_Wall_PEN_smooth, \n",
    "#                                    f_sen_vector, wls_eff= 0.47, Q_vis=Q_vis_ARGO, Q_vuv= Q_vuv_ARGO, SiPM_covered =True)\n",
    "# fig6 = plt.figure()\n",
    "# ax6 = plt.axes()\n",
    "\n",
    "# ax6.plot(f_sen_vector, LY_TPB_upper_ARGO_2, label = 'TPB', color = 'red')\n",
    "# ax6.plot(f_sen_vector, LY_PEN_upper_ARGO_2, label = 'PEN', color = 'purple')\n",
    "\n",
    "# ### maximum locator\n",
    "# # ax1.scatter( f_sen_vector[np.argmax(LY_TPB_upper_ARGO_1)], LY_TPB_upper_ARGO_1[np.argmax(LY_TPB_upper_ARGO_1)], marker = '*', s =100)\n",
    "\n",
    "# ax6.set_title('SiPM covered', size =16, weight = 'bold')\n",
    "# ax6.set_xlabel('f_sen as fraction of surface area', size =16, weight = 'bold')\n",
    "# ax6.set_ylabel('LY in pe/keV', size =16, weight = 'bold')\n",
    "# # props = dict(boxstyle='round', facecolor='wheat', alpha=0.5)\n",
    "# # txtstr = '* represents max LY'\n",
    "# # ax1.text(0.15, 0.95, txtstr, transform=ax1.transAxes, fontsize=14, verticalalignment='top', bbox=props)\n",
    "# ax6.set_yscale('linear')\n",
    "# ax6.legend( loc ='best',  prop={'size': 13} )"
   ]
  },
  {
   "cell_type": "code",
   "execution_count": 47,
   "id": "42f30a14-455b-465e-954f-2c377856fe61",
   "metadata": {},
   "outputs": [],
   "source": [
    "# ax1.plot(f_sen_vector, LY_TPB_upper_ARGO_2, label = 'TPB', marker = '*')\n",
    "# ax1.plot(f_sen_vector, LY_PEN_upper_ARGO_2, label = 'PEN', marker = 'v')"
   ]
  },
  {
   "cell_type": "code",
   "execution_count": 48,
   "id": "2ebedafb-8051-4ba7-897d-8e7f1a0769ec",
   "metadata": {},
   "outputs": [],
   "source": [
    "# Changing Q values"
   ]
  },
  {
   "cell_type": "code",
   "execution_count": 49,
   "id": "9e93f7d5-8c64-4e0f-bc7b-8d9ef792e13b",
   "metadata": {},
   "outputs": [],
   "source": [
    "# # Something is wrong here\n",
    "# # %matplotlib qt\n",
    "# %matplotlib inline\n",
    "# ### testing for veto like configuration\n",
    "# # Q_vis_ARGO = 2 # these values are what is wrong with this cell\n",
    "# # Q_vuv_ARGO = 2\n",
    "# # Q_vis_ARGO = 1.0070039170323342; # values taken from Darkside muon veto\n",
    "# # Q_vuv_ARGO = 1.0511080712694048\n",
    "# fig1 = plt.figure('3')\n",
    "# ax1 = plt.axes()\n",
    "\n",
    "# LY_TPB_upper_ARGO_1 = integrate_LY(wavelength_vector, E_TPB_smooth, PDE_smooth, R_SiPM_smooth, R_Wall_TPB_smooth, \n",
    "#                                    f_sen_vector, wls_eff= 1.00, Q_vis=Q_vis_ARGO, Q_vuv= Q_vuv_ARGO, SiPM_covered =False)\n",
    "\n",
    "# LY_PEN_upper_ARGO_1 = integrate_LY(wavelength_vector, E_PEN_smooth, PDE_smooth, R_SiPM_smooth, R_Wall_PEN_smooth, \n",
    "#                                    f_sen_vector, wls_eff= 0.47, Q_vis=Q_vis_ARGO, Q_vuv= Q_vuv_ARGO, SiPM_covered =False)\n",
    "\n",
    "# ax1.plot(f_sen_vector, LY_TPB_upper_ARGO_1, label = 'TPB')\n",
    "# ax1.plot(f_sen_vector, LY_PEN_upper_ARGO_1, label = 'PEN')\n",
    "# ### ON\n",
    "# LY_TPB_upper_ARGO_2 = integrate_LY(wavelength_vector, E_TPB_smooth, PDE_smooth, R_SiPM_smooth, R_Wall_TPB_smooth, \n",
    "#                                    f_sen_vector, wls_eff= 1.00, Q_vis=Q_vis_ARGO, Q_vuv= Q_vuv_ARGO, SiPM_covered =True)\n",
    "\n",
    "# LY_PEN_upper_ARGO_2 = integrate_LY(wavelength_vector, E_PEN_smooth, PDE_smooth, R_SiPM_smooth, R_Wall_PEN_smooth, \n",
    "#                                    f_sen_vector, wls_eff= 0.47, Q_vis=Q_vis_ARGO, Q_vuv= Q_vuv_ARGO, SiPM_covered =True)\n",
    "\n",
    "# ax1.plot(f_sen_vector, LY_TPB_upper_ARGO_2, label = 'TPB SiPM covered') #, marker = '*')\n",
    "# ax1.plot(f_sen_vector, LY_PEN_upper_ARGO_2, label = 'PEN SiPM covered') #, marker = 'v')\n",
    "# ### ON\n",
    "\n",
    "# ax1.set_title('SiPM not covered', size =16, weight = 'bold')\n",
    "# ax1.set_xlabel('f_sen as fraction of surface area', size =16, weight = 'bold')\n",
    "# ax1.set_ylabel('LY in pe/keV', size =16, weight = 'bold')\n",
    "# # props = dict(boxstyle='round', facecolor='wheat', alpha=0.5)\n",
    "# # txtstr = '* represents max LY'\n",
    "# # ax1.text(0.15, 0.95, txtstr, transform=ax1.transAxes, fontsize=14, verticalalignment='top', bbox=props)\n",
    "# ax1.set_yscale('linear')\n",
    "# ax1.legend(loc ='best',  prop={'size': 13})"
   ]
  },
  {
   "cell_type": "markdown",
   "id": "da9f6302-4fa6-46d3-803c-2e55ab7e9b5a",
   "metadata": {},
   "source": [
    "<h2 style = 'color: deeppink'>⭐ Q value and LY </h2>\n",
    "<p>\n",
    "    This raises serious concerns about size of detector.\n",
    "</p>"
   ]
  },
  {
   "cell_type": "code",
   "execution_count": 50,
   "id": "a260f473-28b4-4655-9b63-cb0fe95872cc",
   "metadata": {},
   "outputs": [],
   "source": [
    "# Q values seem to have a drastic effect on LY.\n",
    "# plot showing effect of different parameter on Q\n",
    "# plot showing effect of Q on Light Yield"
   ]
  },
  {
   "cell_type": "code",
   "execution_count": 51,
   "id": "9d853272-9b1f-4efd-ac7d-5757f37a150e",
   "metadata": {},
   "outputs": [
    {
     "name": "stdout",
     "output_type": "stream",
     "text": [
      "Characteristic Lengths \n",
      " 2PAC:  0.05584383331023524 \n",
      " DS muon veto:  1.3964499372228685 \n",
      " ARGO:  7.050000000000001\n"
     ]
    }
   ],
   "source": [
    "print('Characteristic Lengths', '\\n', '2PAC: ', L_char_2PAC, '\\n', 'DS muon veto: ', ds_veto_char_length, '\\n',\n",
    "      'ARGO: ', L_char_ARGO)"
   ]
  },
  {
   "cell_type": "code",
   "execution_count": 52,
   "id": "06f58f8d-10b3-48d7-8634-d21f2b312ff1",
   "metadata": {},
   "outputs": [],
   "source": [
    "Q_vis_2PAC = calc_Q(L_char_2PAC, lambda_abs= 100, lambda_R= 300)\n",
    "Q_vuv_ARGO = calc_Q(L_char_2PAC, lambda_abs= 17, lambda_R= 0.97)\n",
    "# Q_vuv_2PAC = calc_Q(L_char_2PAC, lambda_abs= 100000, lambda_R= 100000) # sanity check value of lambda_abs set at 1000"
   ]
  },
  {
   "cell_type": "code",
   "execution_count": 53,
   "id": "1d6766fd-3e28-4cd8-bbf5-8991f58a096d",
   "metadata": {},
   "outputs": [],
   "source": [
    "Q_vis_ds_veto = calc_Q(ds_veto_char_length, lambda_abs= 100, lambda_R= 300)\n",
    "Q_vuv_ARGO = calc_Q(ds_veto_char_length, lambda_abs= 17, lambda_R= 0.97)\n",
    "# Q_vuv_ds_veto = calc_Q(ds_veto_char_length, lambda_abs= 100000, lambda_R= 100000) # sanity check value of lambda_abs set at 1000"
   ]
  },
  {
   "cell_type": "code",
   "execution_count": 54,
   "id": "a712c635-fcb8-4fec-9c2a-7efefe591d66",
   "metadata": {},
   "outputs": [],
   "source": [
    "Q_vis_ARGO = calc_Q(L_char_ARGO, lambda_abs= 100, lambda_R= 300)\n",
    "Q_vuv_ARGO = calc_Q(L_char_ARGO, lambda_abs= 17, lambda_R= 0.97)\n",
    "# Q_vuv_ARGO = calc_Q(L_char_ARGO, lambda_abs= 100000, lambda_R= 100000) # sanity check value of lambda_abs set at 1000"
   ]
  },
  {
   "cell_type": "code",
   "execution_count": 55,
   "id": "82d3ff85-672a-46b5-86be-6d4d37d370d8",
   "metadata": {},
   "outputs": [
    {
     "name": "stdout",
     "output_type": "stream",
     "text": [
      "Q_VUV:  \n",
      " 2PAC:  1.0016591236102481 \n",
      " DS Muon veto:  1.0511080712694048 \n",
      " ARGO:  1.3609181748974062\n"
     ]
    }
   ],
   "source": [
    "print('Q_VUV: ', '\\n', '2PAC: ', Q_vuv_2PAC, '\\n', 'DS Muon veto: ',  Q_vuv_ds_veto, '\\n', 'ARGO: ', Q_vuv_ARGO)"
   ]
  },
  {
   "cell_type": "code",
   "execution_count": 56,
   "id": "53ab9dd8-6ceb-48c3-835d-1eb95e32c589",
   "metadata": {},
   "outputs": [
    {
     "name": "stdout",
     "output_type": "stream",
     "text": [
      "Q_vis: \n",
      " 2PAC:  1.0002792538169047 \n",
      " DS Muon veto:  1.0070039170323342 \n",
      " ARGO:  1.0358021686890884\n"
     ]
    }
   ],
   "source": [
    "print('Q_vis:', '\\n', '2PAC: ', Q_vis_2PAC, '\\n', 'DS Muon veto: ',  Q_vis_ds_veto, '\\n', 'ARGO: ', Q_vis_ARGO)"
   ]
  },
  {
   "cell_type": "code",
   "execution_count": 57,
   "id": "eee957e8-e80b-4193-9540-f58ca3c70c15",
   "metadata": {},
   "outputs": [],
   "source": [
    "Q_vuv_vector = []\n",
    "Q_vis_vector = []\n",
    "for length_variable in np.arange(0.1, 10, 0.1):\n",
    "    Q_vuv_vector.append(calc_Q(L_char=length_variable, lambda_abs=17, lambda_R=0.97))\n",
    "    Q_vis_vector.append(calc_Q(L_char=length_variable, lambda_abs= 100, lambda_R= 300))"
   ]
  },
  {
   "cell_type": "code",
   "execution_count": 58,
   "id": "b7f76e94-528f-4a6d-9aaa-4207594b099e",
   "metadata": {},
   "outputs": [
    {
     "data": {
      "text/plain": [
       "<matplotlib.legend.Legend at 0x214315250a0>"
      ]
     },
     "execution_count": 58,
     "metadata": {},
     "output_type": "execute_result"
    },
    {
     "data": {
      "image/png": "[encoded data removed]",
      "text/plain": [
       "<Figure size 432x288 with 2 Axes>"
      ]
     },
     "metadata": {
      "needs_background": "light"
     },
     "output_type": "display_data"
    }
   ],
   "source": [
    "# %matplotlib qt\n",
    "%matplotlib inline\n",
    "fig12=plt.figure('12')\n",
    "ax12 = plt.subplot(2, 1, 1)\n",
    "ax12.plot(np.arange(0.1, 10, 0.1), Q_vuv_vector, label='Q_vuv')\n",
    "ax12.set_xlabel('Characteristic Length in m')\n",
    "ax12.set_ylabel('Q values ')\n",
    "ax12.axvline(L_char_2PAC, c='g', label='2PAC')\n",
    "ax12.axvline(ds_veto_char_length, c='orange', label='Muon Veto')\n",
    "ax12.axvline(L_char_ARGO, c='r', label='ARGO')\n",
    "ax12.legend(loc='best')\n",
    "ax12.set_title('Characteristic Length vs Q_vuv', size=16, weight='bold')\n",
    "\n",
    "ax12 = plt.subplot(2, 1, 2)\n",
    "ax12.plot(np.arange(0.1, 10, 0.1), Q_vis_vector, label='Q_vis', c= 'purple')\n",
    "ax12.set_xlabel('Characteristic Length in m')\n",
    "ax12.set_ylabel('Q values ')\n",
    "ax12.axvline(L_char_2PAC, c='g', label='2PAC')\n",
    "ax12.axvline(ds_veto_char_length, c='orange', label='Muon Veto')\n",
    "ax12.axvline(L_char_ARGO, c='r', label='ARGO')\n",
    "ax12.legend(loc='best')"
   ]
  },
  {
   "cell_type": "markdown",
   "id": "81d5fd38-590f-4170-b8d1-ae9fa6ebbd3c",
   "metadata": {
    "tags": []
   },
   "source": [
    "<h4 style = 'color : magenta'> SiPM's not coverd with WLS </h4>"
   ]
  },
  {
   "cell_type": "code",
   "execution_count": 59,
   "id": "cccc6362-b67e-495c-9f9f-a38bd4bfd875",
   "metadata": {},
   "outputs": [],
   "source": [
    "LY_vector_1 = []\n",
    "Q_feasible_values = np.arange(1, 2, 0.01)\n",
    "\n",
    "for Q_variable in Q_feasible_values:\n",
    "    LY_vector_1.append(integrate_LY(wavelength_vector, E_TPB_smooth, PDE_smooth, R_SiPM_smooth, R_Wall_TPB_smooth,\n",
    "                                  f_sen=0.1, Q_vis=Q_vis_ARGO, Q_vuv=Q_variable,\n",
    "                                  SiPM_covered=False))\n",
    "\n",
    "LY_ARGO_1 = integrate_LY(wavelength_vector, E_TPB_smooth, PDE_smooth, R_SiPM_smooth, R_Wall_TPB_smooth,\n",
    "                       f_sen=0.1, Q_vis=Q_vis_ARGO, Q_vuv=Q_vuv_ARGO, SiPM_covered=False)\n",
    "LY_2PAC_1 = integrate_LY(wavelength_vector, E_TPB_smooth, PDE_smooth, R_SiPM_smooth, R_Wall_TPB_smooth,\n",
    "                                  f_sen=0.1, Q_vis=Q_vis_2PAC, Q_vuv=Q_vuv_2PAC,\n",
    "                                  SiPM_covered=False)\n",
    "LY_DS_muon_veto_1 = integrate_LY(wavelength_vector, E_TPB_smooth, PDE_smooth, R_SiPM_smooth, R_Wall_TPB_smooth,\n",
    "                                  f_sen=0.1, Q_vis=Q_vis_ds_veto, Q_vuv=Q_vuv_ds_veto,\n",
    "                                  SiPM_covered=False)"
   ]
  },
  {
   "cell_type": "code",
   "execution_count": 60,
   "id": "c5ed30f7-d2a5-40eb-a916-947983346a28",
   "metadata": {},
   "outputs": [
    {
     "data": {
      "text/plain": [
       "<matplotlib.legend.Legend at 0x214315bef40>"
      ]
     },
     "execution_count": 60,
     "metadata": {},
     "output_type": "execute_result"
    },
    {
     "data": {
      "image/png": "[encoded data removed]",
      "text/plain": [
       "<Figure size 432x288 with 1 Axes>"
      ]
     },
     "metadata": {
      "needs_background": "light"
     },
     "output_type": "display_data"
    }
   ],
   "source": [
    "# %matplotlib inline\n",
    "# %matplotlib qt\n",
    "fig14 = plt.figure('14')\n",
    "ax14 = plt.axes()\n",
    "ax14.plot(Q_feasible_values, LY_vector_1, label='LY')\n",
    "ax14.set_yscale('linear')\n",
    "ax14.legend(loc='best')\n",
    "ax14.set_xlabel('Q_VUV', size=16, weight='bold')\n",
    "ax14.set_ylabel('LY', size=16, weight='bold')\n",
    "ax14.scatter(Q_vuv_ARGO, LY_ARGO_1, label='ARGO', color='red')\n",
    "ax14.scatter(Q_vuv_2PAC, LY_2PAC_1, label='2PAC', color='green')\n",
    "ax14.scatter(Q_vuv_ds_veto, LY_DS_muon_veto_1, label='DS muon veto', color='orange')\n",
    "ax14.set_title('Q_vuv vs LY SiPM NOT covered f_sen=0.1 Q_vis small', size=16, weight='bold')\n",
    "ax14.legend()"
   ]
  },
  {
   "cell_type": "code",
   "execution_count": 61,
   "id": "cff3d81e-2956-42fd-a494-c9a38b150f80",
   "metadata": {},
   "outputs": [
    {
     "data": {
      "text/plain": [
       "('ARGO LY:', 1.9326369620988664)"
      ]
     },
     "execution_count": 61,
     "metadata": {},
     "output_type": "execute_result"
    }
   ],
   "source": [
    "'ARGO LY:', integrate_LY(wavelength_vector, E_TPB_smooth, PDE_smooth, R_SiPM_smooth, R_Wall_TPB_smooth,\n",
    "                                  f_sen=0.1, Q_vis=Q_vis_ARGO, Q_vuv=Q_vuv_ARGO,\n",
    "                                  SiPM_covered=False)"
   ]
  },
  {
   "cell_type": "code",
   "execution_count": 62,
   "id": "9c160f3d-d596-4b18-8f87-0baac8a98456",
   "metadata": {},
   "outputs": [
    {
     "data": {
      "text/plain": [
       "('DS Muon Veto LY:', 5.489852508988709)"
      ]
     },
     "execution_count": 62,
     "metadata": {},
     "output_type": "execute_result"
    }
   ],
   "source": [
    "'DS Muon Veto LY:', integrate_LY(wavelength_vector, E_TPB_smooth, PDE_smooth, R_SiPM_smooth, R_Wall_TPB_smooth,\n",
    "                                  f_sen=0.1, Q_vis=Q_vis_ds_veto, Q_vuv=Q_vuv_ds_veto,\n",
    "                                  SiPM_covered=False)"
   ]
  },
  {
   "cell_type": "code",
   "execution_count": 63,
   "id": "a9ea5345-5c2f-487a-bee7-adc11a14ce52",
   "metadata": {},
   "outputs": [
    {
     "data": {
      "text/plain": [
       "('2PAC LY:', 7.762256542634427)"
      ]
     },
     "execution_count": 63,
     "metadata": {},
     "output_type": "execute_result"
    }
   ],
   "source": [
    "'2PAC LY:', integrate_LY(wavelength_vector, E_TPB_smooth, PDE_smooth, R_SiPM_smooth, R_Wall_TPB_smooth,\n",
    "                                  f_sen=0.1, Q_vis=Q_vis_2PAC, Q_vuv=Q_vuv_2PAC,\n",
    "                                  SiPM_covered=False)"
   ]
  },
  {
   "cell_type": "markdown",
   "id": "4474fda7-2f4a-40ad-b40b-617395a25120",
   "metadata": {
    "tags": []
   },
   "source": [
    "<h4 style = 'color : magenta'> SiPM's coverd with WLS </h4>"
   ]
  },
  {
   "cell_type": "code",
   "execution_count": 64,
   "id": "be83a47f-3aa5-42e9-9d22-705dccb18a0e",
   "metadata": {},
   "outputs": [],
   "source": [
    "LY_vector_2 = []\n",
    "Q_feasible_values = np.arange(1, 2, 0.01)\n",
    "\n",
    "for Q_variable in Q_feasible_values:\n",
    "    LY_vector_2.append(integrate_LY(wavelength_vector, E_TPB_smooth, PDE_smooth, R_SiPM_smooth, R_Wall_TPB_smooth,\n",
    "                                  f_sen=0.1, Q_vis=Q_vis_ARGO, Q_vuv=Q_variable,\n",
    "                                  SiPM_covered=True))\n",
    "LY_ARGO_2 = integrate_LY(wavelength_vector, E_TPB_smooth, PDE_smooth, R_SiPM_smooth, R_Wall_TPB_smooth,\n",
    "                       f_sen=0.1, Q_vis=Q_vis_ARGO, Q_vuv=Q_vuv_ARGO, SiPM_covered=True)\n",
    "LY_2PAC_2 = integrate_LY(wavelength_vector, E_TPB_smooth, PDE_smooth, R_SiPM_smooth, R_Wall_TPB_smooth,\n",
    "                                  f_sen=0.1, Q_vis=Q_vis_2PAC, Q_vuv=Q_vuv_2PAC,\n",
    "                                  SiPM_covered=True)\n",
    "LY_DS_muon_veto_2 = integrate_LY(wavelength_vector, E_TPB_smooth, PDE_smooth, R_SiPM_smooth, R_Wall_TPB_smooth,\n",
    "                                  f_sen=0.1, Q_vis=Q_vis_ds_veto, Q_vuv=Q_vuv_ds_veto,\n",
    "                                  SiPM_covered=True)"
   ]
  },
  {
   "cell_type": "code",
   "execution_count": 65,
   "id": "9ddfd1cf-b224-4c8d-b36d-30daafb5bb5c",
   "metadata": {},
   "outputs": [
    {
     "data": {
      "text/plain": [
       "<matplotlib.legend.Legend at 0x21431636c10>"
      ]
     },
     "execution_count": 65,
     "metadata": {},
     "output_type": "execute_result"
    },
    {
     "data": {
      "image/png": "[encoded data removed]",
      "text/plain": [
       "<Figure size 432x288 with 1 Axes>"
      ]
     },
     "metadata": {
      "needs_background": "light"
     },
     "output_type": "display_data"
    }
   ],
   "source": [
    "# %matplotlib inline\n",
    "# %matplotlib qt\n",
    "fig15 = plt.figure('15')\n",
    "ax15 = plt.axes()\n",
    "ax15.plot(Q_feasible_values, LY_vector_2, label='LY')\n",
    "ax15.set_yscale('linear')\n",
    "ax15.legend(loc='best')\n",
    "ax15.set_xlabel('Q_VUV', size=16, weight='bold')\n",
    "ax15.set_ylabel('LY', size=16, weight='bold')\n",
    "ax15.scatter(Q_vuv_ARGO, LY_ARGO_2, label='ARGO', color='red')\n",
    "ax15.scatter(Q_vuv_2PAC, LY_2PAC_2, label='2PAC', color='green')\n",
    "ax15.scatter(Q_vuv_ds_veto, LY_DS_muon_veto_2, label='DS muon veto', color='orange')\n",
    "ax15.set_title('Q_vuv vs LY SiPM covered f_sen=0.1 Q_vis small', size=16, weight='bold')\n",
    "ax15.legend()"
   ]
  },
  {
   "cell_type": "code",
   "execution_count": 66,
   "id": "aa15254e-223d-45fb-87f7-f94de27e9d6a",
   "metadata": {},
   "outputs": [
    {
     "data": {
      "text/plain": [
       "('ARGO LY:', 2.5714188842725414)"
      ]
     },
     "execution_count": 66,
     "metadata": {},
     "output_type": "execute_result"
    }
   ],
   "source": [
    "'ARGO LY:', integrate_LY(wavelength_vector, E_TPB_smooth, PDE_smooth, R_SiPM_smooth, R_Wall_TPB_smooth,\n",
    "                                  f_sen=0.1, Q_vis=Q_vis_ARGO, Q_vuv=Q_vuv_ARGO,\n",
    "                                  SiPM_covered=True)"
   ]
  },
  {
   "cell_type": "code",
   "execution_count": 67,
   "id": "1d4fb2f4-5d4a-4e91-9f7c-1757f57ace9e",
   "metadata": {},
   "outputs": [
    {
     "data": {
      "text/plain": [
       "('DS Muon Veto LY: ', 6.341454847386831)"
      ]
     },
     "execution_count": 67,
     "metadata": {},
     "output_type": "execute_result"
    }
   ],
   "source": [
    "'DS Muon Veto LY: ', integrate_LY(wavelength_vector, E_TPB_smooth, PDE_smooth, R_SiPM_smooth, R_Wall_TPB_smooth,\n",
    "                                  f_sen=0.1, Q_vis=Q_vis_ds_veto, Q_vuv=Q_vuv_ds_veto,\n",
    "                                  SiPM_covered=True)"
   ]
  },
  {
   "cell_type": "code",
   "execution_count": 68,
   "id": "8ee0f2e0-c40e-40fd-9b24-2bfc95497788",
   "metadata": {},
   "outputs": [
    {
     "data": {
      "text/plain": [
       "('2PAC LY:', 8.743778295121725)"
      ]
     },
     "execution_count": 68,
     "metadata": {},
     "output_type": "execute_result"
    }
   ],
   "source": [
    "'2PAC LY:', integrate_LY(wavelength_vector, E_TPB_smooth, PDE_smooth, R_SiPM_smooth, R_Wall_TPB_smooth,\n",
    "                                  f_sen=0.1, Q_vis=Q_vis_2PAC, Q_vuv=Q_vuv_2PAC,\n",
    "                                  SiPM_covered=True)"
   ]
  },
  {
   "cell_type": "markdown",
   "id": "b5f449d0-ab09-4efb-968a-9847677aa788",
   "metadata": {
    "tags": []
   },
   "source": [
    "<h4 style = 'color : Magenta'> Q_vis vs LY when SiPM's coverd with WLS </h4>"
   ]
  },
  {
   "cell_type": "code",
   "execution_count": 69,
   "id": "a360d420-f698-466b-ad59-bb3ab64dc212",
   "metadata": {},
   "outputs": [],
   "source": [
    "LY_vector_3 = []\n",
    "Q_feasible_values = np.arange(1.0, 1.1, 0.0001)\n",
    "\n",
    "for Q_variable in Q_feasible_values:\n",
    "    LY_vector_3.append(integrate_LY(wavelength_vector, E_TPB_smooth, PDE_smooth, R_SiPM_smooth, R_Wall_TPB_smooth,\n",
    "                                  f_sen=0.1, Q_vis=Q_variable, Q_vuv=Q_vuv_ARGO,\n",
    "                                  SiPM_covered=True))\n",
    "LY_ARGO_3 = integrate_LY(wavelength_vector, E_TPB_smooth, PDE_smooth, R_SiPM_smooth, R_Wall_TPB_smooth,\n",
    "                       f_sen=0.1, Q_vis=Q_vis_ARGO, Q_vuv=Q_vuv_ARGO, SiPM_covered=True)\n",
    "LY_2PAC_3 = integrate_LY(wavelength_vector, E_TPB_smooth, PDE_smooth, R_SiPM_smooth, R_Wall_TPB_smooth,\n",
    "                                  f_sen=0.1, Q_vis=Q_vis_2PAC, Q_vuv=Q_vuv_2PAC,\n",
    "                                  SiPM_covered=True)\n",
    "LY_DS_muon_veto_3 = integrate_LY(wavelength_vector, E_TPB_smooth, PDE_smooth, R_SiPM_smooth, R_Wall_TPB_smooth,\n",
    "                                  f_sen=0.1, Q_vis=Q_vis_ds_veto, Q_vuv=Q_vuv_ds_veto,\n",
    "                                  SiPM_covered=True)"
   ]
  },
  {
   "cell_type": "code",
   "execution_count": 70,
   "id": "f3f4fd9a-ffb3-4d59-9dab-355f4be2886d",
   "metadata": {},
   "outputs": [],
   "source": [
    "# not important\n",
    "# %matplotlib inline\n",
    "# fig16 = plt.figure('16')\n",
    "# ax16 = plt.axes()\n",
    "# ax16.plot(Q_feasible_values, LY_vector_3, label='LY SiPM covered')\n",
    "# ax16.set_yscale('linear')\n",
    "# ax16.legend(loc='best')\n",
    "# ax16.set_xlabel('Q_VIS')\n",
    "# ax16.set_ylabel('LY')\n",
    "# ax16.scatter(Q_vis_ARGO, LY_ARGO_3, label='ARGO', color='red')\n",
    "# ax16.scatter(Q_vis_2PAC, LY_2PAC_3, label='2PAC', color='green')\n",
    "# ax16.scatter(Q_vis_ds_veto, LY_DS_muon_veto_3, label='DS muon veto', color='orange')\n",
    "# ax16.set_title('Q_vis vs LY SiPM covered')\n",
    "# ax16.legend()"
   ]
  },
  {
   "cell_type": "code",
   "execution_count": 71,
   "id": "27ab820d-dc43-4a02-a624-29d1fad2ffc4",
   "metadata": {},
   "outputs": [],
   "source": [
    "# the blue curve is only for ARGO and red marker falls on it which is for ARGO as well."
   ]
  },
  {
   "cell_type": "markdown",
   "id": "03ffb6d3-b2c4-4726-8482-3ab41701bae9",
   "metadata": {
    "tags": []
   },
   "source": [
    "### temp Sanity check ?"
   ]
  },
  {
   "cell_type": "code",
   "execution_count": 72,
   "id": "acd8f948-5581-45a4-9c5f-449afb9fb349",
   "metadata": {},
   "outputs": [],
   "source": [
    "# LY_vector_4 = []\n",
    "# Q_feasible_values = np.ones(1001)\n",
    "\n",
    "# for Q_variable in Q_feasible_values:\n",
    "#     LY_vector_4.append(integrate_LY(wavelength_vector, E_TPB_smooth, PDE_smooth, R_SiPM_smooth, R_Wall_TPB_smooth,\n",
    "#                                   f_sen=0.1, Q_vis=Q_variable, Q_vuv=1,\n",
    "#                                   SiPM_covered=True))\n",
    "# LY_ARGO_4 = integrate_LY(wavelength_vector, E_TPB_smooth, PDE_smooth, R_SiPM_smooth, R_Wall_TPB_smooth,\n",
    "#                        f_sen=0.1, Q_vis=Q_vis_ARGO, Q_vuv=Q_vuv_ARGO, SiPM_covered=True)\n",
    "# LY_2PAC_4 = integrate_LY(wavelength_vector, E_TPB_smooth, PDE_smooth, R_SiPM_smooth, R_Wall_TPB_smooth,\n",
    "#                                   f_sen=0.1, Q_vis=Q_vis_2PAC, Q_vuv=Q_vuv_2PAC,\n",
    "#                                   SiPM_covered=True)\n",
    "# LY_DS_muon_veto_4 = integrate_LY(wavelength_vector, E_TPB_smooth, PDE_smooth, R_SiPM_smooth, R_Wall_TPB_smooth,\n",
    "#                                   f_sen=0.1, Q_vis=Q_vis_ds_veto, Q_vuv=Q_vuv_ds_veto,\n",
    "#                                   SiPM_covered=True)"
   ]
  },
  {
   "cell_type": "code",
   "execution_count": 73,
   "id": "8074b401-298b-44df-9295-0bb44c1c1d66",
   "metadata": {},
   "outputs": [],
   "source": [
    "# # %matplotlib inline\n",
    "# fig16 = plt.figure('16')\n",
    "# ax16 = plt.axes()\n",
    "# ax16.plot(Q_feasible_values, LY_vector_4, label='LY SiPM covered')\n",
    "# ax16.set_yscale('linear')\n",
    "# ax16.legend(loc='best')\n",
    "# ax16.set_xlabel('Q_VIS')\n",
    "# ax16.set_ylabel('LY')\n",
    "# ax16.scatter(Q_vis_ARGO, LY_ARGO_4, label='ARGO', color='red')\n",
    "# ax16.scatter(Q_vis_2PAC, LY_2PAC_4, label='2PAC', color='green')\n",
    "# ax16.scatter(Q_vis_ds_veto, LY_DS_muon_veto_4, label='DS muon veto', color='orange')\n",
    "# ax16.set_title('Q_vis vs LY SiPM covered')\n",
    "# ax16.legend()"
   ]
  },
  {
   "cell_type": "code",
   "execution_count": 74,
   "id": "b4581980-7329-4f23-b67f-89ed5fc1e131",
   "metadata": {},
   "outputs": [],
   "source": [
    "# LY_vector_4 "
   ]
  },
  {
   "cell_type": "markdown",
   "id": "6b5fa9df-4786-43b3-b1ff-1484f088abb1",
   "metadata": {},
   "source": [
    "<h2 style = 'color: deeppink'> LY for VUV sensitive SiPM's WITHOUT wavelength shifter </h2>\n",
    "\n",
    "<h3 style = 'color:DeepPink;'>  Calculating $F_{VUV} $\n",
    "</h3>\n",
    "\n",
    "<span style = 'color : lime;  font-size:14pt;'>\n",
    "\n",
    "$$ F_{VUV} = \\frac{f_{sen}FF_{sys}T}{Q-( f_{sen}R + (1-f_{sen}){R_{wall}} )} $$\n",
    "\n",
    "</span>\n",
    "<br>\n",
    "<span style = 'color : lime;  font-size:14pt;'>\n",
    "    \n",
    "$$X_{T} = FF_{sys}f_{sen}T$$\n",
    "\n",
    "$$ F(Q, X_T, s + w) = \\frac{X_T}{Q-(s+w)} $$\n",
    "\n",
    "</span>"
   ]
  },
  {
   "cell_type": "code",
   "execution_count": 75,
   "id": "ff333ca0-be95-4c18-b621-9ae986c68c07",
   "metadata": {},
   "outputs": [],
   "source": [
    "def calc_F_vuv(Q, R, A, R_wall, f_sen, FF_sys):\n",
    "    '''\n",
    "    R + A + T= 1\n",
    "    T = 1 - (R + A)\n",
    "    '''\n",
    "    return f_sen*FF_sys*(1-(R+A))/(Q - (f_sen*R + (1-f_sen)*R_wall) )"
   ]
  },
  {
   "cell_type": "code",
   "execution_count": 76,
   "id": "c73b4c7f-827e-424e-bf0b-c68b5e10ff46",
   "metadata": {},
   "outputs": [],
   "source": [
    "# calc_F(R, R_Wall, f_sen, 1, 1)\n",
    "# need R_wall for 128nm \n",
    "# Also create loop for R \n",
    "# separate plots for f_sen?\n",
    "# calc_LCE_vuv(0.5, )"
   ]
  },
  {
   "cell_type": "code",
   "execution_count": 77,
   "id": "196ab3ff-c74c-41c9-93dc-8a1ba5065f56",
   "metadata": {},
   "outputs": [],
   "source": [
    "# Copying and modifying some functions since F definition has changed for VUV sensitive SiPM's.\n"
   ]
  },
  {
   "cell_type": "markdown",
   "id": "b1647977-0e07-4165-a407-cb6bf6ddd028",
   "metadata": {},
   "source": [
    "<p style = 'color: DeepPink; text-align:center; font-size:24pt;'> 🎂 Light Yield \n",
    "</p>\n",
    "<br>\n",
    "<span style = 'color:lightgreen; font-size: 14pt'> Remember there is no WLS anywhere in this configuration. Thus, \n",
    "<br>\n",
    "</span>\n",
    "<br>\n",
    "<span style = 'color:lime;  font-size:14pt;'>\n",
    "    $$\n",
    "    LCE_{VUV} = F_{VUV}(Q_{VUV}, X_{T}, s+w)\n",
    "    $$\n",
    "</span>\n",
    "<br>\n",
    "<span style = 'color: lightgreen; font-size:14pt'>\n",
    "    No need for integration as we only have one wavelength. Thus, \n",
    "<br>\n",
    "<br>\n",
    "</span>\n",
    "<span style = 'color : lime; font-size:14pt;'> \n",
    "$$\n",
    "LY_{VUV} = SY*PDE*F_{VUV}\n",
    "$$\n",
    "</span>\n",
    "<br>"
   ]
  },
  {
   "cell_type": "code",
   "execution_count": 78,
   "id": "8773ae80-0c64-4250-bc40-c8c357728804",
   "metadata": {},
   "outputs": [],
   "source": [
    "def calc_LY_vuv( R, A, R_wall, f_sen, FF_sys = 1, Q_vuv = 1, PDE=0.15, SY = 40):\n",
    "\n",
    "    return SY*PDE*calc_F_vuv(Q_vuv, R, A, R_wall, f_sen, FF_sys)"
   ]
  },
  {
   "cell_type": "code",
   "execution_count": 79,
   "id": "55c592cd-7358-430f-aaaa-d7ad1f4463d1",
   "metadata": {},
   "outputs": [
    {
     "data": {
      "text/plain": [
       "1.0886373647711112"
      ]
     },
     "execution_count": 79,
     "metadata": {},
     "output_type": "execute_result"
    }
   ],
   "source": [
    "calc_LY_vuv( 0.2, 0, 1, 0.1, Q_vuv=Q_vuv_ARGO)"
   ]
  },
  {
   "cell_type": "code",
   "execution_count": 80,
   "id": "38b7dea0-1296-4f3b-95d5-76f0c16b3500",
   "metadata": {},
   "outputs": [
    {
     "data": {
      "text/plain": [
       "\u001b[1;31mSignature:\u001b[0m \u001b[0mcalc_LY_vuv\u001b[0m\u001b[1;33m(\u001b[0m\u001b[0mR\u001b[0m\u001b[1;33m,\u001b[0m \u001b[0mA\u001b[0m\u001b[1;33m,\u001b[0m \u001b[0mR_wall\u001b[0m\u001b[1;33m,\u001b[0m \u001b[0mf_sen\u001b[0m\u001b[1;33m,\u001b[0m \u001b[0mFF_sys\u001b[0m\u001b[1;33m=\u001b[0m\u001b[1;36m1\u001b[0m\u001b[1;33m,\u001b[0m \u001b[0mQ_vuv\u001b[0m\u001b[1;33m=\u001b[0m\u001b[1;36m1\u001b[0m\u001b[1;33m,\u001b[0m \u001b[0mPDE\u001b[0m\u001b[1;33m=\u001b[0m\u001b[1;36m0.15\u001b[0m\u001b[1;33m,\u001b[0m \u001b[0mSY\u001b[0m\u001b[1;33m=\u001b[0m\u001b[1;36m40\u001b[0m\u001b[1;33m)\u001b[0m\u001b[1;33m\u001b[0m\u001b[1;33m\u001b[0m\u001b[0m\n",
       "\u001b[1;31mDocstring:\u001b[0m <no docstring>\n",
       "\u001b[1;31mFile:\u001b[0m      c:\\users\\sarth\\appdata\\local\\temp\\ipykernel_20784\\2804114498.py\n",
       "\u001b[1;31mType:\u001b[0m      function\n"
      ]
     },
     "metadata": {},
     "output_type": "display_data"
    }
   ],
   "source": [
    "calc_LY_vuv?"
   ]
  },
  {
   "cell_type": "code",
   "execution_count": 81,
   "id": "4c61a03c-d1ca-4baa-8354-4c00c7fe4d40",
   "metadata": {},
   "outputs": [],
   "source": [
    "R = np.arange(0.2, 0.6, 0.01) # reflectance of antireflection coating on SiPM\n",
    "A = np.arange(0, 0.3, 0.01) # absorption inantireflection coating on SiPMabsorp\n",
    "R, A = np.meshgrid(R, A)\n",
    "\n",
    "R_wall_fixed = 0.97 # Ask Marcin\n",
    "\n",
    "f_sen_min = (2*np.pi*(7.05/2)**2)/(2*np.pi*(7.05/2)*( 7.05/2 + 7.05))\n",
    "f_sen_max = 1.0\n",
    "lambda_abs_min = 20\n",
    "lambda_abs_max = 100\n",
    "Q_vuv_ARGO_max = calc_Q(L_char=L_char_ARGO, lambda_abs=lambda_abs_min, lambda_R=0.97)\n",
    "Q_vuv_ARGO_min = calc_Q(L_char=L_char_ARGO, lambda_abs=lambda_abs_max, lambda_R=0.97)"
   ]
  },
  {
   "cell_type": "code",
   "execution_count": 82,
   "id": "30bc047c-9068-4db6-99e4-eabf9dec2a4c",
   "metadata": {},
   "outputs": [],
   "source": [
    "from matplotlib import lines\n",
    "from matplotlib import cm\n",
    "from matplotlib import ticker"
   ]
  },
  {
   "cell_type": "code",
   "execution_count": 83,
   "id": "2b9fe2fb-e298-41e3-a5f8-5405f2905d48",
   "metadata": {},
   "outputs": [],
   "source": [
    "# fen_sen min Q_vuv min\n",
    "\n",
    "LY_11 = calc_LY_vuv(R, A, R_wall_fixed, f_sen_min, Q_vuv=Q_vuv_ARGO_min)\n",
    "LY_12 = calc_LY_vuv(R, A, R_wall_fixed, f_sen_min, Q_vuv=Q_vuv_ARGO_max)\n",
    "LY_21 = calc_LY_vuv(R, A, R_wall_fixed, f_sen_max, Q_vuv=Q_vuv_ARGO_min)\n",
    "LY_22 = calc_LY_vuv(R, A, R_wall_fixed, f_sen_max, Q_vuv=Q_vuv_ARGO_max)"
   ]
  },
  {
   "cell_type": "markdown",
   "id": "dbd8053f-44bb-431e-9d34-c41b024c5e48",
   "metadata": {},
   "source": [
    "<h3 style = 'color: magenta'> ploting </h3>"
   ]
  },
  {
   "cell_type": "code",
   "execution_count": 94,
   "id": "6bc5d0aa-7574-4900-b7bb-dc9afdf38792",
   "metadata": {
    "tags": []
   },
   "outputs": [
    {
     "data": {
      "text/plain": [
       "Text(0.5, 1.0, 'f_sen=0.33, lambda_abs=100')"
      ]
     },
     "execution_count": 94,
     "metadata": {},
     "output_type": "execute_result"
    }
   ],
   "source": [
    "%matplotlib qt\n",
    "# contour plots\n",
    "\n",
    "fig21 = plt.figure('21')\n",
    "ax21 = plt.axes()\n",
    "\n",
    "cs = ax21.contourf(R, A, LY_11, levels = np.linspace(LY_11.min(), LY_11.max(), 20),\n",
    "             locator=ticker.LinearLocator(), cmap=cm.RdBu)\n",
    "\n",
    "\n",
    "ax21.set_xlabel('R', color='red', weight='bold', fontsize='14')\n",
    "ax21.set_ylabel('A', color='red', weight='bold', fontsize='14')\n",
    "cbar = fig21.colorbar(cs)\n",
    "ax21.set_title(f\"f_sen={f_sen_min:.2f}, lambda_abs={lambda_abs_max}\", color='maroon', weight='bold', fontsize='14') \n",
    "# min in Q_vuv corresponds to max lambda_abs"
   ]
  },
  {
   "cell_type": "code",
   "execution_count": 85,
   "id": "a7f79cc7-60ee-4f07-b36a-0fc14e54945c",
   "metadata": {
    "tags": []
   },
   "outputs": [
    {
     "data": {
      "text/plain": [
       "Text(0.5, 1.0, 'f_sen=0.33, lambda_abs=20')"
      ]
     },
     "execution_count": 85,
     "metadata": {},
     "output_type": "execute_result"
    }
   ],
   "source": [
    "# %matplotlib qt\n",
    "\n",
    "fig22 = plt.figure('22')\n",
    "ax22 = plt.axes()\n",
    "\n",
    "cs = ax22.contourf(R, A, LY_12, levels = np.linspace(LY_12.min(), LY_12.max(), 20),\n",
    "             locator=ticker.LinearLocator(), cmap=cm.RdBu)\n",
    "\n",
    "\n",
    "ax22.set_xlabel('R', color='red', weight='bold', fontsize='14')\n",
    "ax22.set_ylabel('A', color='red', weight='bold', fontsize='14')\n",
    "fig22.colorbar(cs)\n",
    "ax22.set_title(f\"f_sen={f_sen_min:.2f}, lambda_abs={lambda_abs_min}\", color='maroon', weight='bold', fontsize='14')"
   ]
  },
  {
   "cell_type": "code",
   "execution_count": 86,
   "id": "34c54981-c098-46f5-b63a-a16a600205a0",
   "metadata": {
    "tags": []
   },
   "outputs": [
    {
     "data": {
      "text/plain": [
       "Text(0.5, 1.0, 'f_sen=1.00, lambda_abs=100')"
      ]
     },
     "execution_count": 86,
     "metadata": {},
     "output_type": "execute_result"
    }
   ],
   "source": [
    "# %matplotlib qt\n",
    "\n",
    "fig23 = plt.figure('23')\n",
    "ax23 = plt.axes()\n",
    "\n",
    "cs = ax23.contourf(R, A, LY_21, levels = np.linspace(LY_21.min(), LY_21.max(), 20),\n",
    "             locator=ticker.LinearLocator(), cmap=cm.RdBu)\n",
    "\n",
    "\n",
    "ax23.set_xlabel('R', color='red', weight='bold', fontsize='14')\n",
    "ax23.set_ylabel('A', color='red', weight='bold', fontsize='14')\n",
    "fig23.colorbar(cs)\n",
    "ax23.set_title(f\"f_sen={f_sen_max:.2f}, lambda_abs={lambda_abs_max}\", color='maroon', weight='bold', fontsize='14')"
   ]
  },
  {
   "cell_type": "code",
   "execution_count": 87,
   "id": "22949527-3445-4104-9bcc-351bf9780470",
   "metadata": {
    "tags": []
   },
   "outputs": [
    {
     "data": {
      "text/plain": [
       "Text(0.5, 1.0, 'f_sen=1.00, lambda_abs=20')"
      ]
     },
     "execution_count": 87,
     "metadata": {},
     "output_type": "execute_result"
    }
   ],
   "source": [
    "# %matplotlib qt\n",
    "\n",
    "fig24 = plt.figure('24')\n",
    "ax24 = plt.axes()\n",
    "\n",
    "cs = ax24.contourf(R, A, LY_22, levels = np.linspace(LY_22.min(), LY_22.max(), 20),\n",
    "             locator=ticker.LinearLocator(), cmap=cm.RdBu)\n",
    "\n",
    "\n",
    "ax24.set_xlabel('R', color='red', weight='bold', fontsize='14')\n",
    "ax24.set_ylabel('A', color='red', weight='bold', fontsize='14')\n",
    "fig24.colorbar(cs)\n",
    "ax24.set_title(f\"f_sen={f_sen_max:.2f}, lambda_abs={lambda_abs_min}\", color='maroon', weight='bold', fontsize='14')"
   ]
  },
  {
   "cell_type": "code",
   "execution_count": 88,
   "id": "2a13a4a1-4dd2-47f1-8382-d449978239b5",
   "metadata": {},
   "outputs": [],
   "source": [
    "# # surface plots\n",
    "# # %matplotlib qt\n",
    "\n",
    "# fig17 = plt.figure('17')\n",
    "# ax17 = plt.axes(projection='3d')\n",
    "\n",
    "# ax17.plot_surface(R, A, LY_11, cmap=cm.coolwarm,\n",
    "#                        linewidth=0, antialiased=True, label='f_sen=min, Q_vuv=min')\n",
    "# ax17.set_xlabel('R', color='red', weight='bold', fontsize='14')\n",
    "# ax17.set_ylabel('A', color='red', weight='bold', fontsize='14')\n",
    "# ax17.set_zlabel('LY', color='red', weight='bold', fontsize='14')\n",
    "\n",
    "# # fake2Dline=lines.Line2D([0],[0], linestyle=\"none\", c='b', marker = 'o') # just for adding legend\n",
    "# # ax17.legend([fake2Dline], ['surface plot for f_sen=min, Q_vuv=min'], numpoints = 1)\n",
    "# ax17.set_title('f_sen=min, Q_vuv=min')"
   ]
  },
  {
   "cell_type": "code",
   "execution_count": 89,
   "id": "355afc25-3d21-45e8-adc8-43c594e276ef",
   "metadata": {},
   "outputs": [],
   "source": [
    "# fig18 = plt.figure('18')\n",
    "# ax18 = plt.axes(projection='3d')\n",
    "\n",
    "# ax18.plot_surface(R, A, LY_12, cmap=cm.coolwarm,\n",
    "#                        linewidth=0, antialiased=True, label='f_sen=min, Q_vuv=max')\n",
    "# ax18.set_xlabel('R', color='red', weight='bold', fontsize='14')\n",
    "# ax18.set_ylabel('A', color='red', weight='bold', fontsize='14')\n",
    "# ax18.set_zlabel('LY', color='red', weight='bold', fontsize='14')\n",
    "\n",
    "# ax18.set_title('f_sen=min, Q_vuv=max')"
   ]
  },
  {
   "cell_type": "code",
   "execution_count": 90,
   "id": "40482e15-a5b0-440d-90c5-a8a942a85b14",
   "metadata": {},
   "outputs": [],
   "source": [
    "# fig19 = plt.figure('19')\n",
    "# ax19 = plt.axes(projection='3d')\n",
    "\n",
    "# ax19.plot_surface(R, A, LY_21, cmap=cm.coolwarm,\n",
    "#                        linewidth=0, antialiased=True, label='f_sen=max, Q_vuv=min')\n",
    "# ax19.set_xlabel('R', color='red', weight='bold', fontsize='14')\n",
    "# ax19.set_ylabel('A', color='red', weight='bold', fontsize='14')\n",
    "# ax19.set_zlabel('LY', color='red', weight='bold', fontsize='14')\n",
    "\n",
    "# ax19.set_title('f_sen=max, Q_vuv=min')"
   ]
  },
  {
   "cell_type": "code",
   "execution_count": 91,
   "id": "caa2bb57-0042-419e-802e-3488a87b94eb",
   "metadata": {},
   "outputs": [],
   "source": [
    "# fig20 = plt.figure('20')\n",
    "# ax20 = plt.axes(projection='3d')\n",
    "\n",
    "# ax20.plot_surface(R, A, LY_22, cmap=cm.coolwarm,\n",
    "#                        linewidth=0, antialiased=True, label='f_sen=max, Q_vuv=max')\n",
    "# ax20.set_xlabel('R', color='red', weight='bold', fontsize='14')\n",
    "# ax20.set_ylabel('A', color='red', weight='bold', fontsize='14')\n",
    "# ax20.set_zlabel('LY', color='red', weight='bold', fontsize='14')\n",
    "\n",
    "# ax20.set_title('f_sen=max, Q_vuv=max')"
   ]
  },
  {
   "cell_type": "code",
   "execution_count": 92,
   "id": "ae07c891-ca0e-419b-a8e2-2f44a453579f",
   "metadata": {},
   "outputs": [],
   "source": [
    "# %matplotlib inline"
   ]
  },
  {
   "cell_type": "code",
   "execution_count": null,
   "id": "a1736db5-75bb-47f9-83e0-8030aaccf0c4",
   "metadata": {},
   "outputs": [],
   "source": []
  }
 ],
 "metadata": {
  "@deathbeds/jupyterlab-fonts": {
   "fontLicenses": {
    "Fira Code Regular": {
     "holders": [
      "Copyright (c) 2014, Nikita Prokopov http://tonsky.me with Reserved Font Name Fira Code.",
      "Copyright (c) 2014, Mozilla Foundation https://mozilla.org/ with Reserved Font Name Fira Sans.",
      "Copyright (c) 2014, Mozilla Foundation https://mozilla.org/ with Reserved Font Name Fira Mono.",
      "Copyright (c) 2014, Telefonica S.A."
     ],
     "name": "SIL Open Font License 1.1",
     "spdx": "OFL-1.1",
     "text": "Copyright (c) 2014, The Fira Code Project Authors (https://github.com/tonsky/FiraCode)\n\nThis Font Software is licensed under the SIL Open Font License, Version 1.1.\nThis license is copied below, and is also available with a FAQ at:\nhttp://scripts.sil.org/OFL\n\n\n-----------------------------------------------------------\nSIL OPEN FONT LICENSE Version 1.1 - 26 February 2007\n-----------------------------------------------------------\n\nPREAMBLE\nThe goals of the Open Font License (OFL) are to stimulate worldwide\ndevelopment of collaborative font projects, to support the font creation\nefforts of academic and linguistic communities, and to provide a free and\nopen framework in which fonts may be shared and improved in partnership\nwith others.\n\nThe OFL allows the licensed fonts to be used, studied, modified and\nredistributed freely as long as they are not sold by themselves. The\nfonts, including any derivative works, can be bundled, embedded,\nredistributed and/or sold with any software provided that any reserved\nnames are not used by derivative works. The fonts and derivatives,\nhowever, cannot be released under any other type of license. The\nrequirement for fonts to remain under this license does not apply\nto any document created using the fonts or their derivatives.\n\nDEFINITIONS\n\"Font Software\" refers to the set of files released by the Copyright\nHolder(s) under this license and clearly marked as such. This may\ninclude source files, build scripts and documentation.\n\n\"Reserved Font Name\" refers to any names specified as such after the\ncopyright statement(s).\n\n\"Original Version\" refers to the collection of Font Software components as\ndistributed by the Copyright Holder(s).\n\n\"Modified Version\" refers to any derivative made by adding to, deleting,\nor substituting -- in part or in whole -- any of the components of the\nOriginal Version, by changing formats or by porting the Font Software to a\nnew environment.\n\n\"Author\" refers to any designer, engineer, programmer, technical\nwriter or other person who contributed to the Font Software.\n\nPERMISSION & CONDITIONS\nPermission is hereby granted, free of charge, to any person obtaining\na copy of the Font Software, to use, study, copy, merge, embed, modify,\nredistribute, and sell modified and unmodified copies of the Font\nSoftware, subject to the following conditions:\n\n1) Neither the Font Software nor any of its individual components,\nin Original or Modified Versions, may be sold by itself.\n\n2) Original or Modified Versions of the Font Software may be bundled,\nredistributed and/or sold with any software, provided that each copy\ncontains the above copyright notice and this license. These can be\nincluded either as stand-alone text files, human-readable headers or\nin the appropriate machine-readable metadata fields within text or\nbinary files as long as those fields can be easily viewed by the user.\n\n3) No Modified Version of the Font Software may use the Reserved Font\nName(s) unless explicit written permission is granted by the corresponding\nCopyright Holder. This restriction only applies to the primary font name as\npresented to the users.\n\n4) The name(s) of the Copyright Holder(s) or the Author(s) of the Font\nSoftware shall not be used to promote, endorse or advertise any\nModified Version, except to acknowledge the contribution(s) of the\nCopyright Holder(s) and the Author(s) or with their explicit written\npermission.\n\n5) The Font Software, modified or unmodified, in part or in whole,\nmust be distributed entirely under this license, and must not be\ndistributed under any other license. The requirement for fonts to\nremain under this license does not apply to any document created\nusing the Font Software.\n\nTERMINATION\nThis license becomes null and void if any of the above conditions are\nnot met.\n\nDISCLAIMER\nTHE FONT SOFTWARE IS PROVIDED \"AS IS\", WITHOUT WARRANTY OF ANY KIND,\nEXPRESS OR IMPLIED, INCLUDING BUT NOT LIMITED TO ANY WARRANTIES OF\nMERCHANTABILITY, FITNESS FOR A PARTICULAR PURPOSE AND NONINFRINGEMENT\nOF COPYRIGHT, PATENT, TRADEMARK, OR OTHER RIGHT. IN NO EVENT SHALL THE\nCOPYRIGHT HOLDER BE LIABLE FOR ANY CLAIM, DAMAGES OR OTHER LIABILITY,\nINCLUDING ANY GENERAL, SPECIAL, INDIRECT, INCIDENTAL, OR CONSEQUENTIAL\nDAMAGES, WHETHER IN AN ACTION OF CONTRACT, TORT OR OTHERWISE, ARISING\nFROM, OUT OF THE USE OR INABILITY TO USE THE FONT SOFTWARE OR FROM\nOTHER DEALINGS IN THE FONT SOFTWARE.\n"
    }
   },
   "fonts": {
    "Fira Code Regular": [
     {
      "fontFamily": "'Fira Code Regular'",
      "src": "url('data:font/woff2;charset=utf-8;base64,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') format('woff2')"
     }
    ]
   },
   "styles": {
    ":root": {
     "--jp-code-font-family": "'Fira Code Regular'",
     "--jp-content-font-family": "'Fira Code Regular'"
    }
   }
  },
  "kernelspec": {
   "display_name": "Python 3 (ipykernel)",
   "language": "python",
   "name": "python3"
  },
  "language_info": {
   "codemirror_mode": {
    "name": "ipython",
    "version": 3
   },
   "file_extension": ".py",
   "mimetype": "text/x-python",
   "name": "python",
   "nbconvert_exporter": "python",
   "pygments_lexer": "ipython3",
   "version": "3.9.7"
  },
  "toc-autonumbering": false,
  "toc-showcode": false,
  "toc-showmarkdowntxt": false,
  "toc-showtags": false
 },
 "nbformat": 4,
 "nbformat_minor": 5
}
