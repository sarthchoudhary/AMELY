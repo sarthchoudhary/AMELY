{
 "cells": [
  {
   "cell_type": "markdown",
   "id": "ecbbddc7-b341-42ea-8893-edc896122215",
   "metadata": {},
   "source": [
    "<p style = 'text-align: center; font-size: 24pt; color : #f31567; font-family: Comic Sans MS;'> Sample notebook on which to base all future notebooks. </p>\n",
    "\n",
    "<span style = 'color:deeppink; font-size:16pt'> Documentation:</span>\n",
    "<br>\n",
    "<ul style= 'color : silver; font-size: 16pt; font-family: Monospace; list-style: square;'>\n",
    "<li> <a href = 'https://docs.anaconda.com/anaconda/user-guide/tasks/remote-jupyter-notebook/'> running jupyter on remote server </a> </li>\n",
    "<ul>"
   ]
  },
  {
   "cell_type": "markdown",
   "id": "581d05b2-58fc-4de3-8281-79a52ad0ca27",
   "metadata": {},
   "source": [
    "<h1 style = 'color : #66AAEE; font-family: consolas;'> Setting up notebook</h1>"
   ]
  },
  {
   "cell_type": "code",
   "execution_count": 1,
   "id": "a8778156-d90a-4544-bf4e-cc12fdefc4e8",
   "metadata": {},
   "outputs": [],
   "source": [
    "# plotting guides\n",
    "import matplotlib.pyplot as plt\n",
    "import numpy as np\n",
    "from matplotlib import rc\n",
    "# %matplotlib qt"
   ]
  },
  {
   "cell_type": "code",
   "execution_count": 2,
   "id": "efa153c7-289e-4513-99be-81573d1f8d2f",
   "metadata": {},
   "outputs": [
    {
     "data": {
      "text/html": [
       "<!--- html styling for Jupyter Dark Theme---!>\n",
       "<style>\n",
       ".CodeMirror-focused .CodeMirror-selected { background: none; }\n",
       ".CodeMirror-focused .CodeMirror-selectedtext { background: #FF0088; } \n",
       ".CodeMirror-selected { background:  grey; }\n",
       "</style>\n",
       "<!--- greenish #00FF88 ; pinkish #FF0088 ; turquoise---!>\n",
       "                                              \n",
       "%%javascript\n",
       "IPython.OutputArea.prototype._should_scroll = function(lines) {\n",
       "    return false;\n",
       "}\n"
      ],
      "text/plain": [
       "<IPython.core.display.HTML object>"
      ]
     },
     "metadata": {},
     "output_type": "display_data"
    }
   ],
   "source": [
    "%%html\n",
    "<!--- html styling for Jupyter Dark Theme---!>\n",
    "<style>\n",
    ".CodeMirror-focused .CodeMirror-selected { background: none; }\n",
    ".CodeMirror-focused .CodeMirror-selectedtext { background: #FF0088; } \n",
    ".CodeMirror-selected { background:  grey; }\n",
    "</style>\n",
    "<!--- greenish #00FF88 ; pinkish #FF0088 ; turquoise---!>\n",
    "                                              \n",
    "%%javascript\n",
    "IPython.OutputArea.prototype._should_scroll = function(lines) {\n",
    "    return false;\n",
    "}"
   ]
  },
  {
   "cell_type": "code",
   "execution_count": 3,
   "id": "c9005ebc-aceb-4b0b-9ae6-4aad76121081",
   "metadata": {},
   "outputs": [],
   "source": [
    "# Change rc parameters for all matplotlib plots\n",
    "# rc('figure', autolayout=True, dpi=125)\n",
    "rc('figure', autolayout=True, figsize=[16, 9], dpi=125 )\n",
    "rc('font', family='monospace')\n",
    "rc('axes', titlesize=20, titleweight='heavy', labelsize=16, labelweight='bold')\n",
    "rc(('xtick', 'ytick'), labelsize = 18)\n",
    "rc('legend', fontsize=14)"
   ]
  },
  {
   "cell_type": "markdown",
   "id": "aa0a6a7a-2786-4f94-aaf6-56d37bd2bd20",
   "metadata": {},
   "source": [
    "<h1 style = 'color: lightgreen;font-size: 24pt'> code snippet for plotting and saving </h1>"
   ]
  },
  {
   "cell_type": "code",
   "execution_count": 4,
   "id": "0cc39fe3-8de8-4e36-a58f-524172a38738",
   "metadata": {},
   "outputs": [],
   "source": [
    "### for some reason, %matplotlib magic commands erases global figsize and dpi settings.\n",
    "### therefore it is prefered to call matplotlib magic command before changing rc parameters.\n",
    "### if magic command is necessary then provide rc parameters again after magic command\n",
    "\n",
    "# plot example begins\n",
    "\n",
    "# %matplotlib qt\n",
    "A = np.arange(0,2, 0.1)\n",
    "B = np.sin(180*A/np.pi)\n",
    "fig = plt.figure()\n",
    "# fig = plt.figure(figsize=[16, 9], dpi=125 )\n",
    "ax = plt.axes()\n",
    "ax.plot(A, B, label = 'A');\n",
    "ax.set_xlabel('x_label_name_here')\n",
    "ax.set_title('figure_name')\n",
    "ax.legend()\n",
    "# plot example ends\n",
    "\n",
    "ax.get_figure().subplots_adjust(bottom=0.20) ### adjust figure margins\n",
    "ax.get_figure().subplots_adjust(left=0.20)\n",
    "\n",
    "fig.savefig(f'file_name_here.png');"
   ]
  },
  {
   "cell_type": "code",
   "execution_count": 5,
   "id": "5630cc30-bf27-4319-9dc1-edc7f7aee095",
   "metadata": {},
   "outputs": [
    {
     "data": {
      "text/plain": [
       "'C:\\\\Users\\\\sarth\\\\projects\\\\LY_Analytic_Model'"
      ]
     },
     "execution_count": 5,
     "metadata": {},
     "output_type": "execute_result"
    }
   ],
   "source": [
    " pwd"
   ]
  },
  {
   "cell_type": "code",
   "execution_count": null,
   "id": "663b0b3e-571a-4cca-a76a-5ac3179d1c06",
   "metadata": {},
   "outputs": [],
   "source": []
  }
 ],
 "metadata": {
  "kernelspec": {
   "display_name": "Python 3 (ipykernel)",
   "language": "python",
   "name": "python3"
  },
  "language_info": {
   "codemirror_mode": {
    "name": "ipython",
    "version": 3
   },
   "file_extension": ".py",
   "mimetype": "text/x-python",
   "name": "python",
   "nbconvert_exporter": "python",
   "pygments_lexer": "ipython3",
   "version": "3.9.7"
  }
 },
 "nbformat": 4,
 "nbformat_minor": 5
}
