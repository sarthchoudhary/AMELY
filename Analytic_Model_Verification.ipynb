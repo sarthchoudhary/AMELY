{
 "cells": [
  {
   "cell_type": "markdown",
   "id": "ce9a3845-4b85-470a-9c36-ace4e39f0970",
   "metadata": {},
   "source": [
    "<h1 style = 'color: #AA00FF; text-align: center'> \n",
    "    Analytic Model: Verification with Monte Carlo Simulations\n",
    "</h1>\n",
    "<br>\n",
    "<hr>\n",
    "$$\n",
    "LCE = \\frac{f_{sen}FF_{sys}(1-R)}{1-( f_{sen}R + (1-f_{sen})R_{wall} )}\n",
    "$$\n",
    "\n",
    "<p style = 'text-align: left; font-size:22px; color: yellow' >     \n",
    "    Notes:\n",
    "</p>\n",
    "<p style = 'text-align: left; font-size:22px; color: lightyellow' > \n",
    "    <br>\n",
    "    1. LY is light collection convolved with Scintillation yield and Photon Detection Efficiency, i.e,\n",
    "    <br>\n",
    "    <p style = 'text-align: center; font-size:22px; color: #00FFFF'> \n",
    "    Light Yield =  Scintillation Yield * Light Collection Efficiency * PDE\n",
    "    </p>\n",
    "    <br>\n",
    "    <p style= \"text-align: left; font-size:22px;  color: lightyellow\">\n",
    "    2. Scintillation Yield = 40 photons/keV (fixed for Liquid Argon)\n",
    "    <br>\n",
    "    </p>\n",
    "    <p style = 'text-align: left; font-size:22px;  color: lightyellow'>\n",
    "        3. wavelengths in nm throughout this notebook\n",
    "    <br>\n",
    "    4. reflectivity represented as a decimal\n",
    "    </p>\n",
    "    <p style = 'color: yellow; font-size:22px;'> Important : </p>  \n",
    "    <p style = 'color: white; font-size:22px;  color: lightyellow'>\n",
    "    In this notebook we are refering to Light Collection Efficiency convolved with PDE as Light Yield. To get actual Light Yield (as implemented for plotting) we multiply by Scintillation Yield.\n",
    "</p>\n",
    "    <br>\n",
    "<p style = 'color:tomato; font-size:22px;'> \n",
    "    Relevant Documentation: \n",
    "<a href=\"https://www.overleaf.com/read/vpkvkgpfqwst\">https://www.overleaf.com/read/vpkvkgpfqwst</a>\n",
    "</p>"
   ]
  },
  {
   "cell_type": "markdown",
   "id": "781b88b0-b145-42dc-9513-4602be6d3a31",
   "metadata": {},
   "source": [
    "<h2 style = 'color:#f31567; text-align: center'>\n",
    "    <body>⭐⭐⭐⭐⭐ </body>\n",
    "4th July configuration as instructed by Cenk Torkoglu\n",
    "</h2>\n",
    "<body>\n",
    "        Changes to configuration:\n",
    "        <br>\n",
    "           1. New Reflectance values for SiPM\n",
    "        <br>\n",
    "            1.(a) SiPM reflectance is scaled by 0.91 in order to account for antireflecting coatig in Liquid Argon.\n",
    "        <br>\n",
    "            2. FBK PDE \n",
    "        <br>\n",
    "            3. PDE correction: multiply by all values by 40/52.77\n",
    "        <br>\n",
    "            4. Ensure PEN efficiency: 47.2 %\n",
    "\n",
    "</body>\n",
    "<p>\n",
    "        <span style = 'color: #FF6611; font-size: 18px'> Note: </span> Editing History: copied and modified cells from Ananlytic Model Light Yield Notebook. \n",
    "    <br>\n",
    "    This notebook should be used for all future purposes as much of the clutter has been removed.\n",
    " </p>"
   ]
  },
  {
   "cell_type": "markdown",
   "id": "81b164d3-6923-4133-a92e-2b8cbcf3b25b",
   "metadata": {},
   "source": [
    "<h2 style = 'text-align:center'>\n",
    "    <span style = 'color: Orange '>⭕ Integration over the relevant Wavelength range with Cenk's configurations</span>\n",
    "</h2>"
   ]
  },
  {
   "cell_type": "code",
   "execution_count": 1,
   "id": "9f8fb5bb-19c5-44ef-a7ce-8e59bbabe643",
   "metadata": {
    "tags": []
   },
   "outputs": [],
   "source": [
    "from os import path\n",
    "import matplotlib.pyplot as plt\n",
    "# %matplotlib inline\n",
    "import pandas as pd\n",
    "import numpy as np\n",
    "from datetime import datetime"
   ]
  },
  {
   "cell_type": "markdown",
   "id": "f73f7951-e7c6-4eeb-90cc-69e40dc5215f",
   "metadata": {},
   "source": [
    "<p> \n",
    "    <span style = 'color: #FF00AA; font-size: 18pt'>⭕ To Load Data : </span>\n",
    "    <br>\n",
    "    1. Give location of project directory defined by variable project_dir.\n",
    "    <br>\n",
    "    2. Inside the project directory, a folder named 'Data' should contains all the relavant data files\n",
    "</p>"
   ]
  },
  {
   "cell_type": "code",
   "execution_count": 2,
   "id": "87480145-5604-49c9-a50d-ceb390b91fa4",
   "metadata": {},
   "outputs": [],
   "source": [
    "### define project directory\n",
    "\n",
    "project_dir = r'C:\\Users\\sarth\\OneDrive\\one_work\\LY_Analytic_Model'"
   ]
  },
  {
   "cell_type": "markdown",
   "id": "742926e7-6688-428b-af78-2a8424b4a2b1",
   "metadata": {},
   "source": [
    "<h2> \n",
    "    <span style = 'color: slateblue'> ⭕ Wavelength Range </span> \n",
    "</h2>"
   ]
  },
  {
   "cell_type": "code",
   "execution_count": 3,
   "id": "881f9719-b6b1-4394-8cf6-371f41ab3135",
   "metadata": {},
   "outputs": [],
   "source": [
    "## Question: how to choose common wavelength region to be used for ,full fledge calcualtion\n",
    "## Answer: check all data and find out the common range\n",
    "from numpy import arange\n",
    "# wavelength_vector = arange(305, 560, 0.5) ### for PDE data given by Marcin\n",
    "wavelength_vector = arange(366, 560, 0.5) ### for PDE data for new generation SiPM given by cenk"
   ]
  },
  {
   "cell_type": "markdown",
   "id": "b6666916-eb10-4748-aafe-10789c651431",
   "metadata": {},
   "source": [
    "<h2 style = 'text-align: left'>\n",
    "    <span style = \"color : slateblue\"> ⭐ SiPM Reflectance data </span>\n",
    "</h2>\n",
    "<p>\n",
    "    SiPM Reflectance .dat file provided by Cenk\n",
    "    <br>\n",
    "    <span style = 'color: #FF6611; font-size: 18px'> Note: </span> SiPM Reflectance is multiplied by 0.91 to take care of the effect of antireflective coating in Liquid Argon chamber (needs further investigtation)\n",
    "</p>"
   ]
  },
  {
   "cell_type": "code",
   "execution_count": 4,
   "id": "188d1691-6695-4025-ba51-18712e7fae8a",
   "metadata": {},
   "outputs": [],
   "source": [
    "cenk_SiPM_R_df = (pd.read_csv(path.join(project_dir, 'Data','SiPM_ref.csv'), sep = ',') )\n",
    "# cenk_SiPM_R_values = cenk_SiPM_R_vector.copy()\n",
    "# cenk_R_SiPM_values['R'] = [int(value)/100 for value in cenk_R_SiPM_vector['R']]\n",
    "cenk_SiPM_R_df2 = cenk_SiPM_R_df.copy()\n",
    "cenk_SiPM_R_df2['LAr_equivalent_Reflectance'] = cenk_SiPM_R_df2['R']*0.91 \n",
    "\n",
    "### Note: SiPM is coated with an unknown anti-reflection coating\n",
    "### 0.91 : To get the unknown reflectivity of SiPM in Liquid Argon. Since SiPM is also coated with an anti reflection coating, getting the equivalent \n",
    "### reflectance is not straight forward. 0.91 is based on an educated guess.\n",
    "\n",
    "cenk_SiPM_R_df2['wavelength'] = 1239.847/cenk_SiPM_R_df2['E'] # Eneergy unit eV wavlength Unit: nm\n",
    "# SiPM_ref.dat\n",
    "# cenk_SiPM_R_df3 = cenk_SiPM_R_df2.sort_values(by = 'wavelength')"
   ]
  },
  {
   "cell_type": "code",
   "execution_count": 5,
   "id": "02a08b48-4e81-4afb-a6e6-7d2eedd46998",
   "metadata": {},
   "outputs": [],
   "source": [
    "# cenk_SiPM_R_df2.head()"
   ]
  },
  {
   "cell_type": "code",
   "execution_count": 6,
   "id": "13ee0766-7334-40ca-8cd9-2e289cb73d1c",
   "metadata": {},
   "outputs": [],
   "source": [
    "# plt.figure()\n",
    "# plt.plot(cenk_SiPM_R_df2['wavelength'], cenk_SiPM_R_df2['R'])"
   ]
  },
  {
   "cell_type": "markdown",
   "id": "d83169fa-095f-4b06-a4e8-dcac55589005",
   "metadata": {},
   "source": [
    "<h2 style = 'text-align: left'>\n",
    "    <span style = \"color : slateblue\"> ⭐ SiPM PDE data </span>\n",
    "</h2>\n",
    "<p>\n",
    "    Using FBK PDE values\n",
    "    <br>\n",
    "    Normalizing with 40/52.77\n",
    "</p>"
   ]
  },
  {
   "cell_type": "code",
   "execution_count": 7,
   "id": "b13bcfff-645f-4b0a-b7c2-ec54e9672bde",
   "metadata": {},
   "outputs": [],
   "source": [
    "### FBK Values sent by cenk\n",
    "photon_wavelegnth = [285.87, 301.14, 320.99, 340.83, 365.26, 380.53, 391.22, 400.38, 411.06, 420.22, 435.49, 449.23, 464.50, 499.61, 588.16, 698.09]\n",
    "PDE_vector = [18.39, 37.24, 41.87, 42.43, 45.03, 48.12, 52.72, 52.75, 52.77, 52.29, 48.77, 46.26, 40.71, 38.76, 28.82, 18.93] # %age values\n",
    "PDE_normalized_vector = []\n",
    "### Normalizing PDE values in FBK data as instructed by Cenk\n",
    "PDE_normalized_vector = [value*40/max(PDE_vector) for value in PDE_vector]\n",
    "### PDE_normalized_vector\n",
    "norm_PDE_values = [value/100 for value in PDE_normalized_vector]\n",
    "\n",
    "### LFoundry PDE Values sent by Cenk\n",
    "# photon_wavelegnth = [365.39, 390.34, 399.89, 409.98, 420.06, 434.93, 450.32, 500.21, 525.16, 545.33, 590.98, 630.25, 700.32]\n",
    "# PDE_vector = [43.277, 51.892, 54.257, 52.399, 50.709, 46.993, 42.601, 36.014, 30.439, 28.581, 24.358, 20.473, 15.574]\n",
    "### Normalization for PDE values \n",
    "# norm_PDE_values = [value/100 for value in PDE_vector]\n",
    "\n",
    "\n",
    "frame = {'photon_wavelegnth':photon_wavelegnth, 'PDE_norm': norm_PDE_values}\n",
    "\n",
    "PDE = pd.DataFrame(frame)\n",
    "\n",
    "# max(PDE['PDE_norm'])"
   ]
  },
  {
   "cell_type": "markdown",
   "id": "cae548b4-ec5f-43d3-81fc-1c22872b3bb2",
   "metadata": {},
   "source": [
    "<h2 style= 'color: slateblue'>\n",
    "   ⭐ PEN Reflectance Data \n",
    "</h2>\n",
    "<p>\n",
    "<span style= 'color: red; font-size : 22px'>  Needs verification !!! </span>\n",
    "</p>"
   ]
  },
  {
   "cell_type": "code",
   "execution_count": 8,
   "id": "9bf90fa4-98fa-4351-9c5c-457720d7c8b7",
   "metadata": {},
   "outputs": [],
   "source": [
    "## R_wall_PEN = \n",
    "photon_energy = [0.1, 2.067,2.175,2.214,2.255,2.340,2.385,2.431,2.436,2.531,2.583,2.638,2.696,2.725,2.756,2.787,2.818,\n",
    "2.884,2.918,2.952,2.988,3.024,3.039,3.047,3.054,3.062,3.069,3.077,3.085,3.092,3.100,3.108,3.116,3.123,3.131,3.139,3.147,3.155,\n",
    "3.163,3.171,3.179,3.188,3.196,3.204,3.212,3.221,3.263, 8.0] ## energy in eV\n",
    "\n",
    "PEN_reflectance = [100.130, 100.130,99.995,99.856,99.681,99.659,99.569,99.351,99.306,99.018,98.652,98.415,98.283,\n",
    "98.018,97.856,97.606,97.457,97.134,96.928,96.827,96.247,95.737,95.359,95.197,95.048,94.876,94.684,94.463,94.055,93.650,93.147,\n",
    "92.562,91.812,90.904,89.807,88.506,86.957,85.242,83.156,80.678,77.811,74.615,71.004,67.089,62.924,58.670,20.000, 20.000] ## %age reflectance\n",
    "\n",
    "PEN_reflectance = [reflectance*0.98/100 for reflectance in PEN_reflectance] \n",
    "# PEN_reflectance = [reflectance*0.98*0.994/100 for reflectance in PEN_reflectance] \n",
    "\n",
    "### Reflectance is multiplied by 0.98 and 0.994 for calibration purpose:\n",
    "    ### 1. 0.98 is the reflectance of Basrium Sulphate used as the standard in photo spectrometer\n",
    "    ### 2. The second factor is specific to 2PAC. 0.994 is the coverage fraction of Wavelength Shifting material (a small surface coverage is lost to holes, bolts etc in 2PAC)\n",
    "### The calculation is very senstitive to Reflectance\n",
    "\n",
    "\n",
    "photon_wavelength = []\n",
    "\n",
    "for energy_ in photon_energy:\n",
    "    length_ = 1239.847/energy_\n",
    "    photon_wavelength.append(length_)\n",
    "\n",
    "frame = {'photon_wavelength': photon_wavelength,\n",
    "        'PEN_reflectance': PEN_reflectance}\n",
    "\n",
    "R_Wall_PEN = pd.DataFrame(frame)\n",
    "\n",
    "## reverse the order of wavelength smaller to bigger\n",
    "R_Wall_PEN = R_Wall_PEN.iloc[::-1]\n",
    "\n",
    "# R_Wall_PEN"
   ]
  },
  {
   "cell_type": "markdown",
   "id": "c1c22b64-33e6-4822-b3cf-bae60707e99b",
   "metadata": {},
   "source": [
    "<h2> <span style = \"color : slateblue\"> ⭕ PEN Emission Spectrum </span> </h2>"
   ]
  },
  {
   "cell_type": "code",
   "execution_count": 9,
   "id": "7285e961-f6cc-4a6e-b45b-54e66dd0f554",
   "metadata": {},
   "outputs": [],
   "source": [
    "# r_PEN = r'D:\\D Downloads\\Current_work\\pen-tess.txt'\n",
    "r_PEN = path.join(project_dir, 'Data', 'pen-tess.txt')\n",
    "emission_spectrum_PEN = pd.read_csv(r_PEN, sep ='\\t')\n",
    "\n",
    "E_PEN = emission_spectrum_PEN.drop(['a','b','c'], axis=1)\n",
    "\n",
    "# E_PEN\n",
    "\n",
    "# normalize : divide by maximum value\n",
    "E_PEN['efficiency'] = E_PEN['efficiency']/max(E_PEN['efficiency'] ) \n",
    "\n",
    "# remove negative values\n",
    "E_PEN = E_PEN[E_PEN > 0].dropna()\n",
    "# E_PEN['efficiency']\n",
    "## What are the units of efficiency? Normalize PEN Spectrum ??\n",
    "## Remove negative values?\n",
    "## Need linear interpolation for everyuthing R, R_Wall, PDE and emission spectrum"
   ]
  },
  {
   "cell_type": "markdown",
   "id": "e891fe70-ddb4-42cb-a2b9-c27eacf2ad94",
   "metadata": {
    "tags": []
   },
   "source": [
    "## <span style = 'color : slateblue'> ⭐ TPB Reflectance data </span>"
   ]
  },
  {
   "cell_type": "code",
   "execution_count": 10,
   "id": "e8d55124-3b11-4629-ad03-7ceecba71f8d",
   "metadata": {},
   "outputs": [],
   "source": [
    "photon_energy = [0.1, 2.067,2.175,2.214,2.255,2.340,2.385,2.431,2.436,2.531,2.583,2.638,2.696,2.725,2.756,2.787,2.818,2.884,2.918,2.952,2.988,3.024, 3.221,3.263, 8.0]\n",
    "TPB_reflectance = [98.936,98.936,99.180,99.309,99.375,99.392,99.534,99.490,99.491,99.685,99.635,99.593,99.541,99.457,99.380,99.374,99.196,98.924,98.521,97.653,95.581,92.569,13.0,3.0,3.0]\n",
    "\n",
    "photon_wavelength = []\n",
    "\n",
    "TPB_reflectance = [reflectance*0.98/100 for reflectance in TPB_reflectance]\n",
    "# TPB_reflectance = [reflectance*0.98*0.994/100 for reflectance in TPB_reflectance]\n",
    "\n",
    "### Reflectance is multiplied by 0.98 and 0.994 for calibration purpose:\n",
    "    ### 1. 0.98 is the reflectance of Basrium Sulphate used as the standard in photo spectrometer\n",
    "    ### 2. The second factor is specific to 2PAC. 0.994 is the coverage fraction of Wavelength Shifting material (a small surface coverage is lost to holes, bolts etc in 2PAC)\n",
    "### The calculation is very senstitive to Reflectance\n",
    "\n",
    "for energy_ in photon_energy:\n",
    "    length_ = 1239.847/energy_\n",
    "    photon_wavelength.append(length_)\n",
    "\n",
    "frame = {'photon_wavelength': photon_wavelength,\n",
    "        'TPB_reflectance': TPB_reflectance}\n",
    "\n",
    "R_Wall_TPB = pd.DataFrame(frame)\n",
    "\n",
    "## reverse the order of wavelength smaller to bigger\n",
    "R_Wall_TPB = R_Wall_TPB.iloc[::-1]\n",
    "\n",
    "# R_Wall_TPB"
   ]
  },
  {
   "cell_type": "markdown",
   "id": "2bcae84f-1a79-4a9d-9b0f-6f8faae42316",
   "metadata": {},
   "source": [
    "## <span style = \"color : slateblue\"> ⭕ TPB Emission Spectrum </span>"
   ]
  },
  {
   "cell_type": "code",
   "execution_count": 11,
   "id": "8851f077-dd7c-448e-8b05-c61c67a13095",
   "metadata": {},
   "outputs": [],
   "source": [
    "#### why do we have negative values?\n",
    "#### Might need to clean data\n",
    "## drop negative values\n",
    "## normalize efficiency\n",
    "\n",
    "# r_TPB = r'D:\\D Downloads\\Current_work\\tpb-fran.txt'\n",
    "r_TPB = path.join(project_dir, 'Data','tpb-fran.txt')\n",
    "emission_spectrum_TPB = pd.read_csv(r_TPB, sep ='\\t')\n",
    "\n",
    "E_TPB = emission_spectrum_TPB.drop(['a','b','c','d'], axis=1)\n",
    "# E_TPB"
   ]
  },
  {
   "cell_type": "markdown",
   "id": "8c29e5b7-6573-4722-8e41-9bf805c065a5",
   "metadata": {},
   "source": [
    "<p> <span style = \"font-size: 18pt; color: Red\"> Warning: </span> TPB data has negative values!!! </p>"
   ]
  },
  {
   "cell_type": "code",
   "execution_count": 12,
   "id": "14ef2e73-5bf0-4846-87cd-0acb0221b843",
   "metadata": {},
   "outputs": [],
   "source": [
    "# normalize : divide by maximum value\n",
    "E_TPB['efficiency'] = E_TPB['efficiency']/max(E_TPB['efficiency'] ) \n",
    "# remove negative values\n",
    "E_TPB = E_TPB[E_TPB > 0].dropna()\n",
    "\n",
    "# E_TPB\n"
   ]
  },
  {
   "cell_type": "markdown",
   "id": "d0a8613c-f225-4936-a526-2a312e2acc97",
   "metadata": {},
   "source": [
    "<h2>\n",
    "    <span style = 'color:lightgreen; text-align:center'> ⭕ Pre-processing data for interpolation </span>\n",
    "</h2>"
   ]
  },
  {
   "cell_type": "code",
   "execution_count": 13,
   "id": "8bfcc866-3697-42ff-bd90-8f91d4a522c0",
   "metadata": {},
   "outputs": [],
   "source": [
    "## use scipy to interpolate and store in DataFrame \n",
    "from scipy.interpolate import interp1d\n",
    "f_R_Wall_TPB = interp1d(R_Wall_TPB['photon_wavelength'], R_Wall_TPB['TPB_reflectance'])\n",
    "cenk_R_Wall_TPB_uniform = f_R_Wall_TPB(wavelength_vector)\n",
    "\n",
    "f_R_Wall_PEN = interp1d(R_Wall_PEN['photon_wavelength'], R_Wall_PEN['PEN_reflectance'])\n",
    "cenk_R_Wall_PEN_uniform = f_R_Wall_PEN(wavelength_vector)\n",
    "\n",
    "f_E_PEN = interp1d(E_PEN['wavelength'], E_PEN['efficiency'])\n",
    "E_PEN_uniform = f_E_PEN(wavelength_vector)\n",
    "\n",
    "f_E_TPB = interp1d(E_TPB['wavelength'], E_TPB['efficiency'])\n",
    "E_TPB_uniform = f_E_TPB(wavelength_vector)\n",
    "\n",
    "f_PDE = interp1d(PDE['photon_wavelegnth'], PDE['PDE_norm'])\n",
    "cenk_PDE_uniform = f_PDE(wavelength_vector)\n",
    "\n",
    "f_cenk_SiPM_R = interp1d(cenk_SiPM_R_df2['wavelength'], cenk_SiPM_R_df2['LAr_equivalent_Reflectance'])\n",
    "cenk_SiPM_R_uniform = f_cenk_SiPM_R(wavelength_vector)"
   ]
  },
  {
   "cell_type": "markdown",
   "id": "b04609a9-0c00-4416-8780-8f416612ef1e",
   "metadata": {},
   "source": [
    "<h2 style= 'text-align: center'>\n",
    "    <span style  = 'color: orange'> ⭕ Wavelength Dependent  </span> <span style = \"color: red\"> LY </span>\n",
    "</h2>\n",
    "\n",
    "<!-- <p style = 'font-size:14pt'>  -->\n",
    "<p style= ' font-size:14pt; text-align: left; color:white;'>\n",
    "Use values stored in DataFrame directly in the formula below:\n",
    "</p>\n",
    "\n",
    "<span style = 'color : violet;'>\n",
    "\n",
    "$$\n",
    "LY = \\frac{\\sum[E_{pen}(\\lambda)*LY(PDE(\\lambda), f_{sen}, FF_{sys}, R(\\lambda), R_{wall}(\\lambda))]}{\\sum E_{pen}(\\lambda)}\n",
    "$$\n",
    "</span>\n",
    "<!-- </p> -->"
   ]
  },
  {
   "cell_type": "markdown",
   "id": "683c32fd-e4da-45ad-8e4e-61b36e721878",
   "metadata": {},
   "source": [
    "<p style = 'color: lightyellow; text-align: left; font-size: 20px'> \n",
    "<span style = 'color: red'> Note:</span>\n",
    "<body>As per the definitions, formula given above is actually Light Collection Efficiency multiplied by Photon Detection Efficiency. To plot proper Light Yield we multiply the result of Light Yeild Function with Scintillation Yield of Liquid Argon.</body >\n",
    "    <p> <span style  ='color: red; font-size: 20px'> Note: can be fixed in the formula itself </span></p>\n",
    "</p>"
   ]
  },
  {
   "cell_type": "code",
   "execution_count": 14,
   "id": "8844628f-8945-46eb-ab9a-ec1266c4c916",
   "metadata": {},
   "outputs": [],
   "source": [
    "# ## Calculating LY for PEN\n",
    "# f1 = 0\n",
    "# f2 = 0\n",
    "\n",
    "# for lambda_index in range(np.size(wavelength_vector)):\n",
    "#     f1 += E_PEN_uniform[lambda_index]*calc_LY(PDE_uniform[lambda_index], f_sen, FF_sys, R_values_uniform[lambda_index], R_Wall_PEN_uniform[lambda_index])\n",
    "#     f2 += (E_PEN_uniform[lambda_index])\n",
    "# print('Light Yield():', f1/f2)"
   ]
  },
  {
   "cell_type": "markdown",
   "id": "0e1cdb52-2949-4659-ba1e-f17c189f2ba4",
   "metadata": {},
   "source": [
    "<br>\n",
    "<h2 style=\"text-align: center;\">\n",
    "    <span style = \"color : #f92fac \"> ⭐ Function to calculate wavelength integrated Light Yield  </span>\n",
    "</h2>\n",
    "<br>"
   ]
  },
  {
   "cell_type": "code",
   "execution_count": 15,
   "id": "6e76f3ad-8875-4683-b7cd-7f5cf248f39f",
   "metadata": {},
   "outputs": [],
   "source": [
    "def calc_LY(PDE, f_sen, FF_sys, R, R_wall): \n",
    "    '''calculate LCE*PDE as per the equations.'''\n",
    "    s = f_sen*(R)\n",
    "    w = (1-f_sen)*R_wall\n",
    "    X = f_sen*FF_sys*(1-R)\n",
    "    LY = PDE*X/(1-(s+w))\n",
    "    return LY\n",
    "\n",
    "def calc_wavelength_dependent_LY(wavelengths, Emission_spectrum, PDE, f_sen, FF_sys, R, R_wall):\n",
    "    '''Sums the result of calc_LY over the given wavelength range'''\n",
    "    f1 = 0\n",
    "    f2 = 0\n",
    "    \n",
    "#     for lambda_index in range(np.size(wavelength_vector)):\n",
    "    for lambda_index in range(np.size(wavelengths)):\n",
    "        f1 += Emission_spectrum[lambda_index]*calc_LY(PDE[lambda_index], f_sen, FF_sys, R[lambda_index], R_wall[lambda_index])\n",
    "        f2 += (Emission_spectrum[lambda_index])\n",
    "    return f1/f2"
   ]
  },
  {
   "cell_type": "code",
   "execution_count": 16,
   "id": "e54e9857-7ae3-41b7-bc18-6dc1e8dabda8",
   "metadata": {},
   "outputs": [],
   "source": [
    "# ## important paramters of the chamber\n",
    "# f_sen  = 0.01176\n",
    "FF_sys = 1.0"
   ]
  },
  {
   "cell_type": "markdown",
   "id": "e5c8b6d4-165b-4146-a0c7-c877484f8152",
   "metadata": {},
   "source": [
    "<h2> <span style = 'color: lightgreen'> Sanity Check </span> </h2>"
   ]
  },
  {
   "cell_type": "code",
   "execution_count": 17,
   "id": "c33440bc-3ce5-4ffd-b74d-8e85909b9bbc",
   "metadata": {},
   "outputs": [
    {
     "name": "stdout",
     "output_type": "stream",
     "text": [
      "Sanity check Passed: True\n"
     ]
    }
   ],
   "source": [
    "### use delta function in calc_wavelength_dependent_LY to prove that calculation isn't wrong\n",
    "### wavelengths, Emission_spectrum, PDE, f_sen, FF_sys, R, R_wall\n",
    "\n",
    "f_sen  = 0.01176\n",
    "from scipy import signal\n",
    "delta_signal = signal.unit_impulse(510,255)\n",
    "print('Sanity check Passed:', calc_wavelength_dependent_LY(wavelength_vector, delta_signal, 0.47*delta_signal,f_sen, FF_sys, 0.17*delta_signal, 0.95*delta_signal) == calc_LY(0.47, f_sen, FF_sys, 0.17, 0.95))\n",
    "\n",
    "del f_sen"
   ]
  },
  {
   "cell_type": "code",
   "execution_count": 18,
   "id": "dc9ecc33-72bf-4221-9b52-f0d76a43f0c7",
   "metadata": {},
   "outputs": [],
   "source": [
    "# print('Light Yield PEN', calc_wavelength_dependent_LY(wavelength_vector, E_PEN_uniform, cenk_PDE_uniform, f_sen, FF_sys, cenk_SiPM_R_uniform, cenk_R_Wall_PEN_uniform))"
   ]
  },
  {
   "cell_type": "code",
   "execution_count": 19,
   "id": "1fa9c07d-51d5-4465-9463-7b0657af53be",
   "metadata": {},
   "outputs": [],
   "source": [
    "# print('Light Yield TPB', calc_wavelength_dependent_LY(wavelength_vector, E_TPB_uniform, cenk_PDE_uniform, f_sen, FF_sys, cenk_SiPM_R_uniform, cenk_R_Wall_TPB_uniform))"
   ]
  },
  {
   "cell_type": "code",
   "execution_count": 20,
   "id": "9c9391a1-5159-4178-b5ba-f82fa6f330a2",
   "metadata": {},
   "outputs": [],
   "source": [
    "# calc_wavelength_dependent_LY(wavelength_vector, E_PEN_uniform, cenk_PDE_uniform,0.01, FF_sys, cenk_SiPM_R_uniform, cenk_R_Wall_PEN_uniform*0.99)*40*0.5"
   ]
  },
  {
   "cell_type": "code",
   "execution_count": 21,
   "id": "9deca832-08fe-4ab0-a118-4df96f3fca58",
   "metadata": {},
   "outputs": [],
   "source": [
    "# calc_wavelength_dependent_LY(wavelength_vector, E_TPB_uniform, cenk_PDE_uniform,0.01, FF_sys, cenk_SiPM_R_uniform, cenk_R_Wall_TPB_uniform*0.99)*40"
   ]
  },
  {
   "cell_type": "markdown",
   "id": "e3f3ff9a-6c65-44f8-a4e0-43f69be0c945",
   "metadata": {},
   "source": [
    "<p style = 'color: #e8f33e; text-align: left; font-size: 22px'> \n",
    "<span style = 'color: red'> Note:</span>\n",
    "<body>From this cell onwards all matplotlib plots will be in qt window </body >\n",
    "</p>"
   ]
  },
  {
   "cell_type": "code",
   "execution_count": 22,
   "id": "650c7fcc-5d0d-4a1e-a147-5602147ffebb",
   "metadata": {},
   "outputs": [],
   "source": [
    "# %matplotlib qt"
   ]
  },
  {
   "cell_type": "markdown",
   "id": "7b7add42-fbbf-4517-9184-437ec8451bda",
   "metadata": {},
   "source": [
    "<h2 style = 'color: #AA55FF'>⭐ Plot : f_sen vs Wavelength Integrated LY\n",
    "</h2>\n",
    "<p>\n",
    " <span style = \"color : orange \">        Inludes uncertainity in R_Wall measurement </span>\n",
    "    </p>"
   ]
  },
  {
   "cell_type": "code",
   "execution_count": 33,
   "id": "f20a7f81-786f-4f43-acb7-4d322f7d3169",
   "metadata": {},
   "outputs": [
    {
     "data": {
      "text/plain": [
       "<matplotlib.legend.Legend at 0x215cd10deb0>"
      ]
     },
     "execution_count": 33,
     "metadata": {},
     "output_type": "execute_result"
    },
    {
     "data": {
      "image/png": "[encoded data removed]",
      "text/plain": [
       "<Figure size 432x288 with 1 Axes>"
      ]
     },
     "metadata": {
      "needs_background": "light"
     },
     "output_type": "display_data"
    }
   ],
   "source": [
    "plt.close('f_sen vs LY') \n",
    "\n",
    "plt.figure('f_sen vs LY')\n",
    "\n",
    "f_sen_vector = np.arange(0.001, 0.05, 0.001)\n",
    "# f_sen_vector = np.arange(0.001, 1, 0.1) ### Important!! : compare this with the plot we get for same value in AMLY_V2, the maximum light yield is not obtained at maximum value of f_sen. See segreto paper. \n",
    "\n",
    "LY_PEN_upper = 40*0.4720*calc_wavelength_dependent_LY(wavelength_vector, E_PEN_uniform, cenk_PDE_uniform, f_sen_vector, FF_sys, cenk_SiPM_R_uniform, cenk_R_Wall_PEN_uniform)\n",
    "LY_PEN_lower = 40*0.4720*calc_wavelength_dependent_LY(wavelength_vector, E_PEN_uniform, cenk_PDE_uniform,f_sen_vector, FF_sys, cenk_SiPM_R_uniform, cenk_R_Wall_PEN_uniform*0.988)\n",
    "### 0.472 comes from wavelength shifting efficiency of PEN as compared to that of TPB\n",
    "### 40 is the Scientillation Yield of Liquid Argon\n",
    "\n",
    "plt.fill_between(f_sen_vector, LY_PEN_lower, LY_PEN_upper, color='blue', alpha = 0.1, label = 'PEN')\n",
    "\n",
    "LY_TPB_upper = 40*1*calc_wavelength_dependent_LY(wavelength_vector, E_TPB_uniform, cenk_PDE_uniform, f_sen_vector, FF_sys, cenk_SiPM_R_uniform, cenk_R_Wall_TPB_uniform)\n",
    "LY_TPB_lower = 40*1*calc_wavelength_dependent_LY(wavelength_vector, E_TPB_uniform, cenk_PDE_uniform, f_sen_vector, FF_sys, cenk_SiPM_R_uniform, cenk_R_Wall_TPB_uniform*0.988)\n",
    "\n",
    "plt.fill_between(f_sen_vector, LY_TPB_lower, LY_TPB_upper, color='orange', alpha = 0.1, label = 'TPB')\n",
    "\n",
    "### vertical line to show f_sen for 2PAC\n",
    "# plt.axvline(0.01176, 0, 1, linestyle = 'dotted', color = 'gray', label='2PAC f_sen')\n",
    "\n",
    "### horizontal lines correspond to the LY expected from 2PAC according to the Analytic Model\n",
    "### changed f_sens from 0.01176 to 0.01 (reverted back to 0.01176)\n",
    "\n",
    "# LY_PEN_2PAC_ref = 40*0.4720*calc_wavelength_dependent_LY(wavelength_vector, E_PEN_uniform, cenk_PDE_uniform, 0.01176, FF_sys, cenk_SiPM_R_uniform, cenk_R_Wall_PEN_uniform*0.988) \n",
    "# LY_TPB_2PAC_ref = 40*1*calc_wavelength_dependent_LY(wavelength_vector, E_TPB_uniform, cenk_PDE_uniform, 0.01176, FF_sys, cenk_SiPM_R_uniform, cenk_R_Wall_TPB_uniform*0.988)\n",
    "\n",
    "### Estimated values of light Yield from Analytic Model.\n",
    "# plt.axhline(LY_PEN_2PAC_ref, 0, 1, linestyle = '--', color = 'blue', alpha =0.8, label='2PAC PEN (Analytic Model)')\n",
    "# plt.axhline(LY_TPB_2PAC_ref, 0, 1, linestyle = '-.', color = 'orange', alpha =0.8, label='2PAC TPB (Analytic Model)')\n",
    "\n",
    "### single point to represent 2PAC measurements, i.e, PEN and TPB Light yields\n",
    "# plt.errorbar([0.01176], [2.50*0.4720], yerr = [0.05*0.4720], fmt ='*', color ='blue', label = '2PAC PEN LY (measurement) ')\n",
    "# plt.errorbar([0.01176], [2.50], yerr = [0.05], fmt = '^', color ='orange', label = '2PAC TPB LY (measurement) ')\n",
    "\n",
    "plt.ylabel('Light Yield [pe/keV]' , size =14, weight = 'bold')\n",
    "plt.xlabel('f_sen', size =14, weight = 'bold')\n",
    "plt.title('f_sen vs Light Yield [PDE, R and WLS dependence on wavelength accounted for]')\n",
    "plt.legend(loc = 'upper left')\n",
    "\n",
    "# plt.savefig(r'C:\\Users\\sarth\\Dropbox\\Wavelength_Shifters\\f_sen_vs_LC.jpeg')"
   ]
  },
  {
   "cell_type": "markdown",
   "id": "80a04d11-1126-495a-a786-c9adeb2813a3",
   "metadata": {},
   "source": [
    "<h2 style = 'color: #00FFAA'>⭕ Exporting values </h2>"
   ]
  },
  {
   "cell_type": "code",
   "execution_count": 24,
   "id": "3fb94dc1-834c-436c-ac2e-0486d264a62f",
   "metadata": {},
   "outputs": [],
   "source": [
    "### exporting values to share with cenk 9 July 2021\n",
    "\n",
    "all_values_df = pd.DataFrame()\n",
    "\n",
    "all_values_df['f_sen_vector'] = f_sen_vector\n",
    "all_values_df['LY_TPB_lower'] = LY_TPB_lower\n",
    "all_values_df['LY_TPB_upper'] = LY_TPB_upper\n",
    "\n",
    "all_values_df['LY_PEN_lower'] = LY_PEN_lower\n",
    "all_values_df['LY_PEN_upper'] = LY_PEN_upper\n",
    "\n",
    "# all_values_df.head()\n",
    "\n",
    "### adds date time stamp to filename\n",
    "datetimeobj = datetime.now()\n",
    "# current_filename = 'all_values_' + '-'.join(map(str, [datetimeobj.year, datetimeobj.month, datetimeobj.day])) +'.csv'\n",
    "current_filename = 'all_values_' + '-'.join(map(str, [datetimeobj.year, datetimeobj.month, datetimeobj.day, datetimeobj.hour, datetimeobj.minute, datetimeobj.second, datetimeobj.microsecond])) +'.csv'\n",
    "\n",
    "### writes data structure in file\n",
    "\n",
    "# all_values_df.to_csv(path.join(project_dir, current_filename))"
   ]
  },
  {
   "cell_type": "markdown",
   "id": "4a884294-0d9d-45af-a527-766431489657",
   "metadata": {},
   "source": [
    "<p style = 'color: #f31567; text-align: center; font-size: 24px'> \n",
    "   ⭐ THE END ⭕\n",
    "</p>"
   ]
  },
  {
   "cell_type": "code",
   "execution_count": 25,
   "id": "a568f0a0-4a7c-4478-9160-894ef8bd2ddd",
   "metadata": {},
   "outputs": [],
   "source": [
    "### configurations earlier sent by Cenk\n",
    "\n",
    "\n",
    "# plt.close('temp0001') \n",
    "\n",
    "# plt.figure('temp0001')\n",
    "\n",
    "# f_sen_vector = np.arange(0.001, 0.05, 0.001)\n",
    "\n",
    "# LC_PEN_upper = 40*0.4720*calc_wavelength_dependent_LY(wavelength_vector, E_PEN_uniform, PDE_uniform,f_sen_vector, FF_sys, R_values_uniform, R_Wall_PEN_uniform)\n",
    "# LC_PEN_lower = 40*0.4720*calc_wavelength_dependent_LY(wavelength_vector, E_PEN_uniform, PDE_uniform,f_sen_vector, FF_sys, R_values_uniform, R_Wall_PEN_uniform*0.988)\n",
    "\n",
    "# plt.fill_between(f_sen_vector, LC_PEN_lower, LC_PEN_upper, color='blue', alpha = 0.1, label = 'PEN')\n",
    "\n",
    "# LC_TPB_upper = 40*calc_wavelength_dependent_LY(wavelength_vector, E_TPB_uniform, PDE_uniform,f_sen_vector, FF_sys, R_values_uniform, R_Wall_TPB_uniform)\n",
    "# LC_TPB_lower = 40*calc_wavelength_dependent_LY(wavelength_vector, E_TPB_uniform, PDE_uniform,f_sen_vector, FF_sys, R_values_uniform, R_Wall_TPB_uniform*0.988)\n",
    "\n",
    "# plt.fill_between(f_sen_vector, LC_TPB_lower, LC_TPB_upper, color='orange', alpha = 0.1, label = 'TPB')\n",
    "\n",
    "# ### vertical line to show f_sen for 2PAC\n",
    "# plt.axvline(0.01176, 0, 1, linestyle = 'dotted', color = 'gray', label='2PAC f_sen')\n",
    "\n",
    "# ### horizontal lines correspond to the LY expected from 2PAC according to the Analytic Model\n",
    "# # changed f_sens from 0.01176 to 0.01\n",
    "# LC_PEN_2PAC_ref = 40*0.4720*calc_wavelength_dependent_LY(wavelength_vector, E_PEN_uniform, PDE_uniform, 0.01, FF_sys, R_values_uniform, R_Wall_PEN_uniform*0.988) \n",
    "# LC_TPB_2PAC_ref = 40*1*calc_wavelength_dependent_LY(wavelength_vector, E_TPB_uniform, PDE_uniform, 0.01, FF_sys, R_values_uniform, R_Wall_TPB_uniform*0.988)\n",
    "\n",
    "# plt.axhline(LC_PEN_2PAC_ref, 0, 1, linestyle = '--', color = 'blue', alpha =0.8, label='2PAC PEN (Analytic Model)')\n",
    "# plt.axhline(LC_TPB_2PAC_ref, 0, 1, linestyle = '-.', color = 'orange', alpha =0.8, label='2PAC TPB (Analytic Model)')\n",
    "\n",
    "# ### single point to represent TPB yield\n",
    "# plt.errorbar([0.01176], [2.50*0.40], yerr = [0.05*0.40], fmt ='*', color ='red', label = '2PAC PEN LY (measurement) ')\n",
    "# plt.errorbar([0.01176], [2.50], yerr = [0.05], fmt = '^', color ='green', label = '2PAC TPB LY (measurement) ')\n",
    "\n",
    "# plt.ylabel('Light Yield [pe/keV]' , size =14, weight = 'bold')\n",
    "# plt.xlabel('f_sen', size =14, weight = 'bold')\n",
    "# plt.title('f_sen vs Light Yield [PDE, R and WLS dependence on wavelength accounted for]')\n",
    "# plt.legend(loc = 'upper left')\n",
    "\n",
    "# plt.savefig(r'C:\\Users\\sarth\\Dropbox\\Wavelength_Shifters\\f_sen_vs_LC.jpeg')"
   ]
  },
  {
   "cell_type": "code",
   "execution_count": null,
   "id": "7f95c69e-f846-40f9-88ab-46f477ad4c14",
   "metadata": {},
   "outputs": [],
   "source": []
  }
 ],
 "metadata": {
  "kernelspec": {
   "display_name": "Python 3 (ipykernel)",
   "language": "python",
   "name": "python3"
  },
  "language_info": {
   "codemirror_mode": {
    "name": "ipython",
    "version": 3
   },
   "file_extension": ".py",
   "mimetype": "text/x-python",
   "name": "python",
   "nbconvert_exporter": "python",
   "pygments_lexer": "ipython3",
   "version": "3.9.7"
  }
 },
 "nbformat": 4,
 "nbformat_minor": 5
}
