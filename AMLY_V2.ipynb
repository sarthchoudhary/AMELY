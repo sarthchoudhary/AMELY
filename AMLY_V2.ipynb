{
 "cells": [
  {
   "cell_type": "markdown",
   "id": "5dbbfbf1-bcfd-461b-b235-15460083978c",
   "metadata": {},
   "source": [
    "<h1 style=\"text-align: center;\">\n",
    "<span style= 'color : #f31567'> Analytic Model for Light Yield Estimation version 2.0 </span> \n",
    "<!-- <span style= 'color : #f31567'> Analytic Model for Estimating Light Collection Efficiency Version 2.0 </span>  -->\n",
    "</h1>\n",
    "<hr>\n",
    "<br>\n",
    "<p style='color : #FFAA00;  font-size: 16pt; font-family:courier;'>\n",
    "    Note:\n",
    "<span style= 'color : silver; text-align: center; '> 1. It has the provision to include 1.) the Rayleigh scattering and absorption and 2.) additional terms if SiPM was covered with WLS \n",
    "    <br>\n",
    "   2. We'll need to remove cells from earlier notebook as msot of the work is being re-writtem to segreto conventions.\n",
    "         </span> \n",
    "<p>\n",
    "<br>\n",
    "\n",
    "</p>\n",
    "<span style = 'color:tomato'> \n",
    "    Relevant Documentation: \n",
    "<a href=\"https://www.overleaf.com/read/vpkvkgpfqwst\">https://www.overleaf.com/read/vpkvkgpfqwst</a>\n",
    "    \n",
    "</span>\n",
    "</p>\n",
    "\n",
    "\n",
    "$$\n",
    "LCE = \\frac{X}{1-(s+w)} \n",
    "$$\n",
    "<br>\n",
    "$$ LCE = \\frac{f_{sen}FF_{sys}(1-R)}{1-( f_{sen}R + (1-f_{sen})R_{wall} )} $$\n",
    "<br>\n",
    "\n",
    "<p style= \"text-align: center;\">\n",
    "<br>\n",
    " <p style= \"text-align: center;\">\n",
    "<span style = 'color:tomato;'> \n",
    "    Relevant Documentations: \n",
    "<a href=\"https://arxiv.org/pdf/1110.6370.pdf\">Segreto 2012</a>    \n",
    "</span>\n",
    "<p style= \"text-align: center;\">\n",
    "<br>\n",
    "<span style = 'color:tomato'> \n",
    "    Research Notes: \n",
    "<a href=\"https://docs.google.com/document/d/1k-8OMUld0fGFGO-Om6wp_pJkQwOL-QxgrfYoKsZIPF4/edit\">Google Docs link </a>\n",
    "    \n",
    "</span>\n",
    "</p>"
   ]
  },
  {
   "cell_type": "code",
   "execution_count": 1,
   "id": "c28a50b2-f2c1-4080-b59f-0c42ef93c089",
   "metadata": {},
   "outputs": [],
   "source": [
    "# %matplotlib qt\n",
    "# %matplotlib inline\n",
    "\n",
    "from os import path\n",
    "import numpy as np\n",
    "import pandas as pd\n",
    "import matplotlib.pyplot as plt\n",
    "from scipy.interpolate import interp1d\n",
    "# %matplotlib qt  "
   ]
  },
  {
   "cell_type": "markdown",
   "id": "d01a8499-df7c-4cd7-a64f-7a4cbe59948d",
   "metadata": {},
   "source": [
    "<h3 style = 'color: #66AAEE '> Project Directory\n",
    "</h3>"
   ]
  },
  {
   "cell_type": "code",
   "execution_count": 2,
   "id": "5a09dd94-b447-4cd5-b687-2e961128fcc4",
   "metadata": {},
   "outputs": [],
   "source": [
    "### define project directory\n",
    "project_dir = r'C:\\Users\\sarth\\projects\\LY_Analytic_Model'; "
   ]
  },
  {
   "cell_type": "markdown",
   "id": "9fe9ed49-e22e-49de-a3f2-543b73038b13",
   "metadata": {},
   "source": [
    "<h2 style= 'text-align: center;'>\n",
    "    <span style  = 'color: gold'> Wavelength integrated LY with Absorbtion and Rayleigh Scattering effects</span>\n",
    "</h2>"
   ]
  },
  {
   "cell_type": "code",
   "execution_count": 3,
   "id": "13532cfe-a31c-42ef-affb-2bcafb3dbdd6",
   "metadata": {},
   "outputs": [],
   "source": [
    "### This notebook is being written to implement Segreto model which including Rayleigh Scattering and absorption effects. This section does that.\n",
    "### Note: Changing few terms to be compliant with Segreto's paper.\n",
    "#\n",
    "#\n",
    "#\n",
    "#\n",
    "#\n",
    "#\n",
    "#\n",
    "### one important thing to note is that current modification only work when there is no WLS coating on the Photon Detection Device,i.e, SiPM\n",
    "### will add additional terms later for case when wven SiPM are covered with WLS.\n",
    "### function to calculate Function F(Q, ...) \n",
    "### basically we have to modify this expression to use Q factor"
   ]
  },
  {
   "cell_type": "markdown",
   "id": "633872ce-b0dc-4206-b79d-f341d57ecde0",
   "metadata": {},
   "source": [
    "<h3 style = 'color: DeepPink '> calculating $Q$ factor\n",
    "</h3>"
   ]
  },
  {
   "cell_type": "code",
   "execution_count": 4,
   "id": "96483bbf-d4b3-4563-85b5-df020936e508",
   "metadata": {},
   "outputs": [],
   "source": [
    "from sympy import Symbol, exp, integrate\n",
    "\n",
    "x = Symbol('x')\n",
    "\n",
    "## L_char is basically what L tilde is in segreto paper\n",
    "\n",
    "## lambda_eff is basically lambda tilde in segreto paper\n",
    "\n",
    "def calc_lambda_eff(lambda_abs, lambda_R):\n",
    "    ''' Calculates effective lambda for Rayleigh scattering and Absorption.'''\n",
    "    return (lambda_R*lambda_abs)/(lambda_R + lambda_abs)\n",
    "\n",
    "def P_func(L_char, lambda_eff):\n",
    "    ''' \n",
    "    P_func: P(x) is the probability distribution of the distances that a photon would travel in absence of interactions (between two reflections or between a reflection and absorption/detection).\n",
    "    The P_func can be changed later if it is felt that we need a different probability distribution function. \n",
    "    '''\n",
    "    return 1/(L_char)\n",
    "\n",
    "def calc_URA(L_char, lambda_eff, Prob_distr):\n",
    "    return integrate( Prob_distr*exp(-x/lambda_eff), (x, 0, L_char))\n",
    "\n",
    "def calc_Q( L_char,  lambda_abs, lambda_R):\n",
    "    ''' \n",
    "    This function is used to compute Q factor for both visible and VUV photons.\n",
    "    Note:\n",
    "    We'll call calc_URA since URA is wavelength dependent. We'll also make a call to P_func so for the same reason.\n",
    "    '''\n",
    "    lambda_eff = calc_lambda_eff(lambda_abs, lambda_R)\n",
    "    \n",
    "    Pdf = P_func(L_char, lambda_eff); # Probability distribution function\n",
    "    \n",
    "    URA_value = float(calc_URA(L_char, lambda_eff, Pdf));\n",
    "    \n",
    "    return (1-(1-URA_value)*lambda_eff/lambda_R)/(URA_value)"
   ]
  },
  {
   "cell_type": "markdown",
   "id": "fb7966c6-5d86-4027-8293-aa1a6f074e61",
   "metadata": {},
   "source": [
    "<h3 style = 'color:DeepPink';> plotting $\\lambda_R$ vs $Q$ for comparison with segreto paper\n",
    "</h3>"
   ]
  },
  {
   "cell_type": "code",
   "execution_count": 5,
   "id": "668f898e-b839-4713-ace8-94d6ec552b15",
   "metadata": {},
   "outputs": [
    {
     "data": {
      "text/plain": [
       "<matplotlib.legend.Legend at 0x23462d7b880>"
      ]
     },
     "execution_count": 5,
     "metadata": {},
     "output_type": "execute_result"
    },
    {
     "data": {
      "image/png": "[encoded data removed]",
      "text/plain": [
       "<Figure size 432x288 with 1 Axes>"
      ]
     },
     "metadata": {
      "needs_background": "light"
     },
     "output_type": "display_data"
    }
   ],
   "source": [
    "# import numpy as np\n",
    "# import matplotlib.pyplot as plt\n",
    "%matplotlib inline\n",
    "\n",
    "lambda_R = np.arange(0,11, 0.1)\n",
    "\n",
    "Q_1 = [calc_Q(L_char=1, lambda_abs=0.1, lambda_R = scat) for scat in lambda_R];\n",
    "\n",
    "Q_2 = [calc_Q(L_char=1, lambda_abs=0.2, lambda_R = scat) for scat in lambda_R];\n",
    "\n",
    "Q_3 = [calc_Q(L_char=1, lambda_abs=0.5, lambda_R = scat) for scat in lambda_R];\n",
    "\n",
    "Q_4 = [calc_Q(L_char=1, lambda_abs=1.0, lambda_R = scat) for scat in lambda_R];\n",
    "\n",
    "plt.figure()\n",
    "plt.plot( lambda_R, Q_1, label = '0.1')\n",
    "plt.plot( lambda_R, Q_2, label = '0.2')\n",
    "plt.plot( lambda_R, Q_3, label = '0.5')\n",
    "plt.plot( lambda_R, Q_4, label = '1.0')\n",
    "plt.legend()"
   ]
  },
  {
   "cell_type": "code",
   "execution_count": 6,
   "id": "97f05c01-68f2-4999-be03-2691319e705b",
   "metadata": {},
   "outputs": [],
   "source": [
    "# Q_vis = calc_Q(L_char=100, lambda_abs=50, lambda_R=25);\n",
    "\n",
    "# Q_vuv = calc_Q(L_char=100, lambda_abs=75, lambda_R=50);"
   ]
  },
  {
   "cell_type": "markdown",
   "id": "99750514-fea3-421c-8f89-b8f89029b421",
   "metadata": {},
   "source": [
    "<h3 style = 'color:DeepPink;'>  Calculating $F $\n",
    "</h3>\n",
    "\n",
    "<p style = 'color:red;'> Note:\n",
    "<span style = 'color:yellow;'>Define $F$ in such way that we can use same function for computations for any wavelength. This will be useful later when we integrate over all wavelengths and then we can just call F.\n",
    "    </span>\n",
    "</p>"
   ]
  },
  {
   "cell_type": "markdown",
   "id": "d1fc239f-f6ad-4828-957e-61067cef936e",
   "metadata": {},
   "source": [
    "<span style = 'color : lime;'>\n",
    "\n",
    "$$ F( Q, f_{sen}FF_{sys}(1-R), f_{sen}R + (1-f_{sen} )R_{wall} ) = \\frac{f_{sen}FF_{sys}(1-\\color{Red}R)}{\\color{Red}Q-( f_{sen}\\color{Red}R + (1-f_{sen})\\color{Red}{R_{wall}} )} $$\n",
    "\n",
    "</span>"
   ]
  },
  {
   "cell_type": "markdown",
   "id": "10986525-faf7-4cf8-a386-55c3831ccc3d",
   "metadata": {},
   "source": [
    "<span style = 'color : lime;'>\n",
    "\n",
    "$$ F(Q,X, s + w) = \\frac{X}{Q-(s+w)} $$\n",
    "\n",
    "</span>"
   ]
  },
  {
   "cell_type": "code",
   "execution_count": 7,
   "id": "1d8a8fd1-087c-48ea-83f0-924f1ca1b463",
   "metadata": {},
   "outputs": [
    {
     "ename": "SyntaxError",
     "evalue": "invalid syntax (Temp/ipykernel_6152/3954845935.py, line 3)",
     "output_type": "error",
     "traceback": [
      "\u001b[1;36m  File \u001b[1;32m\"C:\\Users\\sarth\\AppData\\Local\\Temp/ipykernel_6152/3954845935.py\"\u001b[1;36m, line \u001b[1;32m3\u001b[0m\n\u001b[1;33m    def calc_F(Q_value, R, R_wall, f_sen, FF_Sys[, wavelength_value]):\u001b[0m\n\u001b[1;37m                                                ^\u001b[0m\n\u001b[1;31mSyntaxError\u001b[0m\u001b[1;31m:\u001b[0m invalid syntax\n"
     ]
    }
   ],
   "source": [
    "### to be implemnted\n",
    "### Skeleton only\n",
    "def calc_F(Q_value, R, R_wall, f_sen, FF_Sys[, wavelength_value]):\n",
    "    \n",
    "    '''\n",
    "    Q, R, R_wall are all wavelength dependent.\n",
    "    I'll have to find a way to calculate these for specifcic wavelengths.\n",
    "    '''\n",
    "    Q_value = calc_Q( L_char,  lambda_abs, lambda_R) ## change this line; drop this idea, implement sequences instead.\n",
    "    ## similar lines for R and R_wall\n",
    "    ## How did we do this in earlier notebook version ?\n",
    "    return (f_sen*FF_sys*(1-R))/(Q_value - (f_sen*R + (1-f_sen)*R_wall) )"
   ]
  },
  {
   "cell_type": "markdown",
   "id": "cb3a83de-53a5-4932-b6f1-0c87dc1626df",
   "metadata": {},
   "source": [
    "<h3 style = 'color: DeepPink '> calculating Light Collection Efficiency, $LCE$\n",
    "</h3>\n",
    "\n",
    "\n",
    "<span style = 'color:lime; font-size:12pt;'> \n",
    "    $$\n",
    "    LCE = \\frac{(1-f_{sen})*\\epsilon_{wls}*\\color{Red}{F(Q_{vis}, X, s+w)}}{Q_{VUV}}\n",
    "    $$\n",
    "</span>"
   ]
  },
  {
   "cell_type": "code",
   "execution_count": null,
   "id": "c971e117-28d6-423b-ac09-3c5057dc24ae",
   "metadata": {},
   "outputs": [],
   "source": [
    "### to be implemnted\n",
    "### Skeleton only\n",
    "### write a function which calls thses functions, calc_Q, calc_F, and use these to calculate for LCE\n",
    "def calc_LCE( L_char,  lambda_abs_vuv, lambda_R_vuv, lambda_abs_vis, lambda_R_vis, f_sen, wls_eff, ):\n",
    "    Q_vuv = calc_Q( L_char, lambda_abs_vuv, lambda_R_vuv); ### no single visible wavelength\n",
    "    Q_vis_lambda = calc_Q( L_char, lambda_abs_vis, lambda_R_vis);\n",
    "    return "
   ]
  },
  {
   "cell_type": "code",
   "execution_count": null,
   "id": "55e70832-9084-42b2-a606-a1c1e0d39b81",
   "metadata": {},
   "outputs": [],
   "source": [
    "### write functions for interpolation of the measured data values e.g., PDE, E_{WLS} and produce smooth values\n",
    "### need to calculate lambda R and lambda abs for separate wavelengths as well\n",
    "### to be implemented"
   ]
  },
  {
   "cell_type": "markdown",
   "id": "ec22305c-435b-42ca-8fa1-35f739756658",
   "metadata": {},
   "source": [
    "<!-- <h3 style = 'color: DeepPink '> calculating Light Yield, $LY$\n",
    "</h3> -->"
   ]
  },
  {
   "cell_type": "code",
   "execution_count": null,
   "id": "26eb56b2-c44f-4030-b149-75a0adace9e3",
   "metadata": {},
   "outputs": [],
   "source": [
    "### to be implemnted\n",
    "### Skeleton code only\n",
    "# SY = 40; ### find a better place to keep these values\n",
    "# PDE = ## change this line\n",
    "# def calc_LY():\n",
    "#     LCE_value = calc_LCE()\n",
    "#     return SY*LCE_value*PDE_value"
   ]
  },
  {
   "cell_type": "markdown",
   "id": "225240d3-49ef-4e71-87b6-8d94cd776522",
   "metadata": {},
   "source": [
    "<h3 style = 'color: DeepPink; text-align:center; font-size:16pt; '> 🍕 integrate Light Yield\n",
    "</h3>\n",
    "<!-- <p>\n",
    "Previously known as Weighted Average of Light Yield \n",
    "</p> -->\n",
    "\n",
    "<!-- <p> \n",
    "<span style = 'color : #5EA9E5;'> \n",
    "<br>\n",
    "% $$\n",
    "% integrate\\_LY = \\frac{\\sum( [LY\\_value(\\color{red}{PDE(\\lambda)}, f_{sen}, FF_{sys}, \\color{red}{R(\\lambda)}, \\color{red}{R_{wall}(\\lambda)}, \\color{red}{Q(\\lambda)}, \\epsilon_{wls} ) ] * \\color{red}{E_{wls}(\\lambda)})}{\\sum \\color{red}{E_{wls}(\\lambda)}}\n",
    "% $$\n",
    "</span>\n",
    "<br>\n",
    "<br>\n",
    "<br>\n",
    "</p> -->\n",
    "\n",
    "<p> \n",
    "<span style = 'color : lime; font-size:14pt;'> \n",
    "<br>\n",
    "<br>\n",
    "$$\n",
    "integrate\\_LY = \\frac{SY* \\sum( [calc\\_LCE(f_{sen}, FF_{sys}, \\color{red}{R(\\lambda)}, \\color{red}{R_{wall}(\\lambda)}, \\color{red}{Q(\\lambda)}, \\epsilon_{wls}) ] * [ \\color{red}{PDE(\\lambda)} ] * [ \\color{red}{E_{wls}(\\lambda)} ] ) } {\\sum \\color{red}{E_{wls}(\\lambda)}}\n",
    "$$\n",
    "</span>\n",
    "<br>\n",
    "<br>\n",
    "<span style= ' font-size:14pt; text-align: left; color:white;'>\n",
    "PS: Red --> wavelength dependent\n",
    "</span>\n",
    "</p>"
   ]
  },
  {
   "cell_type": "code",
   "execution_count": 94,
   "id": "d0b8e1c9-8237-4208-b6c5-bde31f445102",
   "metadata": {},
   "outputs": [
    {
     "ename": "SyntaxError",
     "evalue": "invalid syntax (Temp/ipykernel_6152/2810911150.py, line 8)",
     "output_type": "error",
     "traceback": [
      "\u001b[1;36m  File \u001b[1;32m\"C:\\Users\\sarth\\AppData\\Local\\Temp/ipykernel_6152/2810911150.py\"\u001b[1;36m, line \u001b[1;32m8\u001b[0m\n\u001b[1;33m    load_SiPM reflectance # skeleton code\u001b[0m\n\u001b[1;37m              ^\u001b[0m\n\u001b[1;31mSyntaxError\u001b[0m\u001b[1;31m:\u001b[0m invalid syntax\n"
     ]
    }
   ],
   "source": [
    "### to be implemnted\n",
    "def integrate_LY( wavelength_range, WLS_emission_spectrum, PDE, f_sen, FF_sys, R, R_wall, SY=40):\n",
    "    #     wavelength_value or index?\n",
    "    '''\n",
    "    acceptable format for wavelength_range is [begining, end, step]\n",
    "    𝜖_𝑤𝑙𝑠 represents the wavelength shifting efficiency of the WaveLength Shifter\n",
    "    '''\n",
    "    load_SiPM reflectance # skeleton code\n",
    "    wavelength_vector = np.arange(wavelength_range[0], wavelength_range[1], wavelength_range[2]) ;\n",
    "    numerator_value = 0 ;\n",
    "    denominator_value = 0 ;\n",
    "    \n",
    "    ### call smoothening fucntion here        \n",
    "    R_SiPM_smooth = make_smooth(R_SiPM)\n",
    "    R_Wall_PEN_smooth = make_smooth(R_Wall_PEN)\n",
    "    R_Wall_TPB_smooth = make_smooth(R_Wall_TPB)\n",
    "    PDE_smooth = make_smooth(PDE)\n",
    "    E_PEN_smooth = make_smooth(E_PEN)\n",
    "    E_TPB_smooth = make_smooth(E_TPB)\n",
    "    \n",
    "    for wavelength_index in range(len(wavelength_vector)):\n",
    "        wavelength_value = wavelength_vector[wavelength_index]\n",
    "        numerator_value += calc_LCE(wavelength_index, ) * PDE(wavelength_index) * WLS_emission_spectrum(wavelength_index);\n",
    "#         denominator_value += wavelength_value\n",
    "    denominator_value = sum(wavelength_vector)\n",
    "    return SY*numerator_value/denominator_value"
   ]
  },
  {
   "cell_type": "code",
   "execution_count": null,
   "id": "b8066e2f-03bb-4ee1-b019-c2d5647c7cbf",
   "metadata": {},
   "outputs": [],
   "source": [
    "# final_LY_value = integrate_LY([366, 560, 0.5], ) \n",
    "### A function should be such that we only need to provide values here and nowhere else\n",
    "###  ofcourse data files still need to be specified"
   ]
  },
  {
   "cell_type": "markdown",
   "id": "e6eef12d-37e5-429d-8ace-9558eef852ac",
   "metadata": {},
   "source": [
    "<h2 style = 'color:#66AAEE; font-size: 20pt; text-align: center;'>\n",
    "    Data \n",
    "</h2>\n",
    "\n",
    "<p style ='color: silver; font-size: 14pt'> project directory already defined at the top\n",
    "</p>\n",
    "<p style ='color: silver; font-size: 14pt'>PS:  The preprocessing is different for each file depending on data structure.\n",
    "</p>"
   ]
  },
  {
   "cell_type": "markdown",
   "id": "5be476a7-abcd-4a2a-aa9a-9ba59b3d3dc2",
   "metadata": {},
   "source": [
    "<h3 style = 'text-align: left'>\n",
    "    <span style = \"color : slateblue\"> SiPM Reflectance data </span>\n",
    "</h3>\n",
    "<!-- <p>\n",
    "    SiPM Reflectance .dat file provided by Cenk\n",
    "    <br>\n",
    "    <span style = 'color: #FF6611; font-size: 18px'> Note: </span> \n",
    "    SiPM Reflectance is multiplied by 0.91 to take care of the effect of antireflective coating in Liquid Argon chamber (needs further investigtation)\n",
    "</p> -->"
   ]
  },
  {
   "cell_type": "code",
   "execution_count": 8,
   "id": "6096c228-d7a6-4e30-b563-7ac3241332fd",
   "metadata": {},
   "outputs": [],
   "source": [
    "R_SiPM_df = pd.read_csv(path.join(project_dir, 'Data','sipm_hr1_processed.txt'), sep = '\\t')  ## 'Data' is the name of the folder containing Data files\n",
    "R_SiPM = R_SiPM_df.copy()\n",
    "R_SiPM['R'] = [int(value)/100 for value in R_SiPM_df['R']]\n",
    "\n",
    "## cenk's data files for darkside veto are given below\n",
    "\n",
    "# cenk_SiPM_R_df = pd.read_csv(path.join(project_dir, 'Data','SiPM_ref.csv'), sep = ',')\n",
    "# # cenk_SiPM_R_values = cenk_SiPM_R_vector.copy()\n",
    "# # cenk_R_SiPM_values['R'] = [int(value)/100 for value in cenk_R_SiPM_vector['R']]\n",
    "# cenk_SiPM_R_df2 = cenk_SiPM_R_df.copy()\n",
    "# cenk_SiPM_R_df2['LAr_equivalent_Reflectance'] = cenk_SiPM_R_df2['R']*0.91 \n",
    "\n",
    "# ### Note: SiPM is coated with an unknown anti-reflection coating\n",
    "# ### 0.91 : To get the unknown reflectivity of SiPM in Liquid Argon. Since SiPM is also coated with an anti reflection coating, getting the equivalent \n",
    "# ### reflectance is not straight forward. 0.91 is based on an educated guess.\n",
    "\n",
    "# cenk_SiPM_R_df2['wavelength'] = 1239.847/cenk_SiPM_R_df2['E'] # Eneergy unit eV wavlength Unit: nm\n",
    "# # SiPM_ref.dat\n",
    "# # cenk_SiPM_R_df3 = cenk_SiPM_R_df2.sort_values(by = 'wavelength')"
   ]
  },
  {
   "cell_type": "code",
   "execution_count": 9,
   "id": "518a99c4-b6d8-4950-a8ad-a65ea2292b86",
   "metadata": {},
   "outputs": [],
   "source": [
    "# cenk_SiPM_R_df2.head()"
   ]
  },
  {
   "cell_type": "code",
   "execution_count": 10,
   "id": "36acc85e-a6a8-4cb4-a714-50d36796cc03",
   "metadata": {},
   "outputs": [],
   "source": [
    "# plt.figure()\n",
    "# plt.plot(cenk_SiPM_R_df2['wavelength'], cenk_SiPM_R_df2['R'])\n",
    "# plt.plot(SiPM_R_values['Wavelength'], SiPM_R_values['R'])"
   ]
  },
  {
   "cell_type": "markdown",
   "id": "8a6c9a83-23ba-41cb-8557-d8ade8e87a42",
   "metadata": {},
   "source": [
    "<h3 style = 'text-align: left'>\n",
    "    <span style = \"color : slateblue\"> SiPM PDE data </span>\n",
    "</h3>\n",
    "<p>\n",
    "    Using FBK PDE values\n",
    "<br>\n",
    "    Normalizing with 40/52.77\n",
    "</p>"
   ]
  },
  {
   "cell_type": "code",
   "execution_count": 11,
   "id": "1bf8cac6-9e4f-48a3-ba0f-8e5ee5b741c7",
   "metadata": {},
   "outputs": [],
   "source": [
    "### FBK Values sent by cenk\n",
    "# photon_wavelegnth = [285.87, 301.14, 320.99, 340.83, 365.26, 380.53, 391.22, 400.38, 411.06, 420.22, 435.49, 449.23, 464.50, 499.61, 588.16, 698.09]\n",
    "# PDE_vector = [18.39, 37.24, 41.87, 42.43, 45.03, 48.12, 52.72, 52.75, 52.77, 52.29, 48.77, 46.26, 40.71, 38.76, 28.82, 18.93] # %age values\n",
    "# PDE_normalized_vector = []\n",
    "### Normalizing PDE values in FBK data as instructed by Cenk\n",
    "# PDE_normalized_vector = [value*40/max(PDE_vector) for value in PDE_vector]\n",
    "## PDE_normalized_vector\n",
    "# norm_PDE_values = [value/100 for value in PDE_normalized_vector]\n",
    "\n",
    "### LFoundry PDE Values sent by Cenk\n",
    "photon_wavelegnth = [365.39, 390.34, 399.89, 409.98, 420.06, 434.93, 450.32, 500.21, 525.16, 545.33, 590.98, 630.25, 700.32]\n",
    "PDE_vector = [43.277, 51.892, 54.257, 52.399, 50.709, 46.993, 42.601, 36.014, 30.439, 28.581, 24.358, 20.473, 15.574]\n",
    "# Normalization for PDE values \n",
    "norm_PDE_values = [value/100 for value in PDE_vector]\n",
    "\n",
    "\n",
    "frame = {'photon_wavelegnth':photon_wavelegnth, 'PDE_norm': norm_PDE_values}\n",
    "\n",
    "PDE = pd.DataFrame(frame)\n",
    "\n",
    "# max(PDE['PDE_norm'])"
   ]
  },
  {
   "cell_type": "markdown",
   "id": "bb18524c-e097-4353-922c-5a40a9f58ef8",
   "metadata": {},
   "source": [
    "<h3 style= 'color: slateblue'>\n",
    "   PEN Reflectance Data \n",
    "</h3>\n",
    "<p>\n",
    "<span style= 'color: red; font-size : 22px'>  Needs verification !!! \n",
    "</span>\n",
    "</p>"
   ]
  },
  {
   "cell_type": "code",
   "execution_count": 12,
   "id": "457e8bb0-4532-459c-85a6-53eaf7dd5439",
   "metadata": {},
   "outputs": [],
   "source": [
    "## R_wall_PEN = \n",
    "PEN_photon_energy = [0.1, 2.067,2.175,2.214,2.255,2.340,2.385,2.431,2.436,2.531,2.583,2.638,2.696,2.725,2.756,2.787,2.818,\n",
    "2.884,2.918,2.952,2.988,3.024,3.039,3.047,3.054,3.062,3.069,3.077,3.085,3.092,3.100,3.108,3.116,3.123,3.131,3.139,3.147,3.155,\n",
    "3.163,3.171,3.179,3.188,3.196,3.204,3.212,3.221,3.263, 8.0] ## energy in eV\n",
    "\n",
    "PEN_reflectance = [100.130, 100.130,99.995,99.856,99.681,99.659,99.569,99.351,99.306,99.018,98.652,98.415,98.283,\n",
    "98.018,97.856,97.606,97.457,97.134,96.928,96.827,96.247,95.737,95.359,95.197,95.048,94.876,94.684,94.463,94.055,93.650,93.147,\n",
    "92.562,91.812,90.904,89.807,88.506,86.957,85.242,83.156,80.678,77.811,74.615,71.004,67.089,62.924,58.670,20.000, 20.000] ## %age reflectance\n",
    "\n",
    "PEN_reflectance = [reflectance*0.98/100 for reflectance in PEN_reflectance] \n",
    "# PEN_reflectance = [reflectance*0.98*0.994/100 for reflectance in PEN_reflectance] \n",
    "\n",
    "### Reflectance is multiplied by 0.98 and 0.994 for calibration purpose:\n",
    "    ### 1. 0.98 is the reflectance of Basrium Sulphate used as the standard in photo spectrometer\n",
    "    ### 2. The second factor is specific to 2PAC. 0.994 is the coverage fraction of Wavelength Shifting material (a small surface coverage is lost to holes, bolts etc in 2PAC)\n",
    "### The calculation is very senstitive to Reflectance\n",
    "\n",
    "\n",
    "PEN_photon_wavelength = []\n",
    "\n",
    "for PEN_energy_value in PEN_photon_energy:\n",
    "    PEN_wavelengthg_length = 1239.847/PEN_energy_value\n",
    "    PEN_photon_wavelength.append(PEN_wavelengthg_length)\n",
    "\n",
    "frame = {'photon_wavelength': PEN_photon_wavelength,\n",
    "        'PEN_reflectance': PEN_reflectance}\n",
    "\n",
    "R_Wall_PEN = pd.DataFrame(frame)\n",
    "\n",
    "## reverse the order of wavelength smaller to bigger\n",
    "R_Wall_PEN = R_Wall_PEN.iloc[::-1]\n",
    "\n",
    "# R_Wall_PEN"
   ]
  },
  {
   "cell_type": "markdown",
   "id": "463b7de7-9a12-4f01-a594-09c41869ee5f",
   "metadata": {
    "tags": []
   },
   "source": [
    "<h3> <span style = \"color : slateblue\"> PEN Emission Spectrum </span> </h3>"
   ]
  },
  {
   "cell_type": "code",
   "execution_count": 13,
   "id": "6eed0bb4-c8a6-4f17-a0f8-a06cd133fac1",
   "metadata": {},
   "outputs": [],
   "source": [
    "# r_PEN = r'D:\\D Downloads\\Current_work\\pen-tess.txt'\n",
    "r_PEN = path.join(project_dir, 'Data', 'pen-tess.txt')\n",
    "emission_spectrum_PEN = pd.read_csv(r_PEN, sep ='\\t')\n",
    "\n",
    "E_PEN = emission_spectrum_PEN.drop(['a','b','c'], axis=1)\n",
    "\n",
    "# E_PEN\n",
    "\n",
    "# normalize : divide by maximum value\n",
    "E_PEN['efficiency'] = E_PEN['efficiency']/max(E_PEN['efficiency'] ) \n",
    "\n",
    "# remove negative values\n",
    "E_PEN = E_PEN[E_PEN > 0].dropna()\n",
    "# E_PEN['efficiency']\n",
    "## What are the units of efficiency? Normalize PEN Spectrum ??\n",
    "## Remove negative values?\n",
    "## Need linear interpolation for everyuthing R, R_Wall, PDE and emission spectrum"
   ]
  },
  {
   "cell_type": "markdown",
   "id": "bda29d09-d2a2-44e6-9bb8-e013d5874a62",
   "metadata": {},
   "source": [
    "<h3 style = 'color : slateblue'> TPB Reflectance data \n",
    "</h3>"
   ]
  },
  {
   "cell_type": "code",
   "execution_count": 14,
   "id": "327672de-db10-43ae-b38b-c25c202e81ff",
   "metadata": {},
   "outputs": [],
   "source": [
    "photon_energy = [0.1, 2.067,2.175,2.214,2.255,2.340,2.385,2.431,2.436,2.531,2.583,2.638,2.696,2.725,2.756,2.787,2.818,2.884,2.918,2.952,2.988,3.024, 3.221,3.263, 8.0]\n",
    "TPB_reflectance = [98.936,98.936,99.180,99.309,99.375,99.392,99.534,99.490,99.491,99.685,99.635,99.593,99.541,99.457,99.380,99.374,99.196,98.924,98.521,97.653,95.581,92.569,13.0,3.0,3.0]\n",
    "\n",
    "photon_wavelength = []\n",
    "\n",
    "TPB_reflectance = [reflectance*0.98/100 for reflectance in TPB_reflectance]\n",
    "# TPB_reflectance = [reflectance*0.98*0.994/100 for reflectance in TPB_reflectance]\n",
    "\n",
    "### Reflectance is multiplied by 0.98 and 0.994 for calibration purpose:\n",
    "    ### 1. 0.98 is the reflectance of Basrium Sulphate used as the standard in photo spectrometer\n",
    "    ### 2. The second factor is specific to 2PAC. 0.994 is the coverage fraction of Wavelength Shifting material (a small surface coverage is lost to holes, bolts etc in 2PAC)\n",
    "### The calculation is very senstitive to Reflectance\n",
    "\n",
    "for energy_ in photon_energy:\n",
    "    length_ = 1239.847/energy_\n",
    "    photon_wavelength.append(length_)\n",
    "\n",
    "frame = {'photon_wavelength': photon_wavelength,\n",
    "        'TPB_reflectance': TPB_reflectance}\n",
    "\n",
    "R_Wall_TPB = pd.DataFrame(frame)\n",
    "\n",
    "## reverse the order of wavelength smaller to bigger\n",
    "R_Wall_TPB = R_Wall_TPB.iloc[::-1]\n",
    "\n",
    "# R_Wall_TPB"
   ]
  },
  {
   "cell_type": "markdown",
   "id": "b3e9b5de-f54d-4c74-9d55-f08eeb8206d2",
   "metadata": {},
   "source": [
    "<h3 style = \"color : slateblue\"> TPB Emission Spectrum </h3>"
   ]
  },
  {
   "cell_type": "code",
   "execution_count": 15,
   "id": "c0a80fa2-6408-4139-a518-02fff193aa25",
   "metadata": {},
   "outputs": [],
   "source": [
    "#### why do we have negative values?\n",
    "#### Might need to clean data\n",
    "## drop negative values\n",
    "## normalize efficiency\n",
    "\n",
    "# r_TPB = r'D:\\D Downloads\\Current_work\\tpb-fran.txt'\n",
    "r_TPB = path.join(project_dir, 'Data','tpb-fran.txt')\n",
    "emission_spectrum_TPB = pd.read_csv(r_TPB, sep ='\\t')\n",
    "\n",
    "E_TPB = emission_spectrum_TPB.drop(['a','b','c','d'], axis=1)\n",
    "# E_TPB"
   ]
  },
  {
   "cell_type": "markdown",
   "id": "21a9de1f-133f-489d-b56b-bdd3eb12bfa1",
   "metadata": {},
   "source": [
    "<p> <span style = \"font-size: 18pt; color: Red\"> Warning: </span> TPB data has negative values!!! </p>"
   ]
  },
  {
   "cell_type": "code",
   "execution_count": 16,
   "id": "cc7511e9-4201-45d8-864a-804b8dca38ac",
   "metadata": {},
   "outputs": [],
   "source": [
    "# normalize : divide by maximum value\n",
    "E_TPB['efficiency'] = E_TPB['efficiency']/max(E_TPB['efficiency'] ) \n",
    "# remove negative values\n",
    "E_TPB = E_TPB[E_TPB > 0].dropna()\n",
    "\n",
    "# E_TPB\n"
   ]
  },
  {
   "cell_type": "code",
   "execution_count": 17,
   "id": "7941699e-50e6-4bfc-8dcf-9545546ced60",
   "metadata": {},
   "outputs": [],
   "source": [
    "# smoothing"
   ]
  },
  {
   "cell_type": "code",
   "execution_count": 110,
   "id": "cf6a1a28-e786-47b2-9011-124afbd7b704",
   "metadata": {},
   "outputs": [],
   "source": [
    "f_R_Wall_TPB = interp1d(R_Wall_TPB['photon_wavelength'], R_Wall_TPB['TPB_reflectance'])\n",
    "cenk_R_Wall_TPB_uniform = f_R_Wall_TPB(wavelength_vector)\n",
    "\n",
    "f_R_Wall_PEN = interp1d(R_Wall_PEN['photon_wavelength'], R_Wall_PEN['PEN_reflectance'])\n",
    "cenk_R_Wall_PEN_uniform = f_R_Wall_PEN(wavelength_vector)\n",
    "\n",
    "f_E_PEN = interp1d(E_PEN['wavelength'], E_PEN['efficiency'])\n",
    "E_PEN_uniform = f_E_PEN(wavelength_vector)\n",
    "\n",
    "f_E_TPB = interp1d(E_TPB['wavelength'], E_TPB['efficiency'])\n",
    "E_TPB_uniform = f_E_TPB(wavelength_vector)\n",
    "\n",
    "f_PDE = interp1d(PDE['photon_wavelegnth'], PDE['PDE_norm'])\n",
    "cenk_PDE_uniform = f_PDE(wavelength_vector)\n",
    "\n",
    "# f_cenk_SiPM_R = interp1d(cenk_SiPM_R_df2['wavelength'], cenk_SiPM_R_df2['LAr_equivalent_Reflectance'])\n",
    "# cenk_SiPM_R_uniform = f_cenk_SiPM_R(wavelength_vector)"
   ]
  },
  {
   "cell_type": "code",
   "execution_count": 97,
   "id": "7055ffb6-b807-42f6-8bf3-9ba9b5cead99",
   "metadata": {},
   "outputs": [],
   "source": [
    "### variable name 'photon_wavelegnth' is NOT hard coded for all the data frames.\n",
    "def make_smooth(data_frame_var):\n",
    "    name_column_0 = data_frame_var.columns[0]\n",
    "    name_column_1 = data_frame_var.columns[1]\n",
    "    \n",
    "    photon_wavelength = data_frame_var[name_column_0]\n",
    "    physical_quantity = data_frame_var[name_column_1]\n",
    "    \n",
    "    interpol_func = interp1d(photon_wavelength , physical_quantity)\n",
    "    return  interpol_func(wavelength_vector)"
   ]
  },
  {
   "cell_type": "code",
   "execution_count": 96,
   "id": "6ef995ae-55d5-496a-b246-56864fadd9b3",
   "metadata": {},
   "outputs": [],
   "source": [
    "# wavelength_vector = np.arange(366, 560, 0.5) "
   ]
  },
  {
   "cell_type": "code",
   "execution_count": 103,
   "id": "a63dc6fc-cfd1-4189-9b58-5d85a1b39fe6",
   "metadata": {},
   "outputs": [],
   "source": [
    "R_SiPM_smooth = make_smooth(R_SiPM)\n",
    "\n",
    "R_Wall_PEN_smooth = make_smooth(R_Wall_PEN)\n",
    "\n",
    "R_Wall_TPB_smooth = make_smooth(R_Wall_TPB)\n",
    "\n",
    "PDE_smooth = make_smooth(PDE)\n",
    "\n",
    "E_PEN_smooth = make_smooth(E_PEN)\n",
    "\n",
    "E_TPB_smooth = make_smooth(E_TPB)"
   ]
  },
  {
   "cell_type": "code",
   "execution_count": null,
   "id": "b10378c3-f1ba-4146-9f5e-2862a78687a7",
   "metadata": {},
   "outputs": [],
   "source": []
  }
 ],
 "metadata": {
  "kernelspec": {
   "display_name": "Python 3 (ipykernel)",
   "language": "python",
   "name": "python3"
  },
  "language_info": {
   "codemirror_mode": {
    "name": "ipython",
    "version": 3
   },
   "file_extension": ".py",
   "mimetype": "text/x-python",
   "name": "python",
   "nbconvert_exporter": "python",
   "pygments_lexer": "ipython3",
   "version": "3.9.7"
  },
  "toc-autonumbering": false,
  "toc-showcode": false,
  "toc-showmarkdowntxt": false,
  "toc-showtags": false
 },
 "nbformat": 4,
 "nbformat_minor": 5
}
