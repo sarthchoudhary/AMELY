{
 "cells": [
  {
   "cell_type": "markdown",
   "id": "5dbbfbf1-bcfd-461b-b235-15460083978c",
   "metadata": {},
   "source": [
    "<h1 style=\"text-align: center;\">\n",
    "<span style= 'color : #f31567'> Analytic Model for Light Yield Estimation version 2.0 </span> \n",
    "<!-- <span style= 'color : #f31567'> Analytic Model for Estimating Light Collection Efficiency Version 2.0 </span>  -->\n",
    "</h1>\n",
    "<hr>\n",
    "<br>\n",
    "<p style='color : #FFAA00;  font-size: 16pt; font-family:courier;'>\n",
    "    Story so far.. :\n",
    "<span style= 'color : silver; text-align: center; '> This notebook is written to implement Segreto model.\n",
    "    <ol>\n",
    "       <li> It has the provision to include the Rayleigh scattering and absorption. ✅</li> \n",
    "       <li> renamed few variables to be compliant with Segreto's paper. ✅</li>\n",
    "       <li> I will add additional terms later for the configuration where even SiPM are covered with WLS. </li>\n",
    "       <li> default value Q_vis = 1</li>\n",
    "        <li> default value Q_vuv = 1</li>\n",
    "        <li> default value $\\epsilon_{wls} = 1 $</li>\n",
    "        <li> deafault value SY=40</li>\n",
    "        <li> </li>\n",
    "        <li> </li>\n",
    "    </ol>\n",
    "\n",
    "</span> \n",
    "</p>\n",
    "<p style ='color:red; '> Note:\n",
    "</p>\n",
    "<p style = 'color:yellow'>\n",
    "     one important thing to note is that current modification only work when there is no WLS coating on the Photon Detection Device,i.e, SiPM\n",
    "\n",
    "</p>\n",
    "\n",
    "<span style = 'color:tomato'> \n",
    "    Relevant Documentation: \n",
    "<a href=\"https://www.overleaf.com/read/vpkvkgpfqwst\">https://www.overleaf.com/read/vpkvkgpfqwst</a>\n",
    "    \n",
    "</span>\n",
    "</p>\n",
    "\n",
    "\n",
    "$$\n",
    "LCE = \\frac{X}{1-(s+w)} \n",
    "$$\n",
    "<br>\n",
    "$$ LCE = \\frac{f_{sen}FF_{sys}(1-R)}{1-( f_{sen}R + (1-f_{sen})R_{wall} )} $$\n",
    "<br>\n",
    "\n",
    "<p style= \"text-align: center;\">\n",
    "<br>\n",
    " <p style= \"text-align: center;\">\n",
    "<span style = 'color:tomato;'> \n",
    "    Relevant Documentations: \n",
    "<a href=\"https://arxiv.org/pdf/1110.6370.pdf\">Segreto 2012</a>    \n",
    "</span>\n",
    "<p style= \"text-align: center;\">\n",
    "<br>\n",
    "<span style = 'color:tomato'> \n",
    "    Research Notes: \n",
    "<a href=\"https://docs.google.com/document/d/1k-8OMUld0fGFGO-Om6wp_pJkQwOL-QxgrfYoKsZIPF4/edit\">Google Docs link </a>\n",
    "    \n",
    "</span>\n",
    "</p>"
   ]
  },
  {
   "cell_type": "code",
   "execution_count": 1,
   "id": "c28a50b2-f2c1-4080-b59f-0c42ef93c089",
   "metadata": {},
   "outputs": [],
   "source": [
    "from os import path\n",
    "import numpy as np\n",
    "import pandas as pd\n",
    "import matplotlib.pyplot as plt\n",
    "from scipy.interpolate import interp1d\n",
    "%matplotlib inline\n",
    "# %matplotlib qt"
   ]
  },
  {
   "cell_type": "markdown",
   "id": "c213ec30-8eda-4629-8af1-caf0d30dd1bb",
   "metadata": {},
   "source": [
    "<h2 style = 'color:#66AAEE; font-size: 20pt; text-align: center;'>\n",
    "    Data loading & Pre-processing\n",
    "</h2>\n",
    "\n",
    "<p style ='color: silver; font-size: 14pt'> project directory is defined in the following cell; it will remain same through out the notebook.\n",
    "</p>\n",
    "<p style ='color: silver; font-size: 14pt'>PS:  The preprocessing is different for each file depending on data structure.\n",
    "</p>"
   ]
  },
  {
   "cell_type": "markdown",
   "id": "d01a8499-df7c-4cd7-a64f-7a4cbe59948d",
   "metadata": {},
   "source": [
    "<h3 > ✏ <span style = 'color: #7bc5ef; '> Project Directory </span>\n",
    "</h3>"
   ]
  },
  {
   "cell_type": "code",
   "execution_count": 2,
   "id": "5a09dd94-b447-4cd5-b687-2e961128fcc4",
   "metadata": {},
   "outputs": [],
   "source": [
    "### define project directory\n",
    "project_dir = r'C:\\Users\\sarth\\projects\\LY_Analytic_Model'; "
   ]
  },
  {
   "cell_type": "markdown",
   "id": "0b63c768-86d0-4c54-aac3-98ac44b255ce",
   "metadata": {},
   "source": [
    "<h3 style = 'text-align: left;  color:magenta; font-family: courier prime; font-size:16pt;'>\n",
    "     SiPM Reflectance data\n",
    "</h3>\n",
    "<!-- <p>\n",
    "    SiPM Reflectance .dat file provided by Cenk\n",
    "    <br>\n",
    "    <span style = 'color: #FF6611; font-size: 18px'> Note: </span> \n",
    "    SiPM Reflectance is multiplied by 0.91 to take care of the effect of antireflective coating in Liquid Argon chamber (needs further investigtation)\n",
    "</p> -->"
   ]
  },
  {
   "cell_type": "code",
   "execution_count": 3,
   "id": "6096c228-d7a6-4e30-b563-7ac3241332fd",
   "metadata": {},
   "outputs": [],
   "source": [
    "R_SiPM_df = pd.read_csv(path.join(project_dir, 'Data','sipm_hr1_processed.txt'), sep = '\\t')  ## 'Data' is the name of the folder containing Data files\n",
    "R_SiPM = R_SiPM_df.copy()\n",
    "R_SiPM['R'] = [int(value)/100 for value in R_SiPM_df['R']]\n",
    "\n",
    "## cenk's data files for darkside veto are given below\n",
    "\n",
    "# cenk_SiPM_R_df = pd.read_csv(path.join(project_dir, 'Data','SiPM_ref.csv'), sep = ',')\n",
    "# # cenk_SiPM_R_values = cenk_SiPM_R_vector.copy()\n",
    "# # cenk_R_SiPM_values['R'] = [int(value)/100 for value in cenk_R_SiPM_vector['R']]\n",
    "# cenk_SiPM_R_df2 = cenk_SiPM_R_df.copy()\n",
    "# cenk_SiPM_R_df2['LAr_equivalent_Reflectance'] = cenk_SiPM_R_df2['R']*0.91 \n",
    "\n",
    "# ### Note: SiPM is coated with an unknown anti-reflection coating\n",
    "# ### 0.91 : To get the unknown reflectivity of SiPM in Liquid Argon. Since SiPM is also coated with an anti reflection coating, getting the equivalent \n",
    "# ### reflectance is not straight forward. 0.91 is based on an educated guess.\n",
    "\n",
    "# cenk_SiPM_R_df2['wavelength'] = 1239.847/cenk_SiPM_R_df2['E'] # Eneergy unit eV wavlength Unit: nm\n",
    "# # SiPM_ref.dat\n",
    "# # cenk_SiPM_R_df3 = cenk_SiPM_R_df2.sort_values(by = 'wavelength')"
   ]
  },
  {
   "cell_type": "code",
   "execution_count": 4,
   "id": "518a99c4-b6d8-4950-a8ad-a65ea2292b86",
   "metadata": {},
   "outputs": [],
   "source": [
    "# cenk_SiPM_R_df2.head()"
   ]
  },
  {
   "cell_type": "code",
   "execution_count": 5,
   "id": "36acc85e-a6a8-4cb4-a714-50d36796cc03",
   "metadata": {},
   "outputs": [],
   "source": [
    "# plt.figure()\n",
    "# plt.plot(cenk_SiPM_R_df2['wavelength'], cenk_SiPM_R_df2['R'])\n",
    "# plt.plot(SiPM_R_values['Wavelength'], SiPM_R_values['R'])"
   ]
  },
  {
   "cell_type": "markdown",
   "id": "b53f90ac-4f9a-4ee5-9a68-75ff2838e418",
   "metadata": {},
   "source": [
    "<h3 style = 'text-align: left;  color:magenta; font-family: courier prime; font-size:16pt;'> \n",
    "    SiPM PDE data\n",
    "</h3>\n",
    "<p>\n",
    "    Caustion : when using FBK PDE values, normalize with 40/52.77\n",
    "</p>"
   ]
  },
  {
   "cell_type": "code",
   "execution_count": 6,
   "id": "1bf8cac6-9e4f-48a3-ba0f-8e5ee5b741c7",
   "metadata": {},
   "outputs": [],
   "source": [
    "### FBK Values sent by cenk\n",
    "# photon_wavelegnth = [285.87, 301.14, 320.99, 340.83, 365.26, 380.53, 391.22, 400.38, 411.06, 420.22, 435.49, 449.23, 464.50, 499.61, 588.16, 698.09]\n",
    "# PDE_vector = [18.39, 37.24, 41.87, 42.43, 45.03, 48.12, 52.72, 52.75, 52.77, 52.29, 48.77, 46.26, 40.71, 38.76, 28.82, 18.93] # %age values\n",
    "# PDE_normalized_vector = []\n",
    "### Normalizing PDE values in FBK data as instructed by Cenk\n",
    "# PDE_normalized_vector = [value*40/max(PDE_vector) for value in PDE_vector]\n",
    "## PDE_normalized_vector\n",
    "# norm_PDE_values = [value/100 for value in PDE_normalized_vector]\n",
    "\n",
    "### LFoundry PDE Values sent by Cenk\n",
    "photon_wavelegnth = [365.39, 390.34, 399.89, 409.98, 420.06, 434.93, 450.32, 500.21, 525.16, 545.33, 590.98, 630.25, 700.32]\n",
    "PDE_vector = [43.277, 51.892, 54.257, 52.399, 50.709, 46.993, 42.601, 36.014, 30.439, 28.581, 24.358, 20.473, 15.574]\n",
    "# Normalization for PDE values \n",
    "norm_PDE_values = [value/100 for value in PDE_vector]\n",
    "\n",
    "\n",
    "frame = {'photon_wavelegnth':photon_wavelegnth, 'PDE_norm': norm_PDE_values}\n",
    "\n",
    "PDE = pd.DataFrame(frame)\n",
    "\n",
    "# max(PDE['PDE_norm'])"
   ]
  },
  {
   "cell_type": "markdown",
   "id": "58c48add-95e3-4a38-9ceb-d842b77b4fa2",
   "metadata": {},
   "source": [
    "<h3 style = 'text-align: left;  color:magenta; font-family: courier prime; font-size:16pt;'>\n",
    "   PEN Reflectance Data \n",
    "</h3>\n",
    "<!-- <p>\n",
    "<span style= 'color: red; font-size : 22px'>  Needs verification !!! \n",
    "</span>\n",
    "</p> -->"
   ]
  },
  {
   "cell_type": "code",
   "execution_count": 7,
   "id": "59fa6b04-0ee5-4551-a6cf-4f0b40025a27",
   "metadata": {},
   "outputs": [],
   "source": [
    "## R_wall_PEN = \n",
    "PEN_photon_energy = [0.1, 2.067,2.175,2.214,2.255,2.340,2.385,2.431,2.436,2.531,2.583,2.638,2.696,2.725,2.756,2.787,2.818,\n",
    "2.884,2.918,2.952,2.988,3.024,3.039,3.047,3.054,3.062,3.069,3.077,3.085,3.092,3.100,3.108,3.116,3.123,3.131,3.139,3.147,3.155,\n",
    "3.163,3.171,3.179,3.188,3.196,3.204,3.212,3.221,3.263, 8.0] ## energy in eV\n",
    "\n",
    "PEN_reflectance = [100.130, 100.130,99.995,99.856,99.681,99.659,99.569,99.351,99.306,99.018,98.652,98.415,98.283,\n",
    "98.018,97.856,97.606,97.457,97.134,96.928,96.827,96.247,95.737,95.359,95.197,95.048,94.876,94.684,94.463,94.055,93.650,93.147,\n",
    "92.562,91.812,90.904,89.807,88.506,86.957,85.242,83.156,80.678,77.811,74.615,71.004,67.089,62.924,58.670,20.000, 20.000] ## %age reflectance\n",
    "\n",
    "# PEN_reflectance = [reflectance*0.98/100 for reflectance in PEN_reflectance] \n",
    "PEN_reflectance = [reflectance*0.98*0.994/100 for reflectance in PEN_reflectance] \n",
    "\n",
    "### Reflectance is multiplied by 0.98 and 0.994 for calibration purpose:\n",
    "    ### 1. 0.98 is the reflectance of Basrium Sulphate used as the standard in photo spectrometer\n",
    "    ### 2. The second factor is specific to 2PAC. 0.994 is the coverage fraction of Wavelength Shifting material (a small surface coverage is lost to holes, bolts etc in 2PAC)\n",
    "### The calculation is very senstitive to Reflectance\n",
    "\n",
    "\n",
    "photon_wavelength = []\n",
    "\n",
    "for energy_value in PEN_photon_energy:\n",
    "    wavelength_value = 1239.847/energy_value\n",
    "    photon_wavelength.append(wavelength_value)\n",
    "\n",
    "frame = {'photon_wavelength': photon_wavelength,\n",
    "        'PEN_reflectance': PEN_reflectance}\n",
    "\n",
    "R_Wall_PEN = pd.DataFrame(frame)\n",
    "\n",
    "## reverse the order of wavelength smaller to bigger\n",
    "R_Wall_PEN = R_Wall_PEN.iloc[::-1]\n",
    "\n",
    "# R_Wall_PEN"
   ]
  },
  {
   "cell_type": "markdown",
   "id": "28f85991-20df-4d19-ab94-b9d93c4db3b9",
   "metadata": {
    "tags": []
   },
   "source": [
    "<h3 style = 'text-align: left;  color:magenta; font-family: courier prime; font-size:16pt;'> PEN Emission Spectrum </h3>"
   ]
  },
  {
   "cell_type": "code",
   "execution_count": 8,
   "id": "8eadc5ee-9dfb-4df1-b4c0-fcbd88b9ad1e",
   "metadata": {},
   "outputs": [],
   "source": [
    "# r_PEN = r'D:\\D Downloads\\Current_work\\pen-tess.txt'\n",
    "r_PEN = path.join(project_dir, 'Data', 'pen-tess.txt')\n",
    "emission_spectrum_PEN = pd.read_csv(r_PEN, sep ='\\t')\n",
    "\n",
    "E_PEN = emission_spectrum_PEN.drop(['a','b','c'], axis=1)\n",
    "\n",
    "# E_PEN\n",
    "\n",
    "# normalize : divide by maximum value\n",
    "E_PEN['efficiency'] = E_PEN['efficiency']/max(E_PEN['efficiency'] ) \n",
    "\n",
    "# remove negative values\n",
    "E_PEN = E_PEN[E_PEN > 0].dropna()\n",
    "# E_PEN['efficiency']\n",
    "## What are the units of efficiency? Normalize PEN Spectrum ??\n",
    "## Remove negative values?\n",
    "## Need linear interpolation for everyuthing R, R_Wall, PDE and emission spectrum"
   ]
  },
  {
   "cell_type": "markdown",
   "id": "443053c7-0c88-4f9f-a2b7-b19f1f7460df",
   "metadata": {},
   "source": [
    "<h3 style = 'text-align: left;  color:magenta; font-family: courier prime; font-size:16pt;'> TPB Reflectance data \n",
    "</h3>"
   ]
  },
  {
   "cell_type": "code",
   "execution_count": 9,
   "id": "70849bd4-fcfd-44fb-9503-6167c61fa237",
   "metadata": {},
   "outputs": [],
   "source": [
    "TPB_photon_energy = [0.1, 2.067,2.175,2.214,2.255,2.340,2.385,2.431,2.436,2.531,2.583,2.638,2.696,2.725,2.756,2.787,2.818,2.884,2.918,2.952,2.988,3.024, 3.221,3.263, 8.0]\n",
    "TPB_reflectance = [98.936,98.936,99.180,99.309,99.375,99.392,99.534,99.490,99.491,99.685,99.635,99.593,99.541,99.457,99.380,99.374,99.196,98.924,98.521,97.653,95.581,92.569,13.0,3.0,3.0]\n",
    "\n",
    "photon_wavelength = []\n",
    "\n",
    "# TPB_reflectance = [reflectance*0.98/100 for reflectance in TPB_reflectance]\n",
    "TPB_reflectance = [reflectance*0.98*0.994/100 for reflectance in TPB_reflectance]\n",
    "\n",
    "### Reflectance is multiplied by 0.98 and 0.994 for calibration purpose:\n",
    "    ### 1. 0.98 is the reflectance of Basrium Sulphate used as the standard in photo spectrometer\n",
    "    ### 2. The second factor is specific to 2PAC. 0.994 is the coverage fraction of Wavelength Shifting material (a small surface coverage is lost to holes, bolts etc in 2PAC)\n",
    "### The calculation is very senstitive to Reflectance\n",
    "\n",
    "for energy_value in TPB_photon_energy:\n",
    "    wavelength_value = 1239.847/energy_value\n",
    "    photon_wavelength.append(wavelength_value)\n",
    "\n",
    "frame = {'photon_wavelength': photon_wavelength,\n",
    "        'TPB_reflectance': TPB_reflectance}\n",
    "\n",
    "R_Wall_TPB = pd.DataFrame(frame)\n",
    "\n",
    "## reverse the order of wavelength smaller to bigger\n",
    "R_Wall_TPB = R_Wall_TPB.iloc[::-1]\n",
    "\n",
    "# R_Wall_TPB"
   ]
  },
  {
   "cell_type": "markdown",
   "id": "8617968f-c314-4fff-baed-f404c1dc8a40",
   "metadata": {},
   "source": [
    "<h3 style = 'text-align: left;  color:magenta; font-family: courier prime; font-size:16pt'> TPB Emission Spectrum </h3>"
   ]
  },
  {
   "cell_type": "code",
   "execution_count": 10,
   "id": "c0a80fa2-6408-4139-a518-02fff193aa25",
   "metadata": {},
   "outputs": [],
   "source": [
    "#### why do we have negative values?\n",
    "#### Might need to clean data\n",
    "## drop negative values\n",
    "## normalize efficiency\n",
    "\n",
    "# r_TPB = r'D:\\D Downloads\\Current_work\\tpb-fran.txt'\n",
    "r_TPB = path.join(project_dir, 'Data','tpb-fran.txt')\n",
    "emission_spectrum_TPB = pd.read_csv(r_TPB, sep ='\\t')\n",
    "\n",
    "E_TPB = emission_spectrum_TPB.drop(['a','b','c','d'], axis=1)\n",
    "# E_TPB"
   ]
  },
  {
   "cell_type": "markdown",
   "id": "d9437b4b-4f49-4608-935b-b820169daa34",
   "metadata": {},
   "source": [
    "<p style = 'color:slate'> Click here to see a warning </p>\n",
    "<!-- Warning: TPB data has negative values -->"
   ]
  },
  {
   "cell_type": "code",
   "execution_count": 11,
   "id": "cc7511e9-4201-45d8-864a-804b8dca38ac",
   "metadata": {},
   "outputs": [],
   "source": [
    "# normalize : divide by maximum value\n",
    "E_TPB['efficiency'] = E_TPB['efficiency']/max(E_TPB['efficiency'] ) \n",
    "# remove negative values\n",
    "E_TPB = E_TPB[E_TPB > 0].dropna()\n",
    "\n",
    "# E_TPB\n"
   ]
  },
  {
   "cell_type": "markdown",
   "id": "9144a4d8-d496-4bbc-a1df-4f10ea40d51a",
   "metadata": {
    "tags": []
   },
   "source": [
    "<h3 style = 'color:deeppink'> Smoothing function </h3>"
   ]
  },
  {
   "cell_type": "code",
   "execution_count": 12,
   "id": "7055ffb6-b807-42f6-8bf3-9ba9b5cead99",
   "metadata": {},
   "outputs": [],
   "source": [
    "### variable name 'photon_wavelegnth' is NOT hard coded for all the data frames.\n",
    "def make_smooth(data_frame_var):\n",
    "    name_column_0 = data_frame_var.columns[0]\n",
    "    name_column_1 = data_frame_var.columns[1]\n",
    "    \n",
    "    photon_wavelength = data_frame_var[name_column_0]\n",
    "    physical_quantity = data_frame_var[name_column_1]\n",
    "    \n",
    "    interpol_func = interp1d(photon_wavelength , physical_quantity)\n",
    "    return  interpol_func(wavelength_vector)"
   ]
  },
  {
   "cell_type": "markdown",
   "id": "d91dffe9-1c55-41e2-9bc2-15461824aa5c",
   "metadata": {},
   "source": [
    "<h3> \n",
    "✏ <b style = \"font-size:18pt; font-family: courier prime; color: #7bc5ef;\"> Define Wavelength range </b>\n",
    "\n",
    "</h3>\n",
    "<br>\n",
    "<p style = 'color:silver'>\n",
    "    wavelength_vector is common throughout the notebook.\n",
    "</p>"
   ]
  },
  {
   "cell_type": "code",
   "execution_count": 13,
   "id": "575f7db5-61fe-43ed-94de-5f2667b195e6",
   "metadata": {},
   "outputs": [],
   "source": [
    "wavelength_vector = np.arange(366, 560, 0.5)  ### do we want to hard code wavelength range?"
   ]
  },
  {
   "cell_type": "code",
   "execution_count": 14,
   "id": "e6aae949-ed45-4a3c-ad72-cc148c472784",
   "metadata": {},
   "outputs": [],
   "source": [
    "### call smoothing functions here\n",
    "R_SiPM_smooth = make_smooth(R_SiPM)\n",
    "\n",
    "R_Wall_PEN_smooth = make_smooth(R_Wall_PEN)\n",
    "\n",
    "R_Wall_TPB_smooth = make_smooth(R_Wall_TPB)\n",
    "\n",
    "PDE_smooth = make_smooth(PDE)\n",
    "\n",
    "E_PEN_smooth = make_smooth(E_PEN)\n",
    "\n",
    "E_TPB_smooth = make_smooth(E_TPB)   "
   ]
  },
  {
   "cell_type": "markdown",
   "id": "9fe9ed49-e22e-49de-a3f2-543b73038b13",
   "metadata": {},
   "source": [
    "<h2 style= 'text-align: center;'>\n",
    "    <span style  = 'color: gold'> Wavelength integrated LY with Absorbtion and Rayleigh Scattering effects</span>\n",
    "</h2>"
   ]
  },
  {
   "cell_type": "markdown",
   "id": "633872ce-b0dc-4206-b79d-f341d57ecde0",
   "metadata": {},
   "source": [
    "<h3 style = 'color: DeepPink '> calculating $Q$ factor\n",
    "</h3>"
   ]
  },
  {
   "cell_type": "code",
   "execution_count": 15,
   "id": "96483bbf-d4b3-4563-85b5-df020936e508",
   "metadata": {},
   "outputs": [],
   "source": [
    "from sympy import Symbol, exp, integrate\n",
    "\n",
    "x = Symbol('x')\n",
    "\n",
    "## L_char is basically what L tilde is in segreto paper\n",
    "\n",
    "## lambda_eff is basically lambda tilde in segreto paper\n",
    "\n",
    "def calc_lambda_eff(lambda_abs, lambda_R):\n",
    "    ''' Calculates effective lambda for Rayleigh scattering and Absorption.\n",
    "    Haven't decided on unit of length: cm or m?\n",
    "    '''\n",
    "    return (lambda_R*lambda_abs)/(lambda_R + lambda_abs)\n",
    "\n",
    "def P_func(L_char, lambda_eff):\n",
    "    ''' \n",
    "    P_func: P(x) is the probability distribution of the distances that a photon would travel in absence of interactions (between two reflections or between a reflection and absorption/detection).\n",
    "    The P_func can be changed later if it is felt that we need a different probability distribution function. \n",
    "    '''\n",
    "    return 1/(L_char)\n",
    "\n",
    "def calc_URA(L_char, lambda_eff, Prob_distr):\n",
    "    return integrate( Prob_distr*exp(-x/lambda_eff), (x, 0, L_char))\n",
    "\n",
    "def calc_Q( L_char,  lambda_abs, lambda_R):\n",
    "    ''' \n",
    "    This function is used to compute Q factor for both visible and VUV photons.\n",
    "    Note:\n",
    "    We'll call calc_URA since URA is wavelength dependent. We'll also make a call to P_func so for the same reason.\n",
    "    '''\n",
    "    lambda_eff = calc_lambda_eff(lambda_abs, lambda_R)\n",
    "    \n",
    "    Pdf = P_func(L_char, lambda_eff); # Probability distribution function\n",
    "    \n",
    "    URA_value = float(calc_URA(L_char, lambda_eff, Pdf));\n",
    "    \n",
    "    return (1-(1-URA_value)*lambda_eff/lambda_R)/(URA_value)"
   ]
  },
  {
   "cell_type": "markdown",
   "id": "d4737a63-e637-462b-8b7d-9a5308a5c617",
   "metadata": {},
   "source": [
    "<p style = 'color:lime; font-size:14pt'>\n",
    "$$ L\\_char = 6\\times \\frac{volome}{surface\\_area}\n",
    "$$\n",
    "</p>"
   ]
  },
  {
   "cell_type": "markdown",
   "id": "99750514-fea3-421c-8f89-b8f89029b421",
   "metadata": {},
   "source": [
    "<h3 style = 'color:DeepPink;'>  Calculating $F $\n",
    "</h3>"
   ]
  },
  {
   "cell_type": "markdown",
   "id": "68f3a8ab-c9d3-4894-aaba-a9c8209de60c",
   "metadata": {},
   "source": [
    "<span style = 'color : lime;'>\n",
    "\n",
    "$$ F( Q, f_{sen}FF_{sys}(1-R), f_{sen}R + (1-f_{sen} )R_{wall} ) = \\frac{f_{sen}FF_{sys}(1-\\color{Red}R)}{\\color{Red}Q-( f_{sen}\\color{Red}R + (1-f_{sen})\\color{Red}{R_{wall}} )} $$\n",
    "\n",
    "</span>\n",
    "\n",
    "<span style = 'color : lime;'>\n",
    "\n",
    "$$ F(Q,X, s + w) = \\frac{X}{Q-(s+w)} $$\n",
    "\n",
    "</span>"
   ]
  },
  {
   "cell_type": "code",
   "execution_count": 16,
   "id": "95d986f6-d7c7-4279-8808-f1fc21067970",
   "metadata": {},
   "outputs": [],
   "source": [
    "def calc_F(R, R_wall, f_sen, FF_sys, Q_value):    \n",
    "    '''\n",
    "    R, R_wall are all wavelength dependent. Q_value is provided as an argument.\n",
    "    '''\n",
    "    return (f_sen*FF_sys*(1-R))/(Q_value - (f_sen*R + (1-f_sen)*R_wall) )"
   ]
  },
  {
   "cell_type": "markdown",
   "id": "cb3a83de-53a5-4932-b6f1-0c87dc1626df",
   "metadata": {},
   "source": [
    "<h3 style = 'color: DeepPink '> Calculating Light Collection Efficiency, $LCE$\n",
    "</h3>\n",
    "\n",
    "<br>\n",
    "<span style = 'color:lime; font-size:12pt;'> \n",
    "    $$\n",
    "    LCE = \\frac{(1-f_{sen})*\\epsilon_{wls}*\\color{Red}{F(Q_{vis}, X, s+w)}}{Q_{VUV}}\n",
    "    $$\n",
    "</span>\n",
    "<br>"
   ]
  },
  {
   "cell_type": "code",
   "execution_count": 17,
   "id": "c971e117-28d6-423b-ac09-3c5057dc24ae",
   "metadata": {},
   "outputs": [],
   "source": [
    "def calc_LCE(R, R_wall, f_sen, FF_sys, wls_eff, Q_vuv=1, Q_vis=1):\n",
    "    ''' calc_LCE requires Q_vis and Q_vuv values as arguments. Both are set at default value of 1.\n",
    "    Though Absorption and Rayleigh scattering lengths will be dependent on wavelength,\n",
    "    currently we don't have accurate meansurements of these values for different wavelengths.\n",
    "    Hence we will be using an average value for entire visible spectrum and another value for VUV (remember VUV photon has a single wavelength).\n",
    "    In case accurate values of absorption and scattering lengths become available I will need to modify the Q_vis accordingly.\n",
    "    Side note: Q_vis and Q_vuv are computed in the scope of function integrate_LY.\n",
    "    '''\n",
    "    return ((1-f_sen)*wls_eff*calc_F(R, R_wall, f_sen, FF_sys, Q_vis))/(Q_vuv)"
   ]
  },
  {
   "cell_type": "markdown",
   "id": "225240d3-49ef-4e71-87b6-8d94cd776522",
   "metadata": {},
   "source": [
    "<h3 style = 'color: DeepPink; text-align:center; font-size:24pt; '> 🍕 integrate Light Yield\n",
    "</h3>\n",
    "<!-- <p>\n",
    "Previously known as Weighted Average of Light Yield \n",
    "</p> -->\n",
    "\n",
    "<!-- <p> \n",
    "<span style = 'color : #5EA9E5;'> \n",
    "<br>\n",
    "% $$\n",
    "% integrate\\_LY = \\frac{\\sum( [LY\\_value(\\color{red}{PDE(\\lambda)}, f_{sen}, FF_{sys}, \\color{red}{R(\\lambda)}, \\color{red}{R_{wall}(\\lambda)}, \\color{red}{Q(\\lambda)}, \\epsilon_{wls} ) ] * \\color{red}{E_{wls}(\\lambda)})}{\\sum \\color{red}{E_{wls}(\\lambda)}}\n",
    "% $$\n",
    "</span>\n",
    "<br>\n",
    "<br>\n",
    "<br>\n",
    "</p> -->\n",
    "\n",
    "<p> \n",
    "<span style = 'color : lime; font-size:14pt;'> \n",
    "<br>\n",
    "<br>\n",
    "$$\n",
    "integrate\\_LY = \\frac{SY* \\sum( [calc\\_LCE(f_{sen}, FF_{sys}, \\color{red}{R(\\lambda)}, \\color{red}{R_{wall}(\\lambda)}, \\color{red}{Q(\\lambda)}, \\epsilon_{wls}) ] * [ \\color{red}{PDE(\\lambda)} ] * [ \\color{red}{E_{wls}(\\lambda)} ] ) } {\\sum \\color{red}{E_{wls}(\\lambda)}}\n",
    "$$\n",
    "</span>\n",
    "<br>\n",
    "<br>\n",
    "<span style= ' font-size:14pt; text-align: left; color:white;'>\n",
    "PS: Red --> wavelength dependent\n",
    "<br>\n",
    "    $E_{wls}$ is the emission spectrum of wavelength shifter.\n",
    "<br>\n",
    "    $\\epsilon_{wls}$ is the wavelength shifting efficiency. See variable wls_eff\n",
    "</span>\n",
    "</p>"
   ]
  },
  {
   "cell_type": "code",
   "execution_count": 18,
   "id": "d0b8e1c9-8237-4208-b6c5-bde31f445102",
   "metadata": {},
   "outputs": [],
   "source": [
    "# def integrate_LY(wavelength_range, WLS_emission_spectrum, PDE_smooth, R, R_wall, f_sen, FF_sys, SY=40): \n",
    "### think of a way so that we don't have to specify wavelength_vector from outside\n",
    "def integrate_LY(wavelength_vector, WLS_emission_spectrum, PDE_smooth, R, R_wall, f_sen, FF_sys, wls_eff = 1.0, SY=40):\n",
    "    '''\n",
    "    wavelength_vector is defined outside this function. \n",
    "    𝜖_𝑤𝑙𝑠 represents the wavelength shifting efficiency of the WaveLength Shifter assigned to variable wls_eff.\n",
    "    '''\n",
    "    # wavelength_vector = np.arange(wavelength_range[0], wavelength_range[1], wavelength_range[2])\n",
    "    # wls_eff = 1.0\n",
    "    \n",
    "    numerator_value = 0 ;\n",
    "    denominator_value = 0 ;\n",
    "    \n",
    "    ### lambda R and abs values provided by Marcin\n",
    "    # Q_vis = calc_Q(L_char=1, lambda_abs=100, lambda_R=300) \n",
    "    # Q_vuv = calc_Q(L_char=1, lambda_abs=17, lambda_R=0.97)\n",
    "    ### in case where we use average values of lambda_abs & lambda_R for entire visible range\n",
    "    \n",
    "    # default values when we are ignoting Absorption and Rayleigh scattering effect\n",
    "    Q_vuv = 1; \n",
    "    Q_vis = 1;\n",
    "    \n",
    "    for wavelength_index in range(len(wavelength_vector)):\n",
    "        numerator_value += calc_LCE(R[wavelength_index], R_wall[wavelength_index], f_sen, FF_sys, wls_eff, Q_vis, Q_vuv) * PDE_smooth[wavelength_index] * WLS_emission_spectrum[wavelength_index];\n",
    "    denominator_value = sum(WLS_emission_spectrum)\n",
    "    return SY*numerator_value/denominator_value"
   ]
  },
  {
   "cell_type": "markdown",
   "id": "6637ea92-518b-4c30-aaeb-d2a2058c8e5f",
   "metadata": {},
   "source": [
    "<h5 style = 'color: RED; font-size: 14pt'> Notes: </h5>\n",
    "<p> Everything has been confirmed till this point for default case where Q=1. </p>"
   ]
  },
  {
   "cell_type": "markdown",
   "id": "77ab124b-6a54-4411-8077-6aa64d36287c",
   "metadata": {},
   "source": [
    "<h2 style = 'color: #11EEAA; font-family: courier prime; font-size:28pt; text-align: center'> Application... </h2>\n",
    "<p style = 'color: orange'> we'll apply this model to different configuration of detectors and estimate their performance. \n",
    "<br>\n",
    "Perhaps we should start with Dark Side veto since Cenk has already worked on it so we'll have his monte carlo simulations to compare with.\n",
    "</p>"
   ]
  },
  {
   "cell_type": "code",
   "execution_count": 19,
   "id": "9869804d-8ff4-41f3-9cf9-5d92f75a3689",
   "metadata": {},
   "outputs": [
    {
     "data": {
      "text/plain": [
       "<matplotlib.collections.PolyCollection at 0x2a8e9a681f0>"
      ]
     },
     "execution_count": 19,
     "metadata": {},
     "output_type": "execute_result"
    },
    {
     "data": {
      "image/png": "[encoded data removed]",
      "text/plain": [
       "<Figure size 432x288 with 1 Axes>"
      ]
     },
     "metadata": {
      "needs_background": "light"
     },
     "output_type": "display_data"
    }
   ],
   "source": [
    "### To be implemented to darkside veto\n",
    "### find characteristic length for dark side veto \n",
    "f_sen_vector = np.arange(0, 0.1, 0.01)\n",
    "LY_PEN_upper = 0.472*integrate_LY(wavelength_vector, E_PEN_smooth, PDE_smooth, R_SiPM_smooth, R_Wall_PEN_smooth, f_sen_vector, 1)\n",
    "LY_PEN_lower = 0.472*integrate_LY(wavelength_vector, E_PEN_smooth, PDE_smooth, R_SiPM_smooth, R_Wall_PEN_smooth*0.988, f_sen_vector, 1)\n",
    "plt.fill_between( f_sen_vector, LY_PEN_lower,  LY_PEN_upper, color='blue', alpha=0.2, label='PEN' )\n",
    "\n",
    "LY_TPB_upper = integrate_LY(wavelength_vector, E_TPB_smooth, PDE_smooth, R_SiPM_smooth, R_Wall_TPB_smooth, f_sen_vector, 1)\n",
    "LY_TPB_lower = integrate_LY(wavelength_vector, E_TPB_smooth, PDE_smooth, R_SiPM_smooth, R_Wall_TPB_smooth*0.988, f_sen_vector, 1)\n",
    "plt.fill_between( f_sen_vector, LY_TPB_lower,  LY_TPB_upper, color='orange', alpha=0.2, label='TPB' )"
   ]
  },
  {
   "cell_type": "code",
   "execution_count": null,
   "id": "7ba1de39-2203-40e3-9844-f85ba4d6ea11",
   "metadata": {},
   "outputs": [],
   "source": []
  }
 ],
 "metadata": {
  "kernelspec": {
   "display_name": "Python 3 (ipykernel)",
   "language": "python",
   "name": "python3"
  },
  "language_info": {
   "codemirror_mode": {
    "name": "ipython",
    "version": 3
   },
   "file_extension": ".py",
   "mimetype": "text/x-python",
   "name": "python",
   "nbconvert_exporter": "python",
   "pygments_lexer": "ipython3",
   "version": "3.9.7"
  },
  "toc-autonumbering": false,
  "toc-showcode": false,
  "toc-showmarkdowntxt": false,
  "toc-showtags": false
 },
 "nbformat": 4,
 "nbformat_minor": 5
}
