{
 "cells": [
  {
   "cell_type": "code",
   "execution_count": 1,
   "id": "56df9769-c4dd-4cab-a249-7a725e7ec9b6",
   "metadata": {},
   "outputs": [
    {
     "data": {
      "text/html": [
       "<!--- html styling for Jupyter Dark Theme---!>\n",
       "<style>\n",
       ".CodeMirror-focused .CodeMirror-selected { background: none; }\n",
       ".CodeMirror-focused .CodeMirror-selectedtext { background: #FF0088; } \n",
       ".CodeMirror-selected { background:  grey; }\n",
       "</style>\n"
      ],
      "text/plain": [
       "<IPython.core.display.HTML object>"
      ]
     },
     "metadata": {},
     "output_type": "display_data"
    }
   ],
   "source": [
    "%%html\n",
    "<!--- html styling for Jupyter Dark Theme---!>\n",
    "<style>\n",
    ".CodeMirror-focused .CodeMirror-selected { background: none; }\n",
    ".CodeMirror-focused .CodeMirror-selectedtext { background: #FF0088; } \n",
    ".CodeMirror-selected { background:  grey; }\n",
    "</style>"
   ]
  },
  {
   "cell_type": "code",
   "execution_count": 2,
   "id": "162c0ff6-4c9a-4e82-bf55-cc8b7f76bb1f",
   "metadata": {},
   "outputs": [],
   "source": [
    "from os import path\n",
    "import numpy as np\n",
    "import matplotlib.pyplot as plt\n",
    "import pandas as pd\n",
    "import statistics\n",
    "import scipy\n",
    "from scipy.stats import norm\n",
    "from scipy.interpolate import interp1d"
   ]
  },
  {
   "cell_type": "code",
   "execution_count": 3,
   "id": "ca48d9eb-e981-46c4-8f78-42c331cd8cd2",
   "metadata": {},
   "outputs": [],
   "source": [
    "project_dir = r'C:\\Users\\sarth\\projects\\LY_Analytic_Model';"
   ]
  },
  {
   "cell_type": "code",
   "execution_count": 4,
   "id": "9e91bee7-3e33-4de9-a3af-6069ea4be07b",
   "metadata": {},
   "outputs": [],
   "source": [
    "R_SiPM_measured_df = pd.read_csv(path.join(project_dir, 'Data','sipm_hr1_processed.txt'), sep = '\\t')  ## 'Data' is the name of the folder containing Data files\n",
    "\n",
    "# R_SiPM_measured_df['R'] = [int(value)/100 for value in R_SiPM_measured_df['R']]\n",
    "\n",
    "R_SiPM_measured_df['R'] = R_SiPM_measured_df['R']/100"
   ]
  },
  {
   "cell_type": "code",
   "execution_count": 5,
   "id": "15809f85-663f-4707-ad51-4e191d32aba1",
   "metadata": {},
   "outputs": [],
   "source": [
    "# R_SiPM_measured_df['R']"
   ]
  },
  {
   "cell_type": "code",
   "execution_count": 6,
   "id": "56cbb9aa-611d-4aba-ad31-f9198a5e65cc",
   "metadata": {},
   "outputs": [
    {
     "data": {
      "text/html": [
       "<div>\n",
       "<style scoped>\n",
       "    .dataframe tbody tr th:only-of-type {\n",
       "        vertical-align: middle;\n",
       "    }\n",
       "\n",
       "    .dataframe tbody tr th {\n",
       "        vertical-align: top;\n",
       "    }\n",
       "\n",
       "    .dataframe thead th {\n",
       "        text-align: right;\n",
       "    }\n",
       "</style>\n",
       "<table border=\"1\" class=\"dataframe\">\n",
       "  <thead>\n",
       "    <tr style=\"text-align: right;\">\n",
       "      <th></th>\n",
       "      <th>Wavelength</th>\n",
       "      <th>00</th>\n",
       "      <th>05</th>\n",
       "      <th>10</th>\n",
       "      <th>15</th>\n",
       "      <th>20</th>\n",
       "      <th>25</th>\n",
       "      <th>30</th>\n",
       "      <th>35</th>\n",
       "      <th>40</th>\n",
       "      <th>45</th>\n",
       "      <th>50</th>\n",
       "      <th>55</th>\n",
       "      <th>60</th>\n",
       "      <th>65</th>\n",
       "      <th>70</th>\n",
       "      <th>75</th>\n",
       "      <th>80</th>\n",
       "      <th>85</th>\n",
       "      <th>90</th>\n",
       "    </tr>\n",
       "  </thead>\n",
       "  <tbody>\n",
       "    <tr>\n",
       "      <th>0</th>\n",
       "      <td>120</td>\n",
       "      <td>0.223771</td>\n",
       "      <td>0.223771</td>\n",
       "      <td>0.245110</td>\n",
       "      <td>0.336398</td>\n",
       "      <td>0.218952</td>\n",
       "      <td>0.315743</td>\n",
       "      <td>0.318393</td>\n",
       "      <td>0.307272</td>\n",
       "      <td>0.273077</td>\n",
       "      <td>0.162777</td>\n",
       "      <td>0.219174</td>\n",
       "      <td>0.198527</td>\n",
       "      <td>0.148674</td>\n",
       "      <td>0.211102</td>\n",
       "      <td>0.096036</td>\n",
       "      <td>0.172565</td>\n",
       "      <td>0.238515</td>\n",
       "      <td>0.245201</td>\n",
       "      <td>0.612497</td>\n",
       "    </tr>\n",
       "    <tr>\n",
       "      <th>1</th>\n",
       "      <td>121</td>\n",
       "      <td>0.322563</td>\n",
       "      <td>0.322563</td>\n",
       "      <td>0.339148</td>\n",
       "      <td>0.275397</td>\n",
       "      <td>0.274180</td>\n",
       "      <td>0.209582</td>\n",
       "      <td>0.248992</td>\n",
       "      <td>0.233693</td>\n",
       "      <td>0.171335</td>\n",
       "      <td>0.192117</td>\n",
       "      <td>0.249052</td>\n",
       "      <td>0.115087</td>\n",
       "      <td>0.213866</td>\n",
       "      <td>0.131923</td>\n",
       "      <td>0.138496</td>\n",
       "      <td>0.221669</td>\n",
       "      <td>0.274734</td>\n",
       "      <td>0.328203</td>\n",
       "      <td>0.624697</td>\n",
       "    </tr>\n",
       "    <tr>\n",
       "      <th>2</th>\n",
       "      <td>122</td>\n",
       "      <td>0.304593</td>\n",
       "      <td>0.304593</td>\n",
       "      <td>0.266666</td>\n",
       "      <td>0.218437</td>\n",
       "      <td>0.324811</td>\n",
       "      <td>0.254141</td>\n",
       "      <td>0.192690</td>\n",
       "      <td>0.179321</td>\n",
       "      <td>0.206848</td>\n",
       "      <td>0.261570</td>\n",
       "      <td>0.165466</td>\n",
       "      <td>0.163046</td>\n",
       "      <td>0.193637</td>\n",
       "      <td>0.089397</td>\n",
       "      <td>0.194755</td>\n",
       "      <td>0.234298</td>\n",
       "      <td>0.299509</td>\n",
       "      <td>0.365840</td>\n",
       "      <td>0.499060</td>\n",
       "    </tr>\n",
       "    <tr>\n",
       "      <th>3</th>\n",
       "      <td>123</td>\n",
       "      <td>0.211054</td>\n",
       "      <td>0.211054</td>\n",
       "      <td>0.221690</td>\n",
       "      <td>0.316602</td>\n",
       "      <td>0.222672</td>\n",
       "      <td>0.314748</td>\n",
       "      <td>0.284943</td>\n",
       "      <td>0.268388</td>\n",
       "      <td>0.273345</td>\n",
       "      <td>0.206532</td>\n",
       "      <td>0.123197</td>\n",
       "      <td>0.217140</td>\n",
       "      <td>0.107925</td>\n",
       "      <td>0.155315</td>\n",
       "      <td>0.198528</td>\n",
       "      <td>0.174245</td>\n",
       "      <td>0.227023</td>\n",
       "      <td>0.419057</td>\n",
       "      <td>0.482521</td>\n",
       "    </tr>\n",
       "    <tr>\n",
       "      <th>4</th>\n",
       "      <td>124</td>\n",
       "      <td>0.292870</td>\n",
       "      <td>0.292870</td>\n",
       "      <td>0.319177</td>\n",
       "      <td>0.288760</td>\n",
       "      <td>0.229471</td>\n",
       "      <td>0.222495</td>\n",
       "      <td>0.274199</td>\n",
       "      <td>0.264566</td>\n",
       "      <td>0.207083</td>\n",
       "      <td>0.127183</td>\n",
       "      <td>0.198032</td>\n",
       "      <td>0.174792</td>\n",
       "      <td>0.096439</td>\n",
       "      <td>0.187180</td>\n",
       "      <td>0.136681</td>\n",
       "      <td>0.088707</td>\n",
       "      <td>0.129157</td>\n",
       "      <td>0.377783</td>\n",
       "      <td>0.527782</td>\n",
       "    </tr>\n",
       "    <tr>\n",
       "      <th>...</th>\n",
       "      <td>...</td>\n",
       "      <td>...</td>\n",
       "      <td>...</td>\n",
       "      <td>...</td>\n",
       "      <td>...</td>\n",
       "      <td>...</td>\n",
       "      <td>...</td>\n",
       "      <td>...</td>\n",
       "      <td>...</td>\n",
       "      <td>...</td>\n",
       "      <td>...</td>\n",
       "      <td>...</td>\n",
       "      <td>...</td>\n",
       "      <td>...</td>\n",
       "      <td>...</td>\n",
       "      <td>...</td>\n",
       "      <td>...</td>\n",
       "      <td>...</td>\n",
       "      <td>...</td>\n",
       "      <td>...</td>\n",
       "    </tr>\n",
       "    <tr>\n",
       "      <th>876</th>\n",
       "      <td>996</td>\n",
       "      <td>0.082109</td>\n",
       "      <td>0.082109</td>\n",
       "      <td>0.082233</td>\n",
       "      <td>0.084682</td>\n",
       "      <td>0.095102</td>\n",
       "      <td>0.119341</td>\n",
       "      <td>0.155678</td>\n",
       "      <td>0.188851</td>\n",
       "      <td>0.196364</td>\n",
       "      <td>0.164986</td>\n",
       "      <td>0.110392</td>\n",
       "      <td>0.098160</td>\n",
       "      <td>0.169158</td>\n",
       "      <td>0.232005</td>\n",
       "      <td>0.245212</td>\n",
       "      <td>0.234650</td>\n",
       "      <td>0.195128</td>\n",
       "      <td>0.178491</td>\n",
       "      <td>0.404532</td>\n",
       "    </tr>\n",
       "    <tr>\n",
       "      <th>877</th>\n",
       "      <td>997</td>\n",
       "      <td>0.082112</td>\n",
       "      <td>0.082112</td>\n",
       "      <td>0.082369</td>\n",
       "      <td>0.085201</td>\n",
       "      <td>0.096162</td>\n",
       "      <td>0.120824</td>\n",
       "      <td>0.157091</td>\n",
       "      <td>0.189556</td>\n",
       "      <td>0.196005</td>\n",
       "      <td>0.163766</td>\n",
       "      <td>0.109349</td>\n",
       "      <td>0.098845</td>\n",
       "      <td>0.170501</td>\n",
       "      <td>0.232336</td>\n",
       "      <td>0.244811</td>\n",
       "      <td>0.233469</td>\n",
       "      <td>0.192613</td>\n",
       "      <td>0.177821</td>\n",
       "      <td>0.409205</td>\n",
       "    </tr>\n",
       "    <tr>\n",
       "      <th>878</th>\n",
       "      <td>998</td>\n",
       "      <td>0.082166</td>\n",
       "      <td>0.082166</td>\n",
       "      <td>0.082554</td>\n",
       "      <td>0.085765</td>\n",
       "      <td>0.097253</td>\n",
       "      <td>0.122316</td>\n",
       "      <td>0.158487</td>\n",
       "      <td>0.190230</td>\n",
       "      <td>0.195617</td>\n",
       "      <td>0.162536</td>\n",
       "      <td>0.108331</td>\n",
       "      <td>0.099563</td>\n",
       "      <td>0.171830</td>\n",
       "      <td>0.232651</td>\n",
       "      <td>0.244400</td>\n",
       "      <td>0.232266</td>\n",
       "      <td>0.190102</td>\n",
       "      <td>0.177322</td>\n",
       "      <td>0.413960</td>\n",
       "    </tr>\n",
       "    <tr>\n",
       "      <th>879</th>\n",
       "      <td>999</td>\n",
       "      <td>0.082269</td>\n",
       "      <td>0.082269</td>\n",
       "      <td>0.082788</td>\n",
       "      <td>0.086374</td>\n",
       "      <td>0.098376</td>\n",
       "      <td>0.123815</td>\n",
       "      <td>0.159865</td>\n",
       "      <td>0.190873</td>\n",
       "      <td>0.195202</td>\n",
       "      <td>0.161296</td>\n",
       "      <td>0.107338</td>\n",
       "      <td>0.100312</td>\n",
       "      <td>0.173145</td>\n",
       "      <td>0.232949</td>\n",
       "      <td>0.243980</td>\n",
       "      <td>0.231041</td>\n",
       "      <td>0.187595</td>\n",
       "      <td>0.176996</td>\n",
       "      <td>0.418785</td>\n",
       "    </tr>\n",
       "    <tr>\n",
       "      <th>880</th>\n",
       "      <td>1000</td>\n",
       "      <td>0.082421</td>\n",
       "      <td>0.082421</td>\n",
       "      <td>0.083070</td>\n",
       "      <td>0.087026</td>\n",
       "      <td>0.099529</td>\n",
       "      <td>0.125320</td>\n",
       "      <td>0.161224</td>\n",
       "      <td>0.191484</td>\n",
       "      <td>0.194758</td>\n",
       "      <td>0.160047</td>\n",
       "      <td>0.106372</td>\n",
       "      <td>0.101092</td>\n",
       "      <td>0.174445</td>\n",
       "      <td>0.233231</td>\n",
       "      <td>0.243549</td>\n",
       "      <td>0.229794</td>\n",
       "      <td>0.185098</td>\n",
       "      <td>0.176844</td>\n",
       "      <td>0.423665</td>\n",
       "    </tr>\n",
       "  </tbody>\n",
       "</table>\n",
       "<p>881 rows × 20 columns</p>\n",
       "</div>"
      ],
      "text/plain": [
       "     Wavelength        00        05        10        15        20        25  \\\n",
       "0           120  0.223771  0.223771  0.245110  0.336398  0.218952  0.315743   \n",
       "1           121  0.322563  0.322563  0.339148  0.275397  0.274180  0.209582   \n",
       "2           122  0.304593  0.304593  0.266666  0.218437  0.324811  0.254141   \n",
       "3           123  0.211054  0.211054  0.221690  0.316602  0.222672  0.314748   \n",
       "4           124  0.292870  0.292870  0.319177  0.288760  0.229471  0.222495   \n",
       "..          ...       ...       ...       ...       ...       ...       ...   \n",
       "876         996  0.082109  0.082109  0.082233  0.084682  0.095102  0.119341   \n",
       "877         997  0.082112  0.082112  0.082369  0.085201  0.096162  0.120824   \n",
       "878         998  0.082166  0.082166  0.082554  0.085765  0.097253  0.122316   \n",
       "879         999  0.082269  0.082269  0.082788  0.086374  0.098376  0.123815   \n",
       "880        1000  0.082421  0.082421  0.083070  0.087026  0.099529  0.125320   \n",
       "\n",
       "           30        35        40        45        50        55        60  \\\n",
       "0    0.318393  0.307272  0.273077  0.162777  0.219174  0.198527  0.148674   \n",
       "1    0.248992  0.233693  0.171335  0.192117  0.249052  0.115087  0.213866   \n",
       "2    0.192690  0.179321  0.206848  0.261570  0.165466  0.163046  0.193637   \n",
       "3    0.284943  0.268388  0.273345  0.206532  0.123197  0.217140  0.107925   \n",
       "4    0.274199  0.264566  0.207083  0.127183  0.198032  0.174792  0.096439   \n",
       "..        ...       ...       ...       ...       ...       ...       ...   \n",
       "876  0.155678  0.188851  0.196364  0.164986  0.110392  0.098160  0.169158   \n",
       "877  0.157091  0.189556  0.196005  0.163766  0.109349  0.098845  0.170501   \n",
       "878  0.158487  0.190230  0.195617  0.162536  0.108331  0.099563  0.171830   \n",
       "879  0.159865  0.190873  0.195202  0.161296  0.107338  0.100312  0.173145   \n",
       "880  0.161224  0.191484  0.194758  0.160047  0.106372  0.101092  0.174445   \n",
       "\n",
       "           65        70        75        80        85        90  \n",
       "0    0.211102  0.096036  0.172565  0.238515  0.245201  0.612497  \n",
       "1    0.131923  0.138496  0.221669  0.274734  0.328203  0.624697  \n",
       "2    0.089397  0.194755  0.234298  0.299509  0.365840  0.499060  \n",
       "3    0.155315  0.198528  0.174245  0.227023  0.419057  0.482521  \n",
       "4    0.187180  0.136681  0.088707  0.129157  0.377783  0.527782  \n",
       "..        ...       ...       ...       ...       ...       ...  \n",
       "876  0.232005  0.245212  0.234650  0.195128  0.178491  0.404532  \n",
       "877  0.232336  0.244811  0.233469  0.192613  0.177821  0.409205  \n",
       "878  0.232651  0.244400  0.232266  0.190102  0.177322  0.413960  \n",
       "879  0.232949  0.243980  0.231041  0.187595  0.176996  0.418785  \n",
       "880  0.233231  0.243549  0.229794  0.185098  0.176844  0.423665  \n",
       "\n",
       "[881 rows x 20 columns]"
      ]
     },
     "execution_count": 6,
     "metadata": {},
     "output_type": "execute_result"
    }
   ],
   "source": [
    "R_SiPM_alberto_df = pd.read_csv(path.join(project_dir, 'Data','aberto_data','all_data reflectance LAr_NUV-HD-Cryo.txt'), sep = '\\t') \n",
    "# R_SiPM_alberto_df['Wavelength']\n",
    "R_SiPM_alberto_df"
   ]
  },
  {
   "cell_type": "code",
   "execution_count": 7,
   "id": "2db6ee22-e8f3-4045-984e-854385e31197",
   "metadata": {},
   "outputs": [],
   "source": [
    "## 5 and 10 degrees and 5 nm slit "
   ]
  },
  {
   "cell_type": "code",
   "execution_count": 8,
   "id": "ee1b28e3-7437-4670-a305-b73413cd2d78",
   "metadata": {},
   "outputs": [
    {
     "data": {
      "text/plain": [
       "<matplotlib.legend.Legend at 0x1e0c734c730>"
      ]
     },
     "execution_count": 8,
     "metadata": {},
     "output_type": "execute_result"
    },
    {
     "data": {
      "image/png": "[encoded data removed]",
      "text/plain": [
       "<Figure size 432x288 with 1 Axes>"
      ]
     },
     "metadata": {},
     "output_type": "display_data"
    }
   ],
   "source": [
    "fig1 = plt.figure()\n",
    "ax1 = plt.axes()\n",
    "\n",
    "ax1.plot(R_SiPM_alberto_df['Wavelength'][0::10], ((R_SiPM_alberto_df['05'] + R_SiPM_alberto_df['10'])/2)[0::10], marker = '*', color = 'red', label = 'Alberto data' )\n",
    "ax1.plot(R_SiPM_measured_df['Wavelength'][::10], R_SiPM_measured_df['R'][::10], marker = '*', color = 'blue', label = 'Measurements')\n",
    "ax1.set_yscale('log')\n",
    "ax1.grid()\n",
    "fig1.set_facecolor('grey')\n",
    "ax1.set_title('Alberto vs measurement; No interpolation')\n",
    "ax1.legend()"
   ]
  },
  {
   "cell_type": "code",
   "execution_count": 9,
   "id": "d83372b0-6a93-4912-b2c9-59f2ad3c8bd9",
   "metadata": {},
   "outputs": [],
   "source": [
    "# import plotly.express as px\n",
    "# px.line(x = R_SiPM_alberto_df['Wavelength'], y = R_SiPM_alberto_df['05'])\n",
    "# px.line(x = R_SiPM_measured_df['Wavelength'], y = R_SiPM_measured_df['R'])"
   ]
  },
  {
   "cell_type": "markdown",
   "id": "3ab26613-6819-42a1-8283-8971f8fa4630",
   "metadata": {},
   "source": [
    "<h4 style = 'color: orange'> Interpolation </h4>"
   ]
  },
  {
   "cell_type": "code",
   "execution_count": 10,
   "id": "0fdd5bc5-f32a-403c-a692-65813fb74c84",
   "metadata": {},
   "outputs": [],
   "source": [
    "R_SiPM_alberto_7_5_degrees = (R_SiPM_alberto_df['05'] + R_SiPM_alberto_df['10'])/2\n",
    "\n",
    "R_SiPM_alberto_inter_func = interp1d(R_SiPM_alberto_df['Wavelength'], R_SiPM_alberto_7_5_degrees)\n",
    "R_SiPM_measured_inter_func = interp1d(R_SiPM_measured_df['Wavelength'], R_SiPM_measured_df['R'])\n",
    "\n",
    "R_SiPM_alberto_05_inter_func = interp1d(R_SiPM_alberto_df['Wavelength'], R_SiPM_alberto_df['05'])\n",
    "R_SiPM_alberto_10_inter_func = interp1d(R_SiPM_alberto_df['Wavelength'], R_SiPM_alberto_df['10'])"
   ]
  },
  {
   "cell_type": "code",
   "execution_count": 11,
   "id": "461c2e4f-eac5-44f5-a4d9-3a9fdc79ae98",
   "metadata": {},
   "outputs": [],
   "source": [
    "wavelength_vector = np.arange(240, 1000, 5)\n",
    "\n",
    "R_SiPM_alberto_smooth = R_SiPM_alberto_inter_func(wavelength_vector)\n",
    "R_SiPM_measured_smooth = R_SiPM_measured_inter_func(wavelength_vector)\n",
    "\n",
    "R_SiPM_alberto_05_smooth = R_SiPM_alberto_05_inter_func(wavelength_vector)\n",
    "R_SiPM_alberto_10_smooth = R_SiPM_alberto_10_inter_func(wavelength_vector)"
   ]
  },
  {
   "cell_type": "code",
   "execution_count": 12,
   "id": "dd476afa-56c2-48b8-8822-735a131122e8",
   "metadata": {},
   "outputs": [
    {
     "data": {
      "text/plain": [
       "<matplotlib.legend.Legend at 0x1e0c7c5c280>"
      ]
     },
     "execution_count": 12,
     "metadata": {},
     "output_type": "execute_result"
    },
    {
     "data": {
      "image/png": "[encoded data removed]",
      "text/plain": [
       "<Figure size 432x288 with 1 Axes>"
      ]
     },
     "metadata": {},
     "output_type": "display_data"
    }
   ],
   "source": [
    "# %matplotlib qt\n",
    "fig2 = plt.figure()\n",
    "ax2 = plt.axes()\n",
    "ax2.plot(wavelength_vector, R_SiPM_alberto_smooth, marker = '*', color = 'red', label = 'Alberto data' )\n",
    "ax2.plot(wavelength_vector, R_SiPM_measured_smooth, marker = '*', color = 'blue', label = 'Measurements' )\n",
    "ax2.set_yscale('log')\n",
    "fig2.set_facecolor('grey')\n",
    "ax2.set_title(' Alberto vs measurement ;interpolation on x axis for better comparison')\n",
    "ax2.set_xlabel('Wavelength in nm from 240 to 1000')\n",
    "ax2.set_ylabel('Reflectance in %')\n",
    "ax2.grid()\n",
    "ax2.legend()"
   ]
  },
  {
   "cell_type": "code",
   "execution_count": 13,
   "id": "0de9c4bf-45b6-4969-aae6-22f2403f11aa",
   "metadata": {},
   "outputs": [
    {
     "data": {
      "text/plain": [
       "0.8014973"
      ]
     },
     "execution_count": 13,
     "metadata": {},
     "output_type": "execute_result"
    }
   ],
   "source": [
    "max( R_SiPM_alberto_df['05'] )"
   ]
  },
  {
   "cell_type": "code",
   "execution_count": 14,
   "id": "ef9b39b6-8219-460a-aa9b-7805b8b67ab8",
   "metadata": {},
   "outputs": [
    {
     "data": {
      "text/plain": [
       "0.801386"
      ]
     },
     "execution_count": 14,
     "metadata": {},
     "output_type": "execute_result"
    }
   ],
   "source": [
    "max( R_SiPM_alberto_df['10'] )"
   ]
  },
  {
   "cell_type": "code",
   "execution_count": 15,
   "id": "ecf64863-569b-47a6-804d-2cefb2aa3edf",
   "metadata": {},
   "outputs": [
    {
     "data": {
      "text/plain": [
       "0.57404088"
      ]
     },
     "execution_count": 15,
     "metadata": {},
     "output_type": "execute_result"
    }
   ],
   "source": [
    "max( R_SiPM_measured_df['R'] )"
   ]
  },
  {
   "cell_type": "code",
   "execution_count": 16,
   "id": "133aa057-2c9d-4761-9e2f-62c6951e31bd",
   "metadata": {},
   "outputs": [],
   "source": [
    "## how remove effect of finite slit width specrtra? Astronomy may have some effect."
   ]
  },
  {
   "cell_type": "code",
   "execution_count": 17,
   "id": "cfe368a1-dce2-42a0-b5ed-8f113e410592",
   "metadata": {},
   "outputs": [],
   "source": [
    "### didn't work.\n",
    "\n",
    "# spectra_file = path.join(project_dir, 'Data', 'tpbesr_man_hr1.spc')\n",
    "\n",
    "# from pyspectra.readers.read_spc import read_spc\n",
    "\n",
    "# spc_data = read_spc(r'C:\\Users\\sarth\\projects\\LY_Analytic_Model\\Data\\tpbesr_man_hr1.spc')\n",
    "\n",
    "# spc_data"
   ]
  },
  {
   "cell_type": "markdown",
   "id": "08fe1daf-e811-43b0-acd6-2d3308faaaaf",
   "metadata": {},
   "source": [
    "<h4 style = 'color: orange;'>  Playing with convolution</h4>"
   ]
  },
  {
   "cell_type": "code",
   "execution_count": 18,
   "id": "ff84b4c4-752c-43da-abc9-db043b8b213c",
   "metadata": {},
   "outputs": [
    {
     "data": {
      "image/png": "[encoded data removed]",
      "text/plain": [
       "<Figure size 432x288 with 1 Axes>"
      ]
     },
     "metadata": {
      "needs_background": "light"
     },
     "output_type": "display_data"
    },
    {
     "name": "stdout",
     "output_type": "stream",
     "text": [
      "mean: 617 \n",
      " sd: 5\n"
     ]
    }
   ],
   "source": [
    "# plt.plot(np.convolve(sin_func, norm.pdf(x_axis, mean, sd)))\n",
    "# len( np.convolve(sin_func, norm.pdf(x_axis, mean, sd)) )\n",
    "\n",
    "%matplotlib inline\n",
    "\n",
    "x_axis = np.arange(240, 1000, 5)\n",
    "### Calculating mean and standard deviation\n",
    "mean = statistics.mean(x_axis)\n",
    "# sd = statistics.stdev(x_axis)\n",
    "sd = 5\n",
    "  \n",
    "# norm_distr = norm.pdf(x_axis, mean, sd) \n",
    "norm_distr = norm.pdf(x_axis, mean, sd) \n",
    "# norm_distr = norm.pdf(x_axis, mean, 50) \n",
    "plt.plot(x_axis, norm_distr )\n",
    "plt.show()\n",
    "\n",
    "print('mean:', mean, '\\n', 'sd:', sd)"
   ]
  },
  {
   "cell_type": "markdown",
   "id": "24e07d06-253c-4513-858f-b1acfb8e8177",
   "metadata": {},
   "source": [
    "<h4 style = \"color:orange\"> back to  comparison</h4>\n",
    "\n",
    "<p> new computations with convolution </p>"
   ]
  },
  {
   "cell_type": "code",
   "execution_count": 19,
   "id": "7c1a70ad-d5fb-4789-92d9-0fa4efab4579",
   "metadata": {},
   "outputs": [],
   "source": [
    "# R_SiPM_alberto_convolved = np.convolve( R_SiPM_alberto_smooth, norm_distr, 'same')\n",
    "\n",
    "# %matplotlib inline\n",
    "# # %matplotlib qt\n",
    "\n",
    "# fig3 = plt.figure()\n",
    "# ax3 = plt.axes()\n",
    "\n",
    "# ax3.plot(wavelength_vector, R_SiPM_alberto_convolved, marker = '*', color = 'lime', label = 'Alberto convolved' )\n",
    "# ax3.plot(wavelength_vector, R_SiPM_alberto_smooth, marker = '*', color = 'red', label = 'Alberto data' )\n",
    "# ax3.plot(wavelength_vector, R_SiPM_measured_smooth, marker = '*', color = 'blue', label = 'Measurements' )\n",
    "\n",
    "# ax3.plot(wavelength_vector, norm_distr, marker = '*', color = 'teal', label ='Normal distribution ')\n",
    "# ax3.set_yscale('log')\n",
    "# fig3.set_facecolor('grey')\n",
    "# ax3.set_title(' Alberto vs measurement ;interpolation on x axis for better comparison')\n",
    "# ax3.set_xlabel('Wavelength in nm from 240 to 1000')\n",
    "# ax3.set_ylabel('Reflectance in %')\n",
    "# ax3.grid()\n",
    "# ax3.legend()"
   ]
  },
  {
   "cell_type": "code",
   "execution_count": 20,
   "id": "d4b4d384-e095-4a9e-a676-fa0eb0337a23",
   "metadata": {},
   "outputs": [
    {
     "data": {
      "text/plain": [
       "<matplotlib.legend.Legend at 0x1e0c9a255e0>"
      ]
     },
     "execution_count": 20,
     "metadata": {},
     "output_type": "execute_result"
    }
   ],
   "source": [
    "### Normalization to achieve sum of all bins on y axis  = 1 (Marcin)\n",
    "R_SiPM_alberto_convolved = np.convolve( R_SiPM_alberto_smooth, norm_distr/sum(norm_distr), 'same')\n",
    "\n",
    "# %matplotlib inline\n",
    "%matplotlib qt\n",
    "\n",
    "fig3 = plt.figure()\n",
    "ax3 = plt.axes()\n",
    "\n",
    "ax3.scatter(wavelength_vector, R_SiPM_alberto_convolved, marker = '*', s = 70, color = 'lime', label = 'Alberto convolved' )\n",
    "ax3.plot(wavelength_vector, R_SiPM_alberto_smooth, color = 'red', label = 'Alberto data' )\n",
    "ax3.scatter(wavelength_vector, R_SiPM_measured_smooth, marker = 'v', color = 'blue', label = 'Measurements' )\n",
    "# ax3.scatter(x_axis, norm_distr/sum(norm_distr), color = 'teal', label ='Normal distribution ')\n",
    "ax3.set_yscale('log')\n",
    "fig3.set_facecolor('grey')\n",
    "ax3.set_title(' Alberto vs measurement ;interpolation on x axis for better comparison')\n",
    "ax3.set_xlabel('Wavelength in nm from 240 to 1000')\n",
    "ax3.set_ylabel('Reflectance in %')\n",
    "ax3.grid()\n",
    "\n",
    "props = dict(boxstyle='round', facecolor='wheat', alpha=0.5)\n",
    "txtstr = 'std = ' + str(sd)\n",
    "ax3.text(0.15, 0.95, txtstr, transform=ax3.transAxes, fontsize=14, verticalalignment='top', bbox=props)\n",
    "ax3.legend()"
   ]
  },
  {
   "cell_type": "code",
   "execution_count": 27,
   "id": "c95bcf0f-51a9-4e12-b41d-ab81410e424c",
   "metadata": {},
   "outputs": [
    {
     "data": {
      "text/plain": [
       "<matplotlib.legend.Legend at 0x1e0ca11feb0>"
      ]
     },
     "execution_count": 27,
     "metadata": {},
     "output_type": "execute_result"
    }
   ],
   "source": [
    "### over plotting reflectances for 5 and 10 degrees.\n",
    "\n",
    "# %matplotlib inline\n",
    "%matplotlib qt\n",
    "\n",
    "fig4 = plt.figure()\n",
    "ax4 = plt.axes()\n",
    "# ax4.scatter(R_SiPM_alberto_df['Wavelength'], R_SiPM_alberto_df['05'] , marker = 'o', facecolor = 'none', edgecolor = 'blue')\n",
    "# ax4.scatter(R_SiPM_alberto_df['Wavelength'], R_SiPM_alberto_df['10'] , marker = '*', facecolor = 'orange', edgecolor = 'none')\n",
    "# ax4.plot( wavelength_vector, R_SiPM_alberto_05_smooth )\n",
    "# ax4.plot( wavelength_vector, R_SiPM_alberto_10_smooth )\n",
    "\n",
    "R_SiPM_alberto_05_convolved = np.convolve( R_SiPM_alberto_05_smooth, norm_distr/sum(norm_distr), 'same')\n",
    "R_SiPM_alberto_10_convolved = np.convolve( R_SiPM_alberto_10_smooth, norm_distr/sum(norm_distr), 'same')\n",
    "\n",
    "ax4.scatter(wavelength_vector, R_SiPM_alberto_05_convolved, marker = '*', s = 70, color = 'lime', label = 'Alberto convolved 05' )\n",
    "ax4.scatter(wavelength_vector, R_SiPM_alberto_10_convolved, marker = '*', s = 70, color = 'yellow', label = 'Alberto convolved 10' )\n",
    "ax4.plot(wavelength_vector, R_SiPM_alberto_05_smooth, color = 'red', label = 'Alberto data 05 degrees' )\n",
    "ax4.plot(wavelength_vector, R_SiPM_alberto_10_smooth, color = '#00FFFF', label = 'Alberto data 10 degrees' )\n",
    "ax4.scatter(wavelength_vector, R_SiPM_measured_smooth, marker = 'v', color = 'blue', label = 'Measurements' )\n",
    "# ax4.scatter(x_axis, norm_distr/sum(norm_distr), color = 'teal', label ='Normal distribution ')\n",
    "ax4.set_yscale('log')\n",
    "fig4.set_facecolor('grey')\n",
    "ax4.set_title(' Alberto vs measurement ;interpolation on x axis for better comparison')\n",
    "ax4.set_xlabel('Wavelength in nm from 240 to 1000')\n",
    "ax4.set_ylabel('Reflectance in %')\n",
    "ax4.grid()\n",
    "# ax3.legend()\n",
    "props = dict(boxstyle='round', facecolor='wheat', alpha=0.5)\n",
    "txtstr = 'std = ' + str(sd)\n",
    "ax4.text(0.15, 0.95, txtstr, transform=ax4.transAxes, fontsize=14, verticalalignment='top', bbox=props)\n",
    "ax4.legend()"
   ]
  },
  {
   "cell_type": "code",
   "execution_count": null,
   "id": "8df8d539-d28c-4da0-85f6-1398197477de",
   "metadata": {},
   "outputs": [],
   "source": []
  }
 ],
 "metadata": {
  "kernelspec": {
   "display_name": "Python 3 (ipykernel)",
   "language": "python",
   "name": "python3"
  },
  "language_info": {
   "codemirror_mode": {
    "name": "ipython",
    "version": 3
   },
   "file_extension": ".py",
   "mimetype": "text/x-python",
   "name": "python",
   "nbconvert_exporter": "python",
   "pygments_lexer": "ipython3",
   "version": "3.9.7"
  }
 },
 "nbformat": 4,
 "nbformat_minor": 5
}
