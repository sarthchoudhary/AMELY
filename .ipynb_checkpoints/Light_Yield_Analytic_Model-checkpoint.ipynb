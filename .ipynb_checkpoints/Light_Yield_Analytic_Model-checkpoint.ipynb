{
 "cells": [
  {
   "cell_type": "markdown",
   "id": "f1821ac2-4d02-4de5-9c32-ab2b4a752a88",
   "metadata": {},
   "source": [
    "<h1 style=\"text-align: center;\">\n",
    "<span style= 'color : #f31567'> Analytic Model for Estimating Light Collection Efficiency </span>\n",
    " </h1>"
   ]
  },
  {
   "cell_type": "markdown",
   "id": "5e89d243-eb71-4331-bf04-abc27c64f7e6",
   "metadata": {},
   "source": [
    "$$\n",
    "LCE = \\frac{X}{1-(s+w)} \n",
    "$$\n",
    "<br>\n",
    "$$ LCE = \\frac{f_{sen}FF_{sys}(1-R)}{1-( f_{sen}R + (1-f_{sen})R_{wall} )} $$\n",
    "<br>\n",
    "\n",
    "<p style= \"text-align: center;\">\n",
    "<br>\n",
    "<span style = 'color:tomato'> \n",
    "    Relevant Documentation: \n",
    "<a href=\"https://www.overleaf.com/read/vpkvkgpfqwst\">https://www.overleaf.com/read/vpkvkgpfqwst</a>\n",
    "</span>\n",
    "</p>"
   ]
  },
  {
   "cell_type": "markdown",
   "id": "58c8c1e4-c351-40fa-af50-3817bbb2bd58",
   "metadata": {},
   "source": [
    "<p style = 'text-align: center; font-size:22px; color: lightyellow' > \n",
    "    Notes:\n",
    "    <br>\n",
    "Light Yield =  Scintillation Yield * Light Collection Efficiency * PDE\n",
    "    <br>\n",
    "Scintillation Yield = 40 photons/keV (fixed for Liquid Argon)\n",
    "    <br>\n",
    "    <span style = 'color: yellow'> Important : </span>  In this notebook we are refering to Light Collection Efficiency convolved with PDE as Light Yield. To get actual Light Yield (as implemented for plotting) we multiply by Scintillation Yield.\n",
    "    </p>"
   ]
  },
  {
   "cell_type": "code",
   "execution_count": 1,
   "id": "83dd240a-a428-41f6-befa-45c884b23219",
   "metadata": {},
   "outputs": [],
   "source": [
    "###\n",
    "Notes:\n",
    "## LY is light collection multiplied by Scintillation yield and PDE\n",
    "## I am referring to Ligth Collection convolved with PDE as Light Yield in this document\n",
    "\n",
    "## define a funtion to calculate light yield from the parameters\n",
    "## wavelengths in nm throughout this notebook\n",
    "## reflectivity represented as a decimal\n",
    "\n",
    "# %matplotlib qt\n",
    "# %matplotlib inline"
   ]
  },
  {
   "cell_type": "markdown",
   "id": "18355cab-87a3-4661-80da-38a09e7d75b3",
   "metadata": {},
   "source": [
    "<h2 style = 'color: skyblue; font-size:32px; text-align: center'> import libraries\n",
    "    </h2>"
   ]
  },
  {
   "cell_type": "code",
   "execution_count": 1,
   "id": "a6413b05-2601-4a18-a600-7feccb8ec782",
   "metadata": {},
   "outputs": [],
   "source": [
    "from os import path\n",
    "import matplotlib.pyplot as plt\n",
    "import pandas as pd\n",
    "import numpy as np\n",
    "\n",
    "# %matplotlib qt"
   ]
  },
  {
   "cell_type": "markdown",
   "id": "c0b2e17f-b5ef-47ce-ae12-76f49f76abde",
   "metadata": {},
   "source": [
    "<h2 style = 'color: skyblue; font-size: 32px; text-align: left'> Define function to calculate Light Yield </h2>"
   ]
  },
  {
   "cell_type": "code",
   "execution_count": 1,
   "id": "c01d1716-1705-400a-a45a-20873892e711",
   "metadata": {},
   "outputs": [],
   "source": [
    "def calc_LY(PDE, f_sen, FF_sys, R, R_wall):\n",
    "\n",
    "    s = f_sen*(R)\n",
    "    w = (1-f_sen)*R_wall\n",
    "    X = f_sen*FF_sys*(1-R)\n",
    "    LY = PDE*X/(1-(s+w))\n",
    "    return LY\n",
    "# LY1 = calc_LY()\n",
    "# print('LY1: ', LY1)"
   ]
  },
  {
   "cell_type": "code",
   "execution_count": 2,
   "id": "2e95f705-b41a-485c-bef1-cc4278e23ab3",
   "metadata": {},
   "outputs": [
    {
     "data": {
      "text/plain": [
       "0.09592397260273972"
      ]
     },
     "execution_count": 2,
     "metadata": {},
     "output_type": "execute_result"
    }
   ],
   "source": [
    "calc_LY(0.18*1.4, 0.3, 0.95, 0.22, 0.5)"
   ]
  },
  {
   "cell_type": "code",
   "execution_count": 3,
   "id": "44fb2d9e-aced-49a8-aac0-ff18382a8757",
   "metadata": {},
   "outputs": [
    {
     "data": {
      "text/plain": [
       "0.07886118598382753"
      ]
     },
     "execution_count": 3,
     "metadata": {},
     "output_type": "execute_result"
    }
   ],
   "source": [
    "# for 2PAC configuration\n",
    "# PDE = 0.47\n",
    "# f_sen = 0.012\n",
    "# FF_sys = 1\n",
    "# R = 0.17\n",
    "# R_wall = 0.95\n",
    "calc_LY(0.47, 0.012, 1, 0.17, 0.95)"
   ]
  },
  {
   "cell_type": "code",
   "execution_count": 4,
   "id": "1bc5ada9-107f-452b-bbc0-d36ad73fe3e7",
   "metadata": {},
   "outputs": [
    {
     "data": {
      "text/plain": [
       "Text(0, 0.5, 'LC')"
      ]
     },
     "execution_count": 4,
     "metadata": {},
     "output_type": "execute_result"
    },
    {
     "data": {
      "image/png": "[encoded data removed]",
      "text/plain": [
       "<Figure size 432x288 with 1 Axes>"
      ]
     },
     "metadata": {
      "needs_background": "light"
     },
     "output_type": "display_data"
    }
   ],
   "source": [
    "# Plots \n",
    "# LY on Y-axis \n",
    "# one of the parameters on the x-axis\n",
    "\n",
    "f_sen_vector = np.arange(0.01, 0.1, 0.01)\n",
    "plt.figure('f_sen vs LC')\n",
    "plt.plot(f_sen_vector, calc_LY(0.47, f_sen_vector, 1, 0.17, 0.95), '-og')\n",
    "plt.xlabel('f_sen', size=14, weight = 'bold')\n",
    "plt.ylabel('LC', size=14, weight = 'bold')\n",
    "# plt.title('f_sen vs LC')"
   ]
  },
  {
   "cell_type": "code",
   "execution_count": 5,
   "id": "7e9aff14-af44-4e88-8146-aa2778128d42",
   "metadata": {},
   "outputs": [
    {
     "data": {
      "text/plain": [
       "Text(0.5, 1.0, 'R_Wall vs LC')"
      ]
     },
     "execution_count": 5,
     "metadata": {},
     "output_type": "execute_result"
    },
    {
     "data": {
      "image/png": "[encoded data removed]",
      "text/plain": [
       "<Figure size 432x288 with 1 Axes>"
      ]
     },
     "metadata": {
      "needs_background": "light"
     },
     "output_type": "display_data"
    }
   ],
   "source": [
    "R_wall_vector = np.arange(0.9, 1.0, 0.01)\n",
    "plt.figure(2)\n",
    "plt.plot(R_wall_vector, calc_LY(0.47,0.012, 1, 0.17, R_wall_vector), '-*r')\n",
    "plt.xlabel('R_wall', size=14, weight = 'bold')\n",
    "plt.ylabel('LC', size =14, weight = 'bold')\n",
    "plt.title('R_Wall vs LC', size =14, weight = 'bold' )"
   ]
  },
  {
   "cell_type": "code",
   "execution_count": 6,
   "id": "0e86e310-002b-400c-b445-40adbc75899f",
   "metadata": {},
   "outputs": [
    {
     "data": {
      "text/plain": [
       "Text(0.5, 1.0, 'R vs LC')"
      ]
     },
     "execution_count": 6,
     "metadata": {},
     "output_type": "execute_result"
    },
    {
     "data": {
      "image/png": "[encoded data removed]",
      "text/plain": [
       "<Figure size 432x288 with 1 Axes>"
      ]
     },
     "metadata": {
      "needs_background": "light"
     },
     "output_type": "display_data"
    }
   ],
   "source": [
    "R = np.arange(0.15, 0.3, 0.01)\n",
    "plt.figure(3)\n",
    "plt.plot(R, calc_LY(0.47,0.012, 1, R, 0.95), '-^b')\n",
    "plt.xlabel('R', size= 14, weight = 'bold')\n",
    "plt.ylabel('LC', size= 14, weight = 'bold')\n",
    "plt.title('R vs LC')"
   ]
  },
  {
   "cell_type": "code",
   "execution_count": 7,
   "id": "847d06f9-afb4-4e3a-9899-9bcecd009d36",
   "metadata": {},
   "outputs": [],
   "source": [
    "# # different values of f_sen and R_wall simultaneously\n",
    "# LY_vector =[]\n",
    "# for value_f_sen in f_sen_vector:\n",
    "#     for value_R_wall in R_wall_vector:\n",
    "#         LY_vector.append(calc_LY(0.47, value_f_sen, 1, 0.17, value_R_wall))\n",
    "# plt.plot(LY_vector, label = 'Values')\n",
    "# plt.legend()\n",
    "# plt.xlabel('index')\n",
    "# plt.ylabel('LY')"
   ]
  },
  {
   "cell_type": "code",
   "execution_count": 8,
   "id": "5bf66cb0-986d-48f3-a2e0-b078bab95eb1",
   "metadata": {},
   "outputs": [],
   "source": [
    "# implement wavelength dependence\n",
    "# Generated photon --> 128 nm\n",
    "# WLS --> gives a spectrum (Emission Spectra)\n",
    "# R, R_wall and PDE will become wavelength dependent\n",
    "# R_wall is taken to be the reflectivity of WLS alone (for the time being)\n",
    "# What about secondary affects of WLS --> does visible light interacting with WLS also get wavlength shifted?\n",
    "# Wavelength range?\n",
    "# Treat all wavelengths independently\n",
    "# Compute the wavelength dependent LY for entire wavelength range\n",
    "# integrate and normalize LY for the entire wavelength range\n",
    "# compute and compare PEN and TPB performances\n",
    "# emission spectrum --> wavelength dependent reflectivities --> wavelength dependent PDE "
   ]
  },
  {
   "cell_type": "code",
   "execution_count": 9,
   "id": "4e3cd179-33ed-4e04-9842-e7039de3c9ff",
   "metadata": {},
   "outputs": [],
   "source": [
    "### fixed values for FF_sys and f_sen\n",
    "# in case of 2PAC\n",
    "# PDE = 0.47\n",
    "# f_sen = 0.012\n",
    "# FF_sys = 1\n",
    "# R = 0.17\n",
    "# R_wall = 0.95\n",
    "FF_sys = 1\n",
    "f_sen = 0.012"
   ]
  },
  {
   "cell_type": "code",
   "execution_count": 10,
   "id": "c2475c0d-a371-4926-a7b0-3ffd25dd1e65",
   "metadata": {},
   "outputs": [],
   "source": [
    "### Vectors\n",
    "# wavelength_vector\n",
    "# E(lambda)\n",
    "# R\n",
    "# R_wall_PEN\n",
    "# R_wall_TPB\n",
    "# PDE"
   ]
  },
  {
   "cell_type": "markdown",
   "id": "3da01cd7-8c37-490a-acd5-21b4d56a95e2",
   "metadata": {},
   "source": [
    "<h2 style = 'text-align:center'>\n",
    "    <span style = 'color: Orange '> Integration over the relevant Wavelength range </span>\n",
    "</h2>"
   ]
  },
  {
   "cell_type": "markdown",
   "id": "33d65745-21ce-46da-959d-85f2b41d3e28",
   "metadata": {},
   "source": [
    "<p> \n",
    "    <span style = 'color: #66AAEE; font-size: 18pt'>To Load Data : </span>\n",
    "    <br>\n",
    "    Give location of project directory defined by variable project_dir.\n",
    "    <br>\n",
    "    inside project directory, folder named Data contains all the relavant data files\n",
    "</p>"
   ]
  },
  {
   "cell_type": "code",
   "execution_count": 11,
   "id": "e21b3d1f-ee8e-4862-bc05-c8f43cad2704",
   "metadata": {},
   "outputs": [],
   "source": [
    "### define project directory\n",
    "\n",
    "project_dir = r'C:\\Users\\sarth\\Dropbox\\Current_work\\Analytic_Model_LCE'"
   ]
  },
  {
   "cell_type": "markdown",
   "id": "d2dcc031-18d6-4dc3-b4fd-328f0a849fda",
   "metadata": {},
   "source": [
    "## <span style = 'color: magenta'> Wavelength Range </span>"
   ]
  },
  {
   "cell_type": "code",
   "execution_count": 12,
   "id": "3e1f620a-8d9c-431c-9227-9fa73ea70186",
   "metadata": {},
   "outputs": [],
   "source": [
    "## Question: how to choose common wavelength region to be used for ,full fledge calcualtion\n",
    "## Answer: check all data and find out the common range\n",
    "from numpy import arange\n",
    "# wavelength_vector = arange(305, 560, 0.5) ### for PDE data given by Marcin\n",
    "wavelength_vector = arange(366, 560, 0.5) ### for PDE data for new generation SiPM given by cenk"
   ]
  },
  {
   "cell_type": "markdown",
   "id": "d31b4155-923a-4bbb-8524-4d43091d44b3",
   "metadata": {},
   "source": [
    "## <span style = 'color : magenta'> SiPM Reflectance data </span>"
   ]
  },
  {
   "cell_type": "code",
   "execution_count": 13,
   "id": "426eb5ee-fc1a-46de-99f7-4f832434bcf9",
   "metadata": {},
   "outputs": [
    {
     "ename": "FileNotFoundError",
     "evalue": "[Errno 2] No such file or directory: 'C:\\\\Users\\\\sarth\\\\Dropbox\\\\Current_work\\\\Analytic_Model_LCE\\\\Data\\\\sipm_hr1_processed.txt'",
     "output_type": "error",
     "traceback": [
      "\u001b[1;31m---------------------------------------------------------------------------\u001b[0m",
      "\u001b[1;31mFileNotFoundError\u001b[0m                         Traceback (most recent call last)",
      "\u001b[1;32m<ipython-input-13-ac7da0c5be93>\u001b[0m in \u001b[0;36m<module>\u001b[1;34m\u001b[0m\n\u001b[0;32m      6\u001b[0m \u001b[1;33m\u001b[0m\u001b[0m\n\u001b[0;32m      7\u001b[0m \u001b[1;31m### documentation\u001b[0m\u001b[1;33m\u001b[0m\u001b[1;33m\u001b[0m\u001b[1;33m\u001b[0m\u001b[0m\n\u001b[1;32m----> 8\u001b[1;33m \u001b[0mR_vector\u001b[0m \u001b[1;33m=\u001b[0m \u001b[0mpd\u001b[0m\u001b[1;33m.\u001b[0m\u001b[0mread_csv\u001b[0m\u001b[1;33m(\u001b[0m\u001b[0mpath\u001b[0m\u001b[1;33m.\u001b[0m\u001b[0mjoin\u001b[0m\u001b[1;33m(\u001b[0m\u001b[0mproject_dir\u001b[0m\u001b[1;33m,\u001b[0m \u001b[1;34m'Data'\u001b[0m\u001b[1;33m,\u001b[0m\u001b[1;34m'sipm_hr1_processed.txt'\u001b[0m\u001b[1;33m)\u001b[0m\u001b[1;33m,\u001b[0m \u001b[0msep\u001b[0m \u001b[1;33m=\u001b[0m \u001b[1;34m'\\t'\u001b[0m\u001b[1;33m)\u001b[0m  \u001b[1;31m## 'Data' is the name of the folder containing Data files\u001b[0m\u001b[1;33m\u001b[0m\u001b[1;33m\u001b[0m\u001b[0m\n\u001b[0m\u001b[0;32m      9\u001b[0m \u001b[0mR_values\u001b[0m \u001b[1;33m=\u001b[0m \u001b[0mR_vector\u001b[0m\u001b[1;33m.\u001b[0m\u001b[0mcopy\u001b[0m\u001b[1;33m(\u001b[0m\u001b[1;33m)\u001b[0m\u001b[1;33m\u001b[0m\u001b[1;33m\u001b[0m\u001b[0m\n\u001b[0;32m     10\u001b[0m \u001b[0mR_values\u001b[0m\u001b[1;33m[\u001b[0m\u001b[1;34m'R'\u001b[0m\u001b[1;33m]\u001b[0m \u001b[1;33m=\u001b[0m \u001b[1;33m[\u001b[0m\u001b[0mint\u001b[0m\u001b[1;33m(\u001b[0m\u001b[0mvalue\u001b[0m\u001b[1;33m)\u001b[0m\u001b[1;33m/\u001b[0m\u001b[1;36m100\u001b[0m \u001b[1;32mfor\u001b[0m \u001b[0mvalue\u001b[0m \u001b[1;32min\u001b[0m \u001b[0mR_vector\u001b[0m\u001b[1;33m[\u001b[0m\u001b[1;34m'R'\u001b[0m\u001b[1;33m]\u001b[0m\u001b[1;33m]\u001b[0m\u001b[1;33m\u001b[0m\u001b[1;33m\u001b[0m\u001b[0m\n",
      "\u001b[1;32m~\\Miniconda3\\lib\\site-packages\\pandas\\io\\parsers.py\u001b[0m in \u001b[0;36mread_csv\u001b[1;34m(filepath_or_buffer, sep, delimiter, header, names, index_col, usecols, squeeze, prefix, mangle_dupe_cols, dtype, engine, converters, true_values, false_values, skipinitialspace, skiprows, skipfooter, nrows, na_values, keep_default_na, na_filter, verbose, skip_blank_lines, parse_dates, infer_datetime_format, keep_date_col, date_parser, dayfirst, cache_dates, iterator, chunksize, compression, thousands, decimal, lineterminator, quotechar, quoting, doublequote, escapechar, comment, encoding, dialect, error_bad_lines, warn_bad_lines, delim_whitespace, low_memory, memory_map, float_precision, storage_options)\u001b[0m\n\u001b[0;32m    608\u001b[0m     \u001b[0mkwds\u001b[0m\u001b[1;33m.\u001b[0m\u001b[0mupdate\u001b[0m\u001b[1;33m(\u001b[0m\u001b[0mkwds_defaults\u001b[0m\u001b[1;33m)\u001b[0m\u001b[1;33m\u001b[0m\u001b[1;33m\u001b[0m\u001b[0m\n\u001b[0;32m    609\u001b[0m \u001b[1;33m\u001b[0m\u001b[0m\n\u001b[1;32m--> 610\u001b[1;33m     \u001b[1;32mreturn\u001b[0m \u001b[0m_read\u001b[0m\u001b[1;33m(\u001b[0m\u001b[0mfilepath_or_buffer\u001b[0m\u001b[1;33m,\u001b[0m \u001b[0mkwds\u001b[0m\u001b[1;33m)\u001b[0m\u001b[1;33m\u001b[0m\u001b[1;33m\u001b[0m\u001b[0m\n\u001b[0m\u001b[0;32m    611\u001b[0m \u001b[1;33m\u001b[0m\u001b[0m\n\u001b[0;32m    612\u001b[0m \u001b[1;33m\u001b[0m\u001b[0m\n",
      "\u001b[1;32m~\\Miniconda3\\lib\\site-packages\\pandas\\io\\parsers.py\u001b[0m in \u001b[0;36m_read\u001b[1;34m(filepath_or_buffer, kwds)\u001b[0m\n\u001b[0;32m    460\u001b[0m \u001b[1;33m\u001b[0m\u001b[0m\n\u001b[0;32m    461\u001b[0m     \u001b[1;31m# Create the parser.\u001b[0m\u001b[1;33m\u001b[0m\u001b[1;33m\u001b[0m\u001b[1;33m\u001b[0m\u001b[0m\n\u001b[1;32m--> 462\u001b[1;33m     \u001b[0mparser\u001b[0m \u001b[1;33m=\u001b[0m \u001b[0mTextFileReader\u001b[0m\u001b[1;33m(\u001b[0m\u001b[0mfilepath_or_buffer\u001b[0m\u001b[1;33m,\u001b[0m \u001b[1;33m**\u001b[0m\u001b[0mkwds\u001b[0m\u001b[1;33m)\u001b[0m\u001b[1;33m\u001b[0m\u001b[1;33m\u001b[0m\u001b[0m\n\u001b[0m\u001b[0;32m    463\u001b[0m \u001b[1;33m\u001b[0m\u001b[0m\n\u001b[0;32m    464\u001b[0m     \u001b[1;32mif\u001b[0m \u001b[0mchunksize\u001b[0m \u001b[1;32mor\u001b[0m \u001b[0miterator\u001b[0m\u001b[1;33m:\u001b[0m\u001b[1;33m\u001b[0m\u001b[1;33m\u001b[0m\u001b[0m\n",
      "\u001b[1;32m~\\Miniconda3\\lib\\site-packages\\pandas\\io\\parsers.py\u001b[0m in \u001b[0;36m__init__\u001b[1;34m(self, f, engine, **kwds)\u001b[0m\n\u001b[0;32m    817\u001b[0m             \u001b[0mself\u001b[0m\u001b[1;33m.\u001b[0m\u001b[0moptions\u001b[0m\u001b[1;33m[\u001b[0m\u001b[1;34m\"has_index_names\"\u001b[0m\u001b[1;33m]\u001b[0m \u001b[1;33m=\u001b[0m \u001b[0mkwds\u001b[0m\u001b[1;33m[\u001b[0m\u001b[1;34m\"has_index_names\"\u001b[0m\u001b[1;33m]\u001b[0m\u001b[1;33m\u001b[0m\u001b[1;33m\u001b[0m\u001b[0m\n\u001b[0;32m    818\u001b[0m \u001b[1;33m\u001b[0m\u001b[0m\n\u001b[1;32m--> 819\u001b[1;33m         \u001b[0mself\u001b[0m\u001b[1;33m.\u001b[0m\u001b[0m_engine\u001b[0m \u001b[1;33m=\u001b[0m \u001b[0mself\u001b[0m\u001b[1;33m.\u001b[0m\u001b[0m_make_engine\u001b[0m\u001b[1;33m(\u001b[0m\u001b[0mself\u001b[0m\u001b[1;33m.\u001b[0m\u001b[0mengine\u001b[0m\u001b[1;33m)\u001b[0m\u001b[1;33m\u001b[0m\u001b[1;33m\u001b[0m\u001b[0m\n\u001b[0m\u001b[0;32m    820\u001b[0m \u001b[1;33m\u001b[0m\u001b[0m\n\u001b[0;32m    821\u001b[0m     \u001b[1;32mdef\u001b[0m \u001b[0mclose\u001b[0m\u001b[1;33m(\u001b[0m\u001b[0mself\u001b[0m\u001b[1;33m)\u001b[0m\u001b[1;33m:\u001b[0m\u001b[1;33m\u001b[0m\u001b[1;33m\u001b[0m\u001b[0m\n",
      "\u001b[1;32m~\\Miniconda3\\lib\\site-packages\\pandas\\io\\parsers.py\u001b[0m in \u001b[0;36m_make_engine\u001b[1;34m(self, engine)\u001b[0m\n\u001b[0;32m   1048\u001b[0m             )\n\u001b[0;32m   1049\u001b[0m         \u001b[1;31m# error: Too many arguments for \"ParserBase\"\u001b[0m\u001b[1;33m\u001b[0m\u001b[1;33m\u001b[0m\u001b[1;33m\u001b[0m\u001b[0m\n\u001b[1;32m-> 1050\u001b[1;33m         \u001b[1;32mreturn\u001b[0m \u001b[0mmapping\u001b[0m\u001b[1;33m[\u001b[0m\u001b[0mengine\u001b[0m\u001b[1;33m]\u001b[0m\u001b[1;33m(\u001b[0m\u001b[0mself\u001b[0m\u001b[1;33m.\u001b[0m\u001b[0mf\u001b[0m\u001b[1;33m,\u001b[0m \u001b[1;33m**\u001b[0m\u001b[0mself\u001b[0m\u001b[1;33m.\u001b[0m\u001b[0moptions\u001b[0m\u001b[1;33m)\u001b[0m  \u001b[1;31m# type: ignore[call-arg]\u001b[0m\u001b[1;33m\u001b[0m\u001b[1;33m\u001b[0m\u001b[0m\n\u001b[0m\u001b[0;32m   1051\u001b[0m \u001b[1;33m\u001b[0m\u001b[0m\n\u001b[0;32m   1052\u001b[0m     \u001b[1;32mdef\u001b[0m \u001b[0m_failover_to_python\u001b[0m\u001b[1;33m(\u001b[0m\u001b[0mself\u001b[0m\u001b[1;33m)\u001b[0m\u001b[1;33m:\u001b[0m\u001b[1;33m\u001b[0m\u001b[1;33m\u001b[0m\u001b[0m\n",
      "\u001b[1;32m~\\Miniconda3\\lib\\site-packages\\pandas\\io\\parsers.py\u001b[0m in \u001b[0;36m__init__\u001b[1;34m(self, src, **kwds)\u001b[0m\n\u001b[0;32m   1865\u001b[0m \u001b[1;33m\u001b[0m\u001b[0m\n\u001b[0;32m   1866\u001b[0m         \u001b[1;31m# open handles\u001b[0m\u001b[1;33m\u001b[0m\u001b[1;33m\u001b[0m\u001b[1;33m\u001b[0m\u001b[0m\n\u001b[1;32m-> 1867\u001b[1;33m         \u001b[0mself\u001b[0m\u001b[1;33m.\u001b[0m\u001b[0m_open_handles\u001b[0m\u001b[1;33m(\u001b[0m\u001b[0msrc\u001b[0m\u001b[1;33m,\u001b[0m \u001b[0mkwds\u001b[0m\u001b[1;33m)\u001b[0m\u001b[1;33m\u001b[0m\u001b[1;33m\u001b[0m\u001b[0m\n\u001b[0m\u001b[0;32m   1868\u001b[0m         \u001b[1;32massert\u001b[0m \u001b[0mself\u001b[0m\u001b[1;33m.\u001b[0m\u001b[0mhandles\u001b[0m \u001b[1;32mis\u001b[0m \u001b[1;32mnot\u001b[0m \u001b[1;32mNone\u001b[0m\u001b[1;33m\u001b[0m\u001b[1;33m\u001b[0m\u001b[0m\n\u001b[0;32m   1869\u001b[0m         \u001b[1;32mfor\u001b[0m \u001b[0mkey\u001b[0m \u001b[1;32min\u001b[0m \u001b[1;33m(\u001b[0m\u001b[1;34m\"storage_options\"\u001b[0m\u001b[1;33m,\u001b[0m \u001b[1;34m\"encoding\"\u001b[0m\u001b[1;33m,\u001b[0m \u001b[1;34m\"memory_map\"\u001b[0m\u001b[1;33m,\u001b[0m \u001b[1;34m\"compression\"\u001b[0m\u001b[1;33m)\u001b[0m\u001b[1;33m:\u001b[0m\u001b[1;33m\u001b[0m\u001b[1;33m\u001b[0m\u001b[0m\n",
      "\u001b[1;32m~\\Miniconda3\\lib\\site-packages\\pandas\\io\\parsers.py\u001b[0m in \u001b[0;36m_open_handles\u001b[1;34m(self, src, kwds)\u001b[0m\n\u001b[0;32m   1366\u001b[0m             \u001b[0mcompression\u001b[0m\u001b[1;33m=\u001b[0m\u001b[0mkwds\u001b[0m\u001b[1;33m.\u001b[0m\u001b[0mget\u001b[0m\u001b[1;33m(\u001b[0m\u001b[1;34m\"compression\"\u001b[0m\u001b[1;33m,\u001b[0m \u001b[1;32mNone\u001b[0m\u001b[1;33m)\u001b[0m\u001b[1;33m,\u001b[0m\u001b[1;33m\u001b[0m\u001b[1;33m\u001b[0m\u001b[0m\n\u001b[0;32m   1367\u001b[0m             \u001b[0mmemory_map\u001b[0m\u001b[1;33m=\u001b[0m\u001b[0mkwds\u001b[0m\u001b[1;33m.\u001b[0m\u001b[0mget\u001b[0m\u001b[1;33m(\u001b[0m\u001b[1;34m\"memory_map\"\u001b[0m\u001b[1;33m,\u001b[0m \u001b[1;32mFalse\u001b[0m\u001b[1;33m)\u001b[0m\u001b[1;33m,\u001b[0m\u001b[1;33m\u001b[0m\u001b[1;33m\u001b[0m\u001b[0m\n\u001b[1;32m-> 1368\u001b[1;33m             \u001b[0mstorage_options\u001b[0m\u001b[1;33m=\u001b[0m\u001b[0mkwds\u001b[0m\u001b[1;33m.\u001b[0m\u001b[0mget\u001b[0m\u001b[1;33m(\u001b[0m\u001b[1;34m\"storage_options\"\u001b[0m\u001b[1;33m,\u001b[0m \u001b[1;32mNone\u001b[0m\u001b[1;33m)\u001b[0m\u001b[1;33m,\u001b[0m\u001b[1;33m\u001b[0m\u001b[1;33m\u001b[0m\u001b[0m\n\u001b[0m\u001b[0;32m   1369\u001b[0m         )\n\u001b[0;32m   1370\u001b[0m \u001b[1;33m\u001b[0m\u001b[0m\n",
      "\u001b[1;32m~\\Miniconda3\\lib\\site-packages\\pandas\\io\\common.py\u001b[0m in \u001b[0;36mget_handle\u001b[1;34m(path_or_buf, mode, encoding, compression, memory_map, is_text, errors, storage_options)\u001b[0m\n\u001b[0;32m    650\u001b[0m                 \u001b[0mencoding\u001b[0m\u001b[1;33m=\u001b[0m\u001b[0mioargs\u001b[0m\u001b[1;33m.\u001b[0m\u001b[0mencoding\u001b[0m\u001b[1;33m,\u001b[0m\u001b[1;33m\u001b[0m\u001b[1;33m\u001b[0m\u001b[0m\n\u001b[0;32m    651\u001b[0m                 \u001b[0merrors\u001b[0m\u001b[1;33m=\u001b[0m\u001b[0merrors\u001b[0m\u001b[1;33m,\u001b[0m\u001b[1;33m\u001b[0m\u001b[1;33m\u001b[0m\u001b[0m\n\u001b[1;32m--> 652\u001b[1;33m                 \u001b[0mnewline\u001b[0m\u001b[1;33m=\u001b[0m\u001b[1;34m\"\"\u001b[0m\u001b[1;33m,\u001b[0m\u001b[1;33m\u001b[0m\u001b[1;33m\u001b[0m\u001b[0m\n\u001b[0m\u001b[0;32m    653\u001b[0m             )\n\u001b[0;32m    654\u001b[0m         \u001b[1;32melse\u001b[0m\u001b[1;33m:\u001b[0m\u001b[1;33m\u001b[0m\u001b[1;33m\u001b[0m\u001b[0m\n",
      "\u001b[1;31mFileNotFoundError\u001b[0m: [Errno 2] No such file or directory: 'C:\\\\Users\\\\sarth\\\\Dropbox\\\\Current_work\\\\Analytic_Model_LCE\\\\Data\\\\sipm_hr1_processed.txt'"
     ]
    }
   ],
   "source": [
    "# Si_file= pd.read_excel(r'D:\\D Downloads\\Current_work\\Reflectivity measurement\\SiPM_Rrel_corrected.xlsx')\n",
    "# R = Si_file.drop(['Unnamed: 1', 'SiPM_whitebgr_HR1 - Storage 134120', 'Unnamed: 3', 'SiPM_black - Storage 134701', 'Unnamed: 5', 'Unnamed: 6', 'Surface area corrected', 'Unnamed: 9', 'Corrected \"to align\"', 'Unnamed: 11'], axis =1)[1:] \n",
    "## keeping just the white background reflectivity * to be verified\n",
    "## newly measured values\n",
    "# R_vector = pd.read_csv(r'D:\\D Downloads\\Current_work\\Reflectivity measurement\\sipm_hr1_processed.txt', sep = '\\t') \n",
    "\n",
    "### documentation \n",
    "R_vector = pd.read_csv(path.join(project_dir, 'Data','sipm_hr1_processed.txt'), sep = '\\t')  ## 'Data' is the name of the folder containing Data files\n",
    "R_values = R_vector.copy()\n",
    "R_values['R'] = [int(value)/100 for value in R_vector['R']]\n",
    "# R_values"
   ]
  },
  {
   "cell_type": "markdown",
   "id": "ea44121d-94c8-485d-9cea-a627b577dd40",
   "metadata": {},
   "source": [
    "## <span style = 'color : magenta'> PEN Reflectance data </span>"
   ]
  },
  {
   "cell_type": "code",
   "execution_count": null,
   "id": "92826ace-f865-4aba-b566-ca8b42cf4116",
   "metadata": {},
   "outputs": [],
   "source": [
    "# R_wall_PEN = \n",
    "photon_energy = [0.1, 2.067,2.175,2.214,2.255,2.340,2.385,2.431,2.436,2.531,2.583,2.638,2.696,2.725,2.756,2.787,2.818,\n",
    "2.884,2.918,2.952,2.988,3.024,3.039,3.047,3.054,3.062,3.069,3.077,3.085,3.092,3.100,3.108,3.116,3.123,3.131,3.139,3.147,3.155,\n",
    "3.163,3.171,3.179,3.188,3.196,3.204,3.212,3.221,3.263, 8.0] # energy in eV\n",
    "\n",
    "PEN_reflectivity = [100.130, 100.130,99.995,99.856,99.681,99.659,99.569,99.351,99.306,99.018,98.652,98.415,98.283,\n",
    "98.018,97.856,97.606,97.457,97.134,96.928,96.827,96.247,95.737,95.359,95.197,95.048,94.876,94.684,94.463,94.055,93.650,93.147,\n",
    "92.562,91.812,90.904,89.807,88.506,86.957,85.242,83.156,80.678,77.811,74.615,71.004,67.089,62.924,58.670,20.000, 20.000] # %age reflectivity\n",
    "\n",
    "PEN_reflectivity = [reflectivity*0.98*0.994/100 for reflectivity in PEN_reflectivity] # Reflectance is multiplied by 0.98 and 0.994 for calibration purpose\n",
    "# The calculation is very senstitive to Reflectance\n",
    "\n",
    "photon_wavelength = []\n",
    "\n",
    "for energy_ in photon_energy:\n",
    "    length_ = 1239.847/energy_\n",
    "    photon_wavelength.append(length_)\n",
    "\n",
    "frame = {'photon_wavelength': photon_wavelength,\n",
    "        'PEN_reflectivity': PEN_reflectivity}\n",
    "\n",
    "R_Wall_PEN = pd.DataFrame(frame)\n",
    "\n",
    "## reverse the order of wavelength smaller to bigger\n",
    "R_Wall_PEN = R_Wall_PEN.iloc[::-1]\n",
    "\n",
    "# R_Wall_PEN"
   ]
  },
  {
   "cell_type": "markdown",
   "id": "a3d497b3-050c-4447-b26b-a00aefd84d77",
   "metadata": {},
   "source": [
    "## <span style = 'color : magenta'> TPB Reflectance data </span>"
   ]
  },
  {
   "cell_type": "code",
   "execution_count": null,
   "id": "e1b45608-c51d-4817-8805-dfc88d71ae1e",
   "metadata": {},
   "outputs": [],
   "source": [
    "photon_energy = [0.1, 2.067,2.175,2.214,2.255,2.340,2.385,2.431,2.436,2.531,2.583,2.638,2.696,2.725,2.756,2.787,2.818,2.884,2.918,2.952,2.988,3.024, 3.221,3.263, 8.0]\n",
    "TPB_reflectivity = [98.936,98.936,99.180,99.309,99.375,99.392,99.534,99.490,99.491,99.685,99.635,99.593,99.541,99.457,99.380,99.374,99.196,98.924,98.521,97.653,95.581,92.569,13.0,3.0,3.0]\n",
    "\n",
    "photon_wavelength = []\n",
    "\n",
    "TPB_reflectivity = [reflectivity*0.98*0.994/100 for reflectivity in TPB_reflectivity]\n",
    "\n",
    "for energy_ in photon_energy:\n",
    "    length_ = 1239.847/energy_\n",
    "    photon_wavelength.append(length_)\n",
    "\n",
    "frame = {'photon_wavelength': photon_wavelength,\n",
    "        'TPB_reflectivity': TPB_reflectivity}\n",
    "\n",
    "R_Wall_TPB = pd.DataFrame(frame)\n",
    "\n",
    "## reverse the order of wavelength smaller to bigger\n",
    "R_Wall_TPB = R_Wall_TPB.iloc[::-1]\n",
    "\n",
    "# R_Wall_TPB"
   ]
  },
  {
   "cell_type": "markdown",
   "id": "1777bc90-905c-4c47-ab76-cf43899d983b",
   "metadata": {},
   "source": [
    "<h2 style = 'text-align: left'>\n",
    "    <span style = \"color : Magenta\"> SiPM PDE data </span>\n",
    "</h2>"
   ]
  },
  {
   "cell_type": "code",
   "execution_count": null,
   "id": "c1d028a7-7bb3-4179-87c6-30056fa0d271",
   "metadata": {},
   "outputs": [],
   "source": [
    "### FBK PDE values sent by Marcin\n",
    "# photon_wavelegnth = [285.87, 301.14, 320.99, 340.83, 365.26, 380.53, 391.22, 400.38, 411.06, 420.22, 435.49, 449.23, 464.50, 499.61, 588.16, 698.09]\n",
    "\n",
    "# PDE_vector = [18.39, 37.24, 41.87, 42.43, 45.03, 48.12, 52.72, 52.75, 52.77, 52.29, 48.77, 46.26, 40.71, 38.76, 28.82, 18.93] # %age values\n",
    "\n",
    "### LFoundry PDE Values sent by Cenk\n",
    "photon_wavelegnth = [365.39, 390.34, 399.89, 409.98, 420.06, 434.93, 450.32, 500.21, 525.16, 545.33, 590.98, 630.25, 700.32]\n",
    "\n",
    "PDE_vector = [43.277, 51.892, 54.257, 52.399, 50.709, 46.993, 42.601, 36.014, 30.439, 28.581, 24.358, 20.473, 15.574]\n",
    "\n",
    "\n",
    "PDE_values = [value/100 for value in PDE_vector]\n",
    "frame = {'photon_wavelegnth':photon_wavelegnth, 'PDE_': PDE_values}\n",
    "\n",
    "PDE = pd.DataFrame(frame)\n",
    "\n",
    "# PDE"
   ]
  },
  {
   "cell_type": "markdown",
   "id": "8228c0e6-b7c0-4bfd-b666-edc390171c9d",
   "metadata": {},
   "source": [
    "## <span style = \"color : Magenta\"> TPB Emission Spectrum </span>"
   ]
  },
  {
   "cell_type": "code",
   "execution_count": null,
   "id": "d155d1ca-e4c4-4123-8144-4f8f0f26e704",
   "metadata": {},
   "outputs": [],
   "source": [
    "#### why do we have negative values?\n",
    "#### Might need to clean data\n",
    "## drop negative values\n",
    "## normalize efficiency\n",
    "\n",
    "# r_TPB = r'D:\\D Downloads\\Current_work\\tpb-fran.txt'\n",
    "r_TPB = path.join(project_dir, 'Data','tpb-fran.txt')\n",
    "emission_spectrum_TPB = pd.read_csv(r_TPB, sep ='\\t')\n",
    "\n",
    "E_TPB = emission_spectrum_TPB.drop(['a','b','c','d'], axis=1)\n",
    "# E_TPB"
   ]
  },
  {
   "cell_type": "markdown",
   "id": "f7b7f349-fb57-492f-918d-a9fee9a59914",
   "metadata": {},
   "source": [
    "<p> <span style = \"font-size: 18pt; color: Red\"> Warning: </span> TPB data has negative values!!! </p>"
   ]
  },
  {
   "cell_type": "code",
   "execution_count": null,
   "id": "c62e3d15-4307-4115-b56b-f0ee74259516",
   "metadata": {},
   "outputs": [],
   "source": [
    "# normalize : divide by maximum value\n",
    "E_TPB['efficiency'] = E_TPB['efficiency']/max(E_TPB['efficiency'] ) \n",
    "# remove negative values\n",
    "E_TPB = E_TPB[E_TPB > 0].dropna()\n",
    "\n",
    "# E_TPB\n"
   ]
  },
  {
   "cell_type": "markdown",
   "id": "083faae8-6747-4641-b9b4-a544f1cb10b5",
   "metadata": {},
   "source": [
    "## <span style = \"color : Magenta\"> PEN Emission Spectrum </span>"
   ]
  },
  {
   "cell_type": "code",
   "execution_count": null,
   "id": "7f993e1a-f5b9-41b5-98a1-22b35b20c750",
   "metadata": {},
   "outputs": [],
   "source": [
    "# r_PEN = r'D:\\D Downloads\\Current_work\\pen-tess.txt'\n",
    "r_PEN = path.join(project_dir, 'Data', 'pen-tess.txt')\n",
    "emission_spectrum_PEN = pd.read_csv(r_PEN, sep ='\\t')\n",
    "\n",
    "E_PEN = emission_spectrum_PEN.drop(['a','b','c'], axis=1)\n",
    "\n",
    "# E_PEN"
   ]
  },
  {
   "cell_type": "code",
   "execution_count": null,
   "id": "4845de9c-0570-46f9-ab4b-debc9588e366",
   "metadata": {},
   "outputs": [],
   "source": [
    "# normalize : divide by maximum value\n",
    "E_PEN['efficiency'] = E_PEN['efficiency']/max(E_PEN['efficiency'] ) \n",
    "\n",
    "# remove negative values\n",
    "E_PEN = E_PEN[E_PEN > 0].dropna()\n",
    "# E_PEN\n",
    "## What are the units of efficiency? Normalize PEN Spectrum ??\n",
    "## Remove negative values?\n",
    "## Need linear interpolation for everyuthing R, R_Wall, PDE and emission spectrum"
   ]
  },
  {
   "cell_type": "markdown",
   "id": "3891acd8-40c9-4059-9900-a03bedc9800e",
   "metadata": {},
   "source": [
    "<h2>\n",
    "    <span style = 'color:skyblue; text-align:center'> Pre-processing data for interpolation </span>\n",
    "</h2>"
   ]
  },
  {
   "cell_type": "code",
   "execution_count": null,
   "id": "3e08ab0d-7b21-400c-b411-40ac9b5926eb",
   "metadata": {},
   "outputs": [],
   "source": [
    "## use scipy to interpolate and store in DataFrame \n",
    "from scipy.interpolate import interp1d\n",
    "f_R_Wall_TPB = interp1d(R_Wall_TPB['photon_wavelength'], R_Wall_TPB['TPB_reflectivity'])\n",
    "R_Wall_TPB_uniform = f_R_Wall_TPB(wavelength_vector)\n",
    "\n",
    "f_R_Wall_PEN = interp1d(R_Wall_PEN['photon_wavelength'], R_Wall_PEN['PEN_reflectivity'])\n",
    "R_Wall_PEN_uniform = f_R_Wall_PEN(wavelength_vector)\n",
    "\n",
    "f_E_PEN = interp1d(E_PEN['wavelength'], E_PEN['efficiency'])\n",
    "E_PEN_uniform = f_E_PEN(wavelength_vector)\n",
    "\n",
    "f_E_TPB = interp1d(E_TPB['wavelength'], E_TPB['efficiency'])\n",
    "E_TPB_uniform = f_E_TPB(wavelength_vector)\n",
    "\n",
    "f_PDE = interp1d(PDE['photon_wavelegnth'], PDE['PDE_'])\n",
    "PDE_uniform = f_PDE(wavelength_vector)\n",
    "\n",
    "f_R_values = interp1d(R_values['Wavelength'], R_values['R'])\n",
    "R_values_uniform = f_R_values(wavelength_vector)"
   ]
  },
  {
   "cell_type": "markdown",
   "id": "5e946b24-1bba-449a-82f6-6c0082ac9d78",
   "metadata": {},
   "source": [
    "<h2 style= 'text-align: center'>\n",
    "    <span style  = 'color: orange'>  Wavelength Dependent  </span> <span style = \"color: red\"> LY </span>\n",
    "</h2>\n",
    "\n",
    "<!-- <p style = 'font-size:14pt'>  -->\n",
    "<p style= ' font-size:14pt; text-align: left; color:white;'>\n",
    "Use values stored in DataFrame directly in the formula below:\n",
    "</p>\n",
    "\n",
    "<span style = 'color : violet;'>\n",
    "\n",
    "$$\n",
    "LY = \\frac{\\sum[ E_{pen}(\\lambda)*LY(PDE(\\lambda), f_{sen}, FF_{sys}, R(\\lambda), R_{wall}(\\lambda))]}{\\sum E_{pen}(\\lambda)}\n",
    "$$\n",
    "</span>\n",
    "<!-- </p> -->"
   ]
  },
  {
   "cell_type": "code",
   "execution_count": null,
   "id": "d67d5abf-e656-4738-86eb-86b8243e63bc",
   "metadata": {},
   "outputs": [],
   "source": [
    "# ## Calculating LY for PEN\n",
    "# f1 = 0\n",
    "# f2 = 0\n",
    "\n",
    "# for lambda_index in range(np.size(wavelength_vector)):\n",
    "#     f1 += E_PEN_uniform[lambda_index]*calc_LY(PDE_uniform[lambda_index], f_sen, FF_sys, R_values_uniform[lambda_index], R_Wall_PEN_uniform[lambda_index])\n",
    "#     f2 += (E_PEN_uniform[lambda_index])\n",
    "# print('Light Yield():', f1/f2)"
   ]
  },
  {
   "cell_type": "markdown",
   "id": "7e09f658-7744-405a-86d5-816b5e0a7ca6",
   "metadata": {},
   "source": [
    "<br>\n",
    "<h2 style=\"text-align: center;\">\n",
    "    <span style = \"color : yellow \"> Function to calculate wavelength dependent Light Yield  </span>\n",
    "</h2>\n",
    "<br>"
   ]
  },
  {
   "cell_type": "code",
   "execution_count": null,
   "id": "9f2f073a-edf4-4a42-89c8-d0d176c448fb",
   "metadata": {},
   "outputs": [],
   "source": [
    "def calc_wavelength_dependent_LY(wavelengths, Emission_spectrum, PDE, f_sen, FF_sys, R, R_wall):\n",
    "    f1 = 0\n",
    "    f2 = 0\n",
    "    \n",
    "    for lambda_index in range(np.size(wavelength_vector)):\n",
    "        f1 += Emission_spectrum[lambda_index]*calc_LY(PDE[lambda_index], f_sen, FF_sys, R[lambda_index], R_wall[lambda_index])\n",
    "        f2 += (Emission_spectrum[lambda_index])\n",
    "    return f1/f2"
   ]
  },
  {
   "cell_type": "code",
   "execution_count": null,
   "id": "60c0f0c2-c156-42ec-858d-7fdb8eb3e7b1",
   "metadata": {},
   "outputs": [],
   "source": [
    "print('Light Yield PEN', calc_wavelength_dependent_LY(wavelength_vector, E_PEN_uniform, PDE_uniform, f_sen, FF_sys, R_values_uniform, R_Wall_PEN_uniform))"
   ]
  },
  {
   "cell_type": "code",
   "execution_count": null,
   "id": "f2178830-a37d-4654-badd-67b9c4cb3405",
   "metadata": {},
   "outputs": [],
   "source": [
    "print('Light Yield TPB', calc_wavelength_dependent_LY(wavelength_vector, E_TPB_uniform, PDE_uniform, f_sen, FF_sys, R_values_uniform, R_Wall_TPB_uniform))"
   ]
  },
  {
   "cell_type": "code",
   "execution_count": null,
   "id": "fbde35e7-2d1a-40bf-9feb-4158afab4768",
   "metadata": {},
   "outputs": [],
   "source": [
    "# %matplotlib qt\n",
    "plt.figure()\n",
    "plt.plot(f_sen_vector, calc_wavelength_dependent_LY(wavelength_vector, E_PEN_uniform, PDE_uniform,f_sen_vector, FF_sys, R_values_uniform, R_Wall_PEN_uniform))\n",
    "plt.ylabel('Light Yield', weight = 'bold')\n",
    "plt.xlabel('f_sen', weight = 'bold')\n",
    "plt.title('f_sen vs Light Yield [PDE, R and WLS dependence on wavelength accounted]')"
   ]
  },
  {
   "cell_type": "code",
   "execution_count": null,
   "id": "17deb80f-edc2-4f01-8ce8-7cd4bf2600d0",
   "metadata": {},
   "outputs": [],
   "source": [
    "calc_wavelength_dependent_LY(wavelength_vector, E_PEN_uniform, PDE_uniform,0.01, FF_sys, R_values_uniform, R_Wall_PEN_uniform*0.99)*40*0.5\n"
   ]
  },
  {
   "cell_type": "code",
   "execution_count": null,
   "id": "196fbd5b-aa4e-4088-99d0-50f462e5259b",
   "metadata": {},
   "outputs": [],
   "source": [
    "calc_wavelength_dependent_LY(wavelength_vector, E_TPB_uniform, PDE_uniform,0.01, FF_sys, R_values_uniform, R_Wall_TPB_uniform*0.99)*40"
   ]
  },
  {
   "cell_type": "markdown",
   "id": "9d4b668a-28ef-4deb-a38f-66484eba56dc",
   "metadata": {},
   "source": [
    "<br>\n",
    "<h2 style = 'color: orange; text-align:center; font-size:18pt; '>\n",
    "Data and Plots\n",
    "</h2>\n",
    "<br>"
   ]
  },
  {
   "cell_type": "code",
   "execution_count": null,
   "id": "c81f6b45-f911-4df3-94c2-b8c036920572",
   "metadata": {},
   "outputs": [],
   "source": [
    "### 1\n",
    "#PDE\n",
    "plt.figure()\n",
    "plt.plot(PDE['photon_wavelegnth'], PDE['PDE_'])\n",
    "plt.title('Wavelength vs PDE')"
   ]
  },
  {
   "cell_type": "code",
   "execution_count": null,
   "id": "86b1f24a-d1b5-4174-8213-e16fb573cc6d",
   "metadata": {},
   "outputs": [],
   "source": [
    "### 2\n",
    "# R_values\n",
    "plt.figure()\n",
    "plt.plot(R_values['Wavelength'], R_values['R'])\n",
    "# plt.plot(R['black_mask - Storage 135551'],\tR['Unnamed: 8']) ### not using this file\n",
    "plt.title('Wavelength vs Silicon PhotoMultiplier reflectivity')"
   ]
  },
  {
   "cell_type": "code",
   "execution_count": null,
   "id": "6cab82e7-c575-4b92-a605-2dc22f4b2823",
   "metadata": {},
   "outputs": [],
   "source": [
    "### 3\n",
    "# R_Wall_TPB\n",
    "# TPB reflectivity below 400 nm may not be accurate"
   ]
  },
  {
   "cell_type": "code",
   "execution_count": null,
   "id": "4afdf395-15e8-4f79-bd60-e61c8617b11c",
   "metadata": {},
   "outputs": [],
   "source": [
    "plt.figure()\n",
    "plt.plot(R_Wall_TPB['photon_wavelength'][:22], R_Wall_TPB['TPB_reflectivity'][:22])\n",
    "plt.title('wavelength vs TPB Reflectiivty')"
   ]
  },
  {
   "cell_type": "code",
   "execution_count": null,
   "id": "4cb806da-0d5e-46f6-8797-7333cb060efa",
   "metadata": {},
   "outputs": [],
   "source": [
    "### 4\n",
    "# R_Wall_PEN"
   ]
  },
  {
   "cell_type": "code",
   "execution_count": null,
   "id": "7fc225eb-faf5-4201-8588-a712f15cd412",
   "metadata": {},
   "outputs": [],
   "source": [
    "plt.figure()\n",
    "plt.plot(R_Wall_PEN['photon_wavelength'][:46],\tR_Wall_PEN['PEN_reflectivity'][:46])\n",
    "plt.title('wavelength vs PEN reflectivity')"
   ]
  },
  {
   "cell_type": "code",
   "execution_count": null,
   "id": "ea27764d-0230-49c7-b034-87abd4a3b6ef",
   "metadata": {},
   "outputs": [],
   "source": [
    "### 5\n",
    "# E_TPB"
   ]
  },
  {
   "cell_type": "code",
   "execution_count": null,
   "id": "7e92b04a-8dc4-4282-8483-5051b2236394",
   "metadata": {},
   "outputs": [],
   "source": [
    "plt.figure()\n",
    "plt.plot(E_TPB['wavelength'], E_TPB['efficiency'])\n",
    "plt.title('TBP Emission spectrum')"
   ]
  },
  {
   "cell_type": "code",
   "execution_count": null,
   "id": "a0e679db-e1bb-42a6-96f0-8a61a914c1ed",
   "metadata": {},
   "outputs": [],
   "source": [
    "### 6\n",
    "# E_PEN"
   ]
  },
  {
   "cell_type": "code",
   "execution_count": null,
   "id": "54ad8e4a-48bd-4ea6-8df9-a6d45463c95c",
   "metadata": {},
   "outputs": [],
   "source": [
    "plt.figure()\n",
    "plt.plot(E_PEN['wavelength'], E_PEN['efficiency'])\n",
    "plt.title('PEN Emission spectrum')"
   ]
  },
  {
   "cell_type": "markdown",
   "id": "1a71fa29-3cd2-4093-b6c5-afa62e122c18",
   "metadata": {},
   "source": [
    "<h2> <span style = 'color: lightgreen'> Sanity Check </span> </h2>"
   ]
  },
  {
   "cell_type": "code",
   "execution_count": null,
   "id": "40f3849f-c1d2-4c27-add2-b117ba840c69",
   "metadata": {},
   "outputs": [],
   "source": [
    "### use delta function in calc_wavelength_dependent_LY to prove that calculation isn't wrong\n",
    "### wavelengths, Emission_spectrum, PDE, f_sen, FF_sys, R, R_wall\n",
    "from scipy import signal\n",
    "delta_signal = signal.unit_impulse(510,255)\n",
    "print('sanity check value', calc_wavelength_dependent_LY(wavelength_vector, delta_signal, 0.47*delta_signal,f_sen, FF_sys, 0.17*delta_signal, 0.95*delta_signal))"
   ]
  },
  {
   "cell_type": "markdown",
   "id": "5a3e89bd-9e15-49c3-ab44-aeb0c018fa4f",
   "metadata": {},
   "source": [
    "## <span style = \"color : orange \"> f_sen vs Light Yield Plot  </span>\n",
    "### <span style = \"color : red \">        Inludes uncertainity in R_Wall measurement </span>"
   ]
  },
  {
   "cell_type": "code",
   "execution_count": null,
   "id": "917051fd-a0d5-4796-b7d9-2a34aa0723b8",
   "metadata": {},
   "outputs": [],
   "source": [
    "### Plot of f_sen vs LC?\n",
    "### include Rwall error budget Rwall and Rwall*0.988\n",
    "# %matplotlib qt"
   ]
  },
  {
   "cell_type": "code",
   "execution_count": null,
   "id": "5c86aec1-9f97-41e6-8477-f872c5d39ef7",
   "metadata": {},
   "outputs": [],
   "source": [
    "# plt.close('all') # relevant only if using qt for plotting\n",
    "\n",
    "plt.figure('f_sen vs LY')\n",
    "\n",
    "LC_PEN_upper = 40*0.4720*calc_wavelength_dependent_LY(wavelength_vector, E_PEN_uniform, PDE_uniform,f_sen_vector, FF_sys, R_values_uniform, R_Wall_PEN_uniform)\n",
    "LC_PEN_lower = 40*0.4720*calc_wavelength_dependent_LY(wavelength_vector, E_PEN_uniform, PDE_uniform,f_sen_vector, FF_sys, R_values_uniform, R_Wall_PEN_uniform*0.988)\n",
    "\n",
    "plt.fill_between(f_sen_vector, LC_PEN_lower, LC_PEN_upper, color='blue', alpha = 0.2, label = 'PEN')\n",
    "\n",
    "LC_TPB_upper = 40*calc_wavelength_dependent_LY(wavelength_vector, E_TPB_uniform, PDE_uniform,f_sen_vector, FF_sys, R_values_uniform, R_Wall_TPB_uniform)\n",
    "LC_TPB_lower = 40*calc_wavelength_dependent_LY(wavelength_vector, E_TPB_uniform, PDE_uniform,f_sen_vector, FF_sys, R_values_uniform, R_Wall_TPB_uniform*0.988)\n",
    "\n",
    "plt.fill_between(f_sen_vector, LC_TPB_lower, LC_TPB_upper, color='orange', alpha = 0.2, label = 'TPB')\n",
    "\n",
    "### vertical line to show f_sen for 2PAC\n",
    "plt.axvline(0.01176, 0, 1, linestyle = 'dotted', color = 'gray', label='2PAC f_sen')\n",
    "\n",
    "### horizontal lines correspond to the LY expected from 2PAC according to the Analytic Model\n",
    "### ??? change f_sens from 0.01176 to 0.01\n",
    "LC_PEN_2PAC_ref = 40*0.4720*calc_wavelength_dependent_LY(wavelength_vector, E_PEN_uniform, PDE_uniform, 0.01176, FF_sys, R_values_uniform, R_Wall_PEN_uniform*0.988)\n",
    "LC_TPB_2PAC_ref = 40*1*calc_wavelength_dependent_LY(wavelength_vector, E_TPB_uniform, PDE_uniform, 0.01176, FF_sys, R_values_uniform, R_Wall_TPB_uniform*0.988)\n",
    "\n",
    "plt.axhline(LC_PEN_2PAC_ref, 0, 0.0655, linestyle = '--', color = 'blue', alpha =0.8, label='2PAC PEN (Analytic Model)')\n",
    "plt.axhline(LC_TPB_2PAC_ref, 0, 0.0655, linestyle = '-.', color = 'orange', alpha =0.8, label='2PAC TPB (Analytic Model)')\n",
    "\n",
    "### single point to represent TPB yield\n",
    "plt.errorbar([0.01176], [2.50*0.40], yerr = [0.05*0.40], fmt ='*', color ='red', label = '2PAC PEN LY (measurement) ')\n",
    "plt.errorbar([0.01176], [2.50], yerr = [0.05], fmt = '^', color ='green', label = '2PAC TPB LY (measurement) ')\n",
    "\n",
    "plt.ylabel('Light Yield [pe/keV]' , size =14, weight = 'bold')\n",
    "plt.xlabel('f_sen', size =14, weight = 'bold')\n",
    "plt.title('f_sen vs Light Yield [PDE, R and WLS dependence on wavelength accounted for]')\n",
    "plt.legend(loc = 'upper left')\n",
    "\n",
    "# plt.savefig(r'C:\\Users\\sarth\\Dropbox\\Wavelength_Shifters\\f_sen_vs_LC.jpeg')"
   ]
  },
  {
   "cell_type": "code",
   "execution_count": null,
   "id": "e03e0a1b-03c0-4483-a6fe-0e9a79d1605a",
   "metadata": {},
   "outputs": [],
   "source": [
    "# Calculating LY for comparison with 2PAC measurement\n",
    "print( 'lower bound on LY for TPB:', 40*1*calc_wavelength_dependent_LY(wavelength_vector, E_TPB_uniform, PDE_uniform, 0.01176, FF_sys, R_values_uniform, R_Wall_TPB_uniform*0.988))"
   ]
  },
  {
   "cell_type": "code",
   "execution_count": null,
   "id": "196f897a-e751-4c09-8066-167c9f8cb717",
   "metadata": {},
   "outputs": [],
   "source": [
    "print('Upper bond on LY for TPB:', 40*1*calc_wavelength_dependent_LY(wavelength_vector, E_TPB_uniform, PDE_uniform, 0.01176, FF_sys, R_values_uniform, R_Wall_TPB_uniform*1.00))"
   ]
  },
  {
   "cell_type": "markdown",
   "id": "b3403995-cd8f-49f0-b9df-3ae70be58dbf",
   "metadata": {},
   "source": [
    "<h2 style = 'color: #ff00ff'> \n",
    "    TPB results from paper\n",
    "</h2>\n",
    "<body>\n",
    "<span style = 'color : yellow'> Simulation </span>: 2.6 +- 0.5 pe/keV \n",
    "    <br>\n",
    "<span style = 'color : yellow'>Measurement </span>: 2.50 +- 0.05 pe/keV\n",
    "</body>"
   ]
  },
  {
   "cell_type": "code",
   "execution_count": null,
   "id": "f6cde1a5-c9c8-4f0c-8472-c211eea7a08f",
   "metadata": {},
   "outputs": [],
   "source": [
    "LY_PEN_2PAC_ref"
   ]
  },
  {
   "cell_type": "code",
   "execution_count": null,
   "id": "29f6fe98-e620-434a-a33e-4288b8b18b89",
   "metadata": {},
   "outputs": [],
   "source": [
    "LY_TPB_2PAC_ref"
   ]
  },
  {
   "cell_type": "code",
   "execution_count": null,
   "id": "5f3d5910-c3a3-444f-82aa-61ef7556fbc4",
   "metadata": {},
   "outputs": [],
   "source": [
    "# plt.figure('Compare_plots')\n",
    "# plt.subplot(2,2, 1)\n",
    "# plt.show('temp0001')\n",
    "# plt.subplot(2,2, 1)\n",
    "# plt.show('temp0003')\n",
    "#### learn either plotly or seaborn or something\n",
    "#### use object oriented plots"
   ]
  },
  {
   "cell_type": "code",
   "execution_count": null,
   "id": "8268c6c1-89ce-4787-b3d3-5e7d1fb2d92b",
   "metadata": {},
   "outputs": [],
   "source": [
    "## check values"
   ]
  }
 ],
 "metadata": {
  "kernelspec": {
   "display_name": "Python 3",
   "language": "python",
   "name": "python3"
  },
  "language_info": {
   "codemirror_mode": {
    "name": "ipython",
    "version": 3
   },
   "file_extension": ".py",
   "mimetype": "text/x-python",
   "name": "python",
   "nbconvert_exporter": "python",
   "pygments_lexer": "ipython3",
   "version": "3.7.10"
  },
  "toc-autonumbering": false,
  "toc-showcode": false,
  "toc-showmarkdowntxt": false,
  "toc-showtags": false
 },
 "nbformat": 4,
 "nbformat_minor": 5
}
